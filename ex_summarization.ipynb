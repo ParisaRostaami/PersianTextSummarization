{
  "nbformat": 4,
  "nbformat_minor": 0,
  "metadata": {
    "colab": {
      "provenance": []
    },
    "kernelspec": {
      "name": "python3",
      "display_name": "Python 3"
    },
    "language_info": {
      "name": "python"
    }
  },
  "cells": [
    {
      "cell_type": "code",
      "execution_count": null,
      "metadata": {
        "colab": {
          "base_uri": "https://localhost:8080/"
        },
        "id": "oh_P9WKMIv5E",
        "outputId": "7d6c4d59-f9d4-4edc-f842-7072f1c8e8d1"
      },
      "outputs": [
        {
          "output_type": "stream",
          "name": "stdout",
          "text": [
            "Requirement already satisfied: bs4 in /usr/local/lib/python3.7/dist-packages (0.0.1)\n",
            "Requirement already satisfied: beautifulsoup4 in /usr/local/lib/python3.7/dist-packages (from bs4) (4.6.3)\n"
          ]
        }
      ],
      "source": [
        "!pip install bs4"
      ]
    },
    {
      "cell_type": "code",
      "source": [
        "import urllib.request\n",
        "import urllib . request as ur\n",
        "from bs4 import BeautifulSoup\n",
        "from urllib.parse import quote\n",
        "from nltk.tokenize import sent_tokenize,word_tokenize\n",
        "from heapq import nlargest\n",
        "from collections import defaultdict\n",
        "from nltk.probability import FreqDist"
      ],
      "metadata": {
        "id": "Ff0kaAu4LUg3"
      },
      "execution_count": null,
      "outputs": []
    },
    {
      "cell_type": "code",
      "source": [
        "text = \"مهندسی رایانه یا مهندسی کامپیوتر دانشی است مرکب از مباحث نرم‌افزار. این رشته برخلاف مهندسی نرم‌افزار با طراحی و توسعه و تولید سیستم‌های رایانه‌ای در هر دو شاخه سخت‌افزار و نرم‌افزار سر و کار دارد. مهندسی رایانه شاخه‌ای از مهندسی است که چندین زمینهٔ موردنیاز از علوم رایانه و الکترونیک را برای توسعه سخت‌افزار و نرم‌افزار رایانه ادغام می‌کند. مهندسان رایانه معمولاً علاوه بر مهندسی نرم‌افزار یا مهندسی الکترونیک رایانه در طراحی نرم‌افزار و سخت‌افزار مهارت دارند. مهندسان در طراحی بسیاری از سخت‌افزارها و نرم‌افزارهای محاسباتی، شامل طراحی ریزکنترلگرهای فردی، ریزپردازنده‌ها، رایانه‌های شخصی و ابررایانه‌ها و طراحی مدار مهارت دارند. این حوزه مهندسی افزون بر چگونگی کارکرد سیستم‌های رایانه‌ای، بر چگونگی کاربردی‌تر کردن آن نیز تمرکز دارد. وظایف معمول مهندسان رایانه شامل نوشتن نرم‌افزار و سیستم عامل برای میکروکنترلرهای جاسازی شده، طراحی تراشه‌های VLSI، طراحی سنسورهای آنالوگ، طراحی صفحات مدار و طراحی سیستم‌های عامل رایانه است. مهندسان رایانه نیز برای تحقیقات رباتیک مناسب هستند که به شدت بر استفاده از سیستم‌های کنترل و نظارت بر سیستم‌های الکتریکی مانند موتور، ارتباطات، و سنسورهای دیجیتال متکی هستند. در بسیاری از موسسات، دانشجویان مهندسی رایانه مجاز هستند تا زمینه‌های تحصیلات عالی را در سال‌های پایه و پایانی خود انتخاب کنند زیرا گستره وسیع دانش مورد استفاده در طراحی و کاربرد رایانه‌ها فراتر از دامنه تحصیلات تکمیلی است. سایر موسسات ممکن است نیاز به دانش آموزان مهندسی رایانه به عنوان تمرکز اصلی خود برای تکمیل یک یا دو سال مهندسی عمومی قبل از اعلان داشته باشند.\""
      ],
      "metadata": {
        "id": "8aW9BrjSIxDm"
      },
      "execution_count": null,
      "outputs": []
    },
    {
      "cell_type": "code",
      "source": [
        "import nltk\n",
        "nltk.download('punkt')\n",
        "sents = sent_tokenize(text)\n",
        "sents[:]"
      ],
      "metadata": {
        "id": "AZMOmiBwLyiS",
        "colab": {
          "base_uri": "https://localhost:8080/"
        },
        "outputId": "1d1a296e-1609-4e13-9849-356ec98b6185"
      },
      "execution_count": null,
      "outputs": [
        {
          "output_type": "stream",
          "name": "stdout",
          "text": [
            "[nltk_data] Downloading package punkt to /root/nltk_data...\n",
            "[nltk_data]   Package punkt is already up-to-date!\n"
          ]
        },
        {
          "output_type": "execute_result",
          "data": {
            "text/plain": [
              "['مهندسی رایانه یا مهندسی کامپیوتر دانشی است مرکب از مباحث نرم\\u200cافزار.',\n",
              " 'این رشته برخلاف مهندسی نرم\\u200cافزار با طراحی و توسعه و تولید سیستم\\u200cهای رایانه\\u200cای در هر دو شاخه سخت\\u200cافزار و نرم\\u200cافزار سر و کار دارد.',\n",
              " 'مهندسی رایانه شاخه\\u200cای از مهندسی است که چندین زمینهٔ موردنیاز از علوم رایانه و الکترونیک را برای توسعه سخت\\u200cافزار و نرم\\u200cافزار رایانه ادغام می\\u200cکند.',\n",
              " 'مهندسان رایانه معمولاً علاوه بر مهندسی نرم\\u200cافزار یا مهندسی الکترونیک رایانه در طراحی نرم\\u200cافزار و سخت\\u200cافزار مهارت دارند.',\n",
              " 'مهندسان در طراحی بسیاری از سخت\\u200cافزارها و نرم\\u200cافزارهای محاسباتی، شامل طراحی ریزکنترلگرهای فردی، ریزپردازنده\\u200cها، رایانه\\u200cهای شخصی و ابررایانه\\u200cها و طراحی مدار مهارت دارند.',\n",
              " 'این حوزه مهندسی افزون بر چگونگی کارکرد سیستم\\u200cهای رایانه\\u200cای، بر چگونگی کاربردی\\u200cتر کردن آن نیز تمرکز دارد.',\n",
              " 'وظایف معمول مهندسان رایانه شامل نوشتن نرم\\u200cافزار و سیستم عامل برای میکروکنترلرهای جاسازی شده، طراحی تراشه\\u200cهای VLSI، طراحی سنسورهای آنالوگ، طراحی صفحات مدار و طراحی سیستم\\u200cهای عامل رایانه است.',\n",
              " 'مهندسان رایانه نیز برای تحقیقات رباتیک مناسب هستند که به شدت بر استفاده از سیستم\\u200cهای کنترل و نظارت بر سیستم\\u200cهای الکتریکی مانند موتور، ارتباطات، و سنسورهای دیجیتال متکی هستند.',\n",
              " 'در بسیاری از موسسات، دانشجویان مهندسی رایانه مجاز هستند تا زمینه\\u200cهای تحصیلات عالی را در سال\\u200cهای پایه و پایانی خود انتخاب کنند زیرا گستره وسیع دانش مورد استفاده در طراحی و کاربرد رایانه\\u200cها فراتر از دامنه تحصیلات تکمیلی است.',\n",
              " 'سایر موسسات ممکن است نیاز به دانش آموزان مهندسی رایانه به عنوان تمرکز اصلی خود برای تکمیل یک یا دو سال مهندسی عمومی قبل از اعلان داشته باشند.']"
            ]
          },
          "metadata": {},
          "execution_count": 94
        }
      ]
    },
    {
      "cell_type": "code",
      "source": [
        "word_sent = word_tokenize(text)\n",
        "word_sent[:5]"
      ],
      "metadata": {
        "id": "vQ43HmfSLz44",
        "colab": {
          "base_uri": "https://localhost:8080/"
        },
        "outputId": "4956ffbb-6904-4040-ad98-c024fa56fc43"
      },
      "execution_count": null,
      "outputs": [
        {
          "output_type": "execute_result",
          "data": {
            "text/plain": [
              "['مهندسی', 'رایانه', 'یا', 'مهندسی', 'کامپیوتر']"
            ]
          },
          "metadata": {},
          "execution_count": 95
        }
      ]
    },
    {
      "cell_type": "code",
      "source": [
        "stopwords = []\n",
        "file = open('stopwords.txt', encoding = 'utf-8').read()\n",
        "[stopwords.append(x) for x in file.split()]\n",
        "_stopwords = set(stopwords)"
      ],
      "metadata": {
        "id": "vlTi5wh5L1PR"
      },
      "execution_count": null,
      "outputs": []
    },
    {
      "cell_type": "code",
      "source": [
        "word_sent = [word for word in word_sent if word not in _stopwords]"
      ],
      "metadata": {
        "id": "cEmHEqTiMSUf"
      },
      "execution_count": null,
      "outputs": []
    },
    {
      "cell_type": "code",
      "source": [
        "word_sent[:5]"
      ],
      "metadata": {
        "id": "IQpBOEIxMSzp",
        "colab": {
          "base_uri": "https://localhost:8080/"
        },
        "outputId": "53bebd96-7481-4e65-c64f-a8efea36221c"
      },
      "execution_count": null,
      "outputs": [
        {
          "output_type": "execute_result",
          "data": {
            "text/plain": [
              "['مهندسی', 'رایانه', 'مهندسی', 'کامپیوتر', 'دانشی']"
            ]
          },
          "metadata": {},
          "execution_count": 98
        }
      ]
    },
    {
      "cell_type": "code",
      "source": [
        "freq = FreqDist(word_sent)\n",
        "freq"
      ],
      "metadata": {
        "id": "Y6WWG8ByMU22",
        "colab": {
          "base_uri": "https://localhost:8080/"
        },
        "outputId": "16a53496-db8f-492a-8e53-79d9bd2bf6c4"
      },
      "execution_count": null,
      "outputs": [
        {
          "output_type": "execute_result",
          "data": {
            "text/plain": [
              "FreqDist({'VLSI،': 1,\n",
              "          'آموزان': 1,\n",
              "          'آنالوگ،': 1,\n",
              "          'ابررایانه\\u200cها': 1,\n",
              "          'ادغام': 1,\n",
              "          'ارتباطات،': 1,\n",
              "          'اصلی': 1,\n",
              "          'اعلان': 1,\n",
              "          'افزون': 1,\n",
              "          'الکترونیک': 2,\n",
              "          'الکتریکی': 1,\n",
              "          'انتخاب': 1,\n",
              "          'برخلاف': 1,\n",
              "          'تحصیلات': 2,\n",
              "          'تحقیقات': 1,\n",
              "          'تراشه\\u200cهای': 1,\n",
              "          'تمرکز': 2,\n",
              "          'توسعه': 2,\n",
              "          'تولید': 1,\n",
              "          'تکمیل': 1,\n",
              "          'تکمیلی': 1,\n",
              "          'جاسازی': 1,\n",
              "          'حوزه': 1,\n",
              "          'دامنه': 1,\n",
              "          'دانش': 2,\n",
              "          'دانشجویان': 1,\n",
              "          'دانشی': 1,\n",
              "          'دیجیتال': 1,\n",
              "          'رایانه': 11,\n",
              "          'رایانه\\u200cای': 1,\n",
              "          'رایانه\\u200cای،': 1,\n",
              "          'رایانه\\u200cها': 1,\n",
              "          'رایانه\\u200cهای': 1,\n",
              "          'رباتیک': 1,\n",
              "          'ریزپردازنده\\u200cها،': 1,\n",
              "          'ریزکنترلگرهای': 1,\n",
              "          'زمینهٔ': 1,\n",
              "          'زمینه\\u200cهای': 1,\n",
              "          'سال': 1,\n",
              "          'سال\\u200cهای': 1,\n",
              "          'سخت\\u200cافزار': 3,\n",
              "          'سخت\\u200cافزارها': 1,\n",
              "          'سنسورهای': 2,\n",
              "          'سیستم': 1,\n",
              "          'سیستم\\u200cهای': 5,\n",
              "          'شاخه': 1,\n",
              "          'شاخه\\u200cای': 1,\n",
              "          'شامل': 2,\n",
              "          'شخصی': 1,\n",
              "          'شده،': 1,\n",
              "          'صفحات': 1,\n",
              "          'طراحی': 10,\n",
              "          'عالی': 1,\n",
              "          'عامل': 2,\n",
              "          'علوم': 1,\n",
              "          'عمومی': 1,\n",
              "          'فراتر': 1,\n",
              "          'فردی،': 1,\n",
              "          'مباحث': 1,\n",
              "          'متکی': 1,\n",
              "          'مجاز': 1,\n",
              "          'محاسباتی،': 1,\n",
              "          'مدار': 2,\n",
              "          'مرکب': 1,\n",
              "          'معمول': 1,\n",
              "          'مناسب': 1,\n",
              "          'مهارت': 2,\n",
              "          'مهندسان': 4,\n",
              "          'مهندسی': 11,\n",
              "          'موتور،': 1,\n",
              "          'موردنیاز': 1,\n",
              "          'موسسات': 1,\n",
              "          'موسسات،': 1,\n",
              "          'میکروکنترلرهای': 1,\n",
              "          'می\\u200cکند': 1,\n",
              "          'نرم\\u200cافزار': 7,\n",
              "          'نرم\\u200cافزارهای': 1,\n",
              "          'نظارت': 1,\n",
              "          'نوشتن': 1,\n",
              "          'نیاز': 1,\n",
              "          'وسیع': 1,\n",
              "          'وظایف': 1,\n",
              "          'پایانی': 1,\n",
              "          'پایه': 1,\n",
              "          'چگونگی': 2,\n",
              "          'کار': 1,\n",
              "          'کاربرد': 1,\n",
              "          'کاربردی\\u200cتر': 1,\n",
              "          'کارکرد': 1,\n",
              "          'کامپیوتر': 1,\n",
              "          'کنترل': 1,\n",
              "          'گستره': 1})"
            ]
          },
          "metadata": {},
          "execution_count": 99
        }
      ]
    },
    {
      "cell_type": "code",
      "source": [
        "ranking = defaultdict(int)\n",
        "for i,sent in enumerate(sents):\n",
        "    for w in word_tokenize(sent):\n",
        "        if w in freq:\n",
        "            ranking[i] += freq[w]\n",
        "    # ranking[i] = ranking[i]/int(len(sent.split()))\n",
        "    ranking[i] /= len(word_tokenize(sent))\n"
      ],
      "metadata": {
        "id": "e9HRclp5MWVh"
      },
      "execution_count": null,
      "outputs": []
    },
    {
      "cell_type": "code",
      "source": [
        "ranking"
      ],
      "metadata": {
        "id": "BlzhXPrgMYgM",
        "colab": {
          "base_uri": "https://localhost:8080/"
        },
        "outputId": "929bc1f0-2c52-4120-b5ec-315a15fef6ec"
      },
      "execution_count": null,
      "outputs": [
        {
          "output_type": "execute_result",
          "data": {
            "text/plain": [
              "defaultdict(int,\n",
              "            {0: 3.6666666666666665,\n",
              "             1: 2.0,\n",
              "             2: 3.0,\n",
              "             3: 4.157894736842105,\n",
              "             4: 2.0416666666666665,\n",
              "             5: 1.5,\n",
              "             6: 3.3,\n",
              "             7: 1.2333333333333334,\n",
              "             8: 1.35,\n",
              "             9: 1.5517241379310345})"
            ]
          },
          "metadata": {},
          "execution_count": 101
        }
      ]
    },
    {
      "cell_type": "code",
      "source": [
        "ranking.get"
      ],
      "metadata": {
        "id": "ESAk20ltMZvH",
        "colab": {
          "base_uri": "https://localhost:8080/"
        },
        "outputId": "c489c069-7ad5-4289-a10a-b2a1db247351"
      },
      "execution_count": null,
      "outputs": [
        {
          "output_type": "execute_result",
          "data": {
            "text/plain": [
              "<function defaultdict.get>"
            ]
          },
          "metadata": {},
          "execution_count": 102
        }
      ]
    },
    {
      "cell_type": "code",
      "source": [
        "sents_idx = nlargest(3, ranking, key = ranking.get)\n",
        "sents_idx"
      ],
      "metadata": {
        "id": "xjsibt9nMcA8",
        "colab": {
          "base_uri": "https://localhost:8080/"
        },
        "outputId": "96a0967d-989e-44f5-a2c9-995799987e33"
      },
      "execution_count": null,
      "outputs": [
        {
          "output_type": "execute_result",
          "data": {
            "text/plain": [
              "[3, 0, 6]"
            ]
          },
          "metadata": {},
          "execution_count": 103
        }
      ]
    },
    {
      "cell_type": "code",
      "source": [
        "[sents[j] for j in sorted(sents_idx)]"
      ],
      "metadata": {
        "id": "uD-DVlfMMet7",
        "colab": {
          "base_uri": "https://localhost:8080/"
        },
        "outputId": "fa7adcbd-4b64-405c-dfb2-0383a31bf8f7"
      },
      "execution_count": null,
      "outputs": [
        {
          "output_type": "execute_result",
          "data": {
            "text/plain": [
              "['مهندسی رایانه یا مهندسی کامپیوتر دانشی است مرکب از مباحث نرم\\u200cافزار.',\n",
              " 'مهندسان رایانه معمولاً علاوه بر مهندسی نرم\\u200cافزار یا مهندسی الکترونیک رایانه در طراحی نرم\\u200cافزار و سخت\\u200cافزار مهارت دارند.',\n",
              " 'وظایف معمول مهندسان رایانه شامل نوشتن نرم\\u200cافزار و سیستم عامل برای میکروکنترلرهای جاسازی شده، طراحی تراشه\\u200cهای VLSI، طراحی سنسورهای آنالوگ، طراحی صفحات مدار و طراحی سیستم\\u200cهای عامل رایانه است.']"
            ]
          },
          "metadata": {},
          "execution_count": 104
        }
      ]
    },
    {
      "cell_type": "code",
      "source": [
        "def summarize(text, n):\n",
        "    sents = sent_tokenize(text)\n",
        "    \n",
        "    assert n <= len(sents)\n",
        "    word_sent = word_tokenize(text)    \n",
        "    word_sent=[word for word in word_sent if word not in _stopwords]\n",
        "    freq = FreqDist(word_sent)\n",
        "    \n",
        "    ranking = defaultdict(int)\n",
        "    \n",
        "    for i,sent in enumerate(sents):\n",
        "        for w in word_tokenize(sent):\n",
        "            if w in freq:\n",
        "                ranking[i] += freq[w]\n",
        "        ranking[i] /= len(word_tokenize(sent))\n",
        "        \n",
        "    sents_idx = nlargest(n, ranking, key=ranking.get)\n",
        "    return [sents[j] for j in sorted(sents_idx)]"
      ],
      "metadata": {
        "id": "BQ9lJTyNMgcR"
      },
      "execution_count": null,
      "outputs": []
    },
    {
      "cell_type": "code",
      "source": [
        "res = summarize(text,4)\n",
        "for sent in res:\n",
        "    print(sent)"
      ],
      "metadata": {
        "id": "12SKjmMqMie-",
        "colab": {
          "base_uri": "https://localhost:8080/"
        },
        "outputId": "a133c86c-318b-469a-b463-ed93fc0c1526"
      },
      "execution_count": null,
      "outputs": [
        {
          "output_type": "stream",
          "name": "stdout",
          "text": [
            "مهندسی رایانه یا مهندسی کامپیوتر دانشی است مرکب از مباحث نرم‌افزار.\n",
            "مهندسی رایانه شاخه‌ای از مهندسی است که چندین زمینهٔ موردنیاز از علوم رایانه و الکترونیک را برای توسعه سخت‌افزار و نرم‌افزار رایانه ادغام می‌کند.\n",
            "مهندسان رایانه معمولاً علاوه بر مهندسی نرم‌افزار یا مهندسی الکترونیک رایانه در طراحی نرم‌افزار و سخت‌افزار مهارت دارند.\n",
            "وظایف معمول مهندسان رایانه شامل نوشتن نرم‌افزار و سیستم عامل برای میکروکنترلرهای جاسازی شده، طراحی تراشه‌های VLSI، طراحی سنسورهای آنالوگ، طراحی صفحات مدار و طراحی سیستم‌های عامل رایانه است.\n"
          ]
        }
      ]
    },
    {
      "cell_type": "code",
      "source": [],
      "metadata": {
        "id": "9qN6h-oGMkcK"
      },
      "execution_count": null,
      "outputs": []
    }
  ]
}