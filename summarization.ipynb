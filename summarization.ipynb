{
  "cells": [
    {
      "cell_type": "code",
      "execution_count": null,
      "metadata": {
        "id": "8uyiSn42tIA7"
      },
      "outputs": [],
      "source": [
        "import numpy as np\n",
        "import pandas as pd\n",
        "from IPython import display\n",
        "from sklearn.model_selection import train_test_split\n",
        "import tensorflow as tf "
      ]
    },
    {
      "cell_type": "code",
      "execution_count": null,
      "metadata": {
        "colab": {
          "base_uri": "https://localhost:8080/"
        },
        "id": "HBYIP3ks0sHa",
        "outputId": "90630c8e-145e-4f6b-b668-7d8c84748e54"
      },
      "outputs": [
        {
          "output_type": "stream",
          "name": "stdout",
          "text": [
            "Drive already mounted at /content/gdrive/; to attempt to forcibly remount, call drive.mount(\"/content/gdrive/\", force_remount=True).\n"
          ]
        }
      ],
      "source": [
        "from google.colab import drive\n",
        "drive.mount('/content/gdrive/')"
      ]
    },
    {
      "cell_type": "code",
      "execution_count": null,
      "metadata": {
        "colab": {
          "base_uri": "https://localhost:8080/"
        },
        "id": "MV7bBYSMqeXH",
        "outputId": "796d432d-f14f-4fe6-dc89-70fc91d28885"
      },
      "outputs": [
        {
          "output_type": "stream",
          "name": "stdout",
          "text": [
            "pn-summary\n"
          ]
        }
      ],
      "source": [
        "!ls"
      ]
    },
    {
      "cell_type": "code",
      "execution_count": null,
      "metadata": {
        "colab": {
          "base_uri": "https://localhost:8080/"
        },
        "id": "T7tEapxsqigO",
        "outputId": "917208cd-1e4e-48dd-c511-ee1065f95a4e"
      },
      "outputs": [
        {
          "output_type": "stream",
          "name": "stdout",
          "text": [
            "/content/gdrive/MyDrive/summary\n"
          ]
        }
      ],
      "source": [
        "%cd /content/gdrive/MyDrive/summary/"
      ]
    },
    {
      "cell_type": "code",
      "execution_count": null,
      "metadata": {
        "colab": {
          "base_uri": "https://localhost:8080/",
          "height": 371
        },
        "id": "qDojtS4OqidQ",
        "outputId": "4263b242-7b99-4f77-c5b3-170d78d7e43d"
      },
      "outputs": [
        {
          "output_type": "execute_result",
          "data": {
            "text/html": [
              "\n",
              "  <div id=\"df-718a3cc8-b27d-491f-9d13-ce03d415f076\">\n",
              "    <div class=\"colab-df-container\">\n",
              "      <div>\n",
              "<style scoped>\n",
              "    .dataframe tbody tr th:only-of-type {\n",
              "        vertical-align: middle;\n",
              "    }\n",
              "\n",
              "    .dataframe tbody tr th {\n",
              "        vertical-align: top;\n",
              "    }\n",
              "\n",
              "    .dataframe thead th {\n",
              "        text-align: right;\n",
              "    }\n",
              "</style>\n",
              "<table border=\"1\" class=\"dataframe\">\n",
              "  <thead>\n",
              "    <tr style=\"text-align: right;\">\n",
              "      <th></th>\n",
              "      <th>id</th>\n",
              "      <th>title</th>\n",
              "      <th>article</th>\n",
              "      <th>summary</th>\n",
              "      <th>category</th>\n",
              "      <th>categories</th>\n",
              "      <th>network</th>\n",
              "      <th>link</th>\n",
              "    </tr>\n",
              "  </thead>\n",
              "  <tbody>\n",
              "    <tr>\n",
              "      <th>0</th>\n",
              "      <td>738e296491f8b24c5aa63e9829fd249fb4428a66</td>\n",
              "      <td>مدیریت فروش نفت در دوران تحریم هوشمندانه عمل کرد</td>\n",
              "      <td>به گزارش شانا، علی کاردر امروز (۲۷ دی ماه) در ...</td>\n",
              "      <td>مدیرعامل شرکت ملی نفت، عملکرد مدیریت امور بین‎...</td>\n",
              "      <td>Oil-Energy</td>\n",
              "      <td>نفت</td>\n",
              "      <td>Shana</td>\n",
              "      <td>https://www.shana.ir/news/275284/%D9%85%D8%AF%...</td>\n",
              "    </tr>\n",
              "    <tr>\n",
              "      <th>1</th>\n",
              "      <td>00fa692a178a2454419284199df6b6690a75ade0</td>\n",
              "      <td>سبد محصولات پتروشیمی متنوع می‌شود</td>\n",
              "      <td>به گزارش شانا به نقل از شرکت ملی صنایع پتروشیم...</td>\n",
              "      <td>سرپرست مدیریت برنامه‌ریزی و توسعه شرکت ملی صنا...</td>\n",
              "      <td>Oil-Energy</td>\n",
              "      <td>پتروشیمی</td>\n",
              "      <td>Shana</td>\n",
              "      <td>https://www.shana.ir/news/293940/%D8%B3%D8%A8%...</td>\n",
              "    </tr>\n",
              "    <tr>\n",
              "      <th>2</th>\n",
              "      <td>1bdb42b53c080b36318b82051edacb5c8f61f6a2</td>\n",
              "      <td>معرفی گوگرد بنتونیتی پالایشگاه خانگیران در نما...</td>\n",
              "      <td>به گزارش شانا به نقل از شرکت پالایش گاز شهید ه...</td>\n",
              "      <td>پالایشگاه گاز خانگیران با هدف معرفی گوگرد بنتو...</td>\n",
              "      <td>Oil-Energy</td>\n",
              "      <td>گاز</td>\n",
              "      <td>Shana</td>\n",
              "      <td>https://www.shana.ir/news/292952/%D9%85%D8%B9%...</td>\n",
              "    </tr>\n",
              "    <tr>\n",
              "      <th>3</th>\n",
              "      <td>73ef47636beaf86610695f62716da113624ed315</td>\n",
              "      <td>روند عمرانی شیراز با فروکش کردن کرونا عادی می‌شود</td>\n",
              "      <td>به گزارش خبرنگار ایمنا، سعید نظری در صفحه اینس...</td>\n",
              "      <td>سخنگوی شورای شهر شیراز گفت: روند عمرانی و شهرس...</td>\n",
              "      <td>Local</td>\n",
              "      <td>پارلمان شهری</td>\n",
              "      <td>Imna</td>\n",
              "      <td>https://www.imna.ir/news/416660/%D8%B1%D9%88%D...</td>\n",
              "    </tr>\n",
              "    <tr>\n",
              "      <th>4</th>\n",
              "      <td>0c45a2e8b760cb6779a8be426f0075893e4e8b44</td>\n",
              "      <td>قدردانی از اقدام ایثارگرانه نیروی حراست در اطف...</td>\n",
              "      <td>به گزارش شانا، سیدباقر مرتضوی، مشاور وزیر نفت ...</td>\n",
              "      <td>مشاور وزیر نفت و مدیرکل اچ اس یی و پدافند غیرع...</td>\n",
              "      <td>Oil-Energy</td>\n",
              "      <td>گاز</td>\n",
              "      <td>Shana</td>\n",
              "      <td>https://www.shana.ir/news/277191/%D9%82%D8%AF%...</td>\n",
              "    </tr>\n",
              "  </tbody>\n",
              "</table>\n",
              "</div>\n",
              "      <button class=\"colab-df-convert\" onclick=\"convertToInteractive('df-718a3cc8-b27d-491f-9d13-ce03d415f076')\"\n",
              "              title=\"Convert this dataframe to an interactive table.\"\n",
              "              style=\"display:none;\">\n",
              "        \n",
              "  <svg xmlns=\"http://www.w3.org/2000/svg\" height=\"24px\"viewBox=\"0 0 24 24\"\n",
              "       width=\"24px\">\n",
              "    <path d=\"M0 0h24v24H0V0z\" fill=\"none\"/>\n",
              "    <path d=\"M18.56 5.44l.94 2.06.94-2.06 2.06-.94-2.06-.94-.94-2.06-.94 2.06-2.06.94zm-11 1L8.5 8.5l.94-2.06 2.06-.94-2.06-.94L8.5 2.5l-.94 2.06-2.06.94zm10 10l.94 2.06.94-2.06 2.06-.94-2.06-.94-.94-2.06-.94 2.06-2.06.94z\"/><path d=\"M17.41 7.96l-1.37-1.37c-.4-.4-.92-.59-1.43-.59-.52 0-1.04.2-1.43.59L10.3 9.45l-7.72 7.72c-.78.78-.78 2.05 0 2.83L4 21.41c.39.39.9.59 1.41.59.51 0 1.02-.2 1.41-.59l7.78-7.78 2.81-2.81c.8-.78.8-2.07 0-2.86zM5.41 20L4 18.59l7.72-7.72 1.47 1.35L5.41 20z\"/>\n",
              "  </svg>\n",
              "      </button>\n",
              "      \n",
              "  <style>\n",
              "    .colab-df-container {\n",
              "      display:flex;\n",
              "      flex-wrap:wrap;\n",
              "      gap: 12px;\n",
              "    }\n",
              "\n",
              "    .colab-df-convert {\n",
              "      background-color: #E8F0FE;\n",
              "      border: none;\n",
              "      border-radius: 50%;\n",
              "      cursor: pointer;\n",
              "      display: none;\n",
              "      fill: #1967D2;\n",
              "      height: 32px;\n",
              "      padding: 0 0 0 0;\n",
              "      width: 32px;\n",
              "    }\n",
              "\n",
              "    .colab-df-convert:hover {\n",
              "      background-color: #E2EBFA;\n",
              "      box-shadow: 0px 1px 2px rgba(60, 64, 67, 0.3), 0px 1px 3px 1px rgba(60, 64, 67, 0.15);\n",
              "      fill: #174EA6;\n",
              "    }\n",
              "\n",
              "    [theme=dark] .colab-df-convert {\n",
              "      background-color: #3B4455;\n",
              "      fill: #D2E3FC;\n",
              "    }\n",
              "\n",
              "    [theme=dark] .colab-df-convert:hover {\n",
              "      background-color: #434B5C;\n",
              "      box-shadow: 0px 1px 3px 1px rgba(0, 0, 0, 0.15);\n",
              "      filter: drop-shadow(0px 1px 2px rgba(0, 0, 0, 0.3));\n",
              "      fill: #FFFFFF;\n",
              "    }\n",
              "  </style>\n",
              "\n",
              "      <script>\n",
              "        const buttonEl =\n",
              "          document.querySelector('#df-718a3cc8-b27d-491f-9d13-ce03d415f076 button.colab-df-convert');\n",
              "        buttonEl.style.display =\n",
              "          google.colab.kernel.accessAllowed ? 'block' : 'none';\n",
              "\n",
              "        async function convertToInteractive(key) {\n",
              "          const element = document.querySelector('#df-718a3cc8-b27d-491f-9d13-ce03d415f076');\n",
              "          const dataTable =\n",
              "            await google.colab.kernel.invokeFunction('convertToInteractive',\n",
              "                                                     [key], {});\n",
              "          if (!dataTable) return;\n",
              "\n",
              "          const docLinkHtml = 'Like what you see? Visit the ' +\n",
              "            '<a target=\"_blank\" href=https://colab.research.google.com/notebooks/data_table.ipynb>data table notebook</a>'\n",
              "            + ' to learn more about interactive tables.';\n",
              "          element.innerHTML = '';\n",
              "          dataTable['output_type'] = 'display_data';\n",
              "          await google.colab.output.renderOutput(dataTable, element);\n",
              "          const docLink = document.createElement('div');\n",
              "          docLink.innerHTML = docLinkHtml;\n",
              "          element.appendChild(docLink);\n",
              "        }\n",
              "      </script>\n",
              "    </div>\n",
              "  </div>\n",
              "  "
            ],
            "text/plain": [
              "                                         id  ...                                               link\n",
              "0  738e296491f8b24c5aa63e9829fd249fb4428a66  ...  https://www.shana.ir/news/275284/%D9%85%D8%AF%...\n",
              "1  00fa692a178a2454419284199df6b6690a75ade0  ...  https://www.shana.ir/news/293940/%D8%B3%D8%A8%...\n",
              "2  1bdb42b53c080b36318b82051edacb5c8f61f6a2  ...  https://www.shana.ir/news/292952/%D9%85%D8%B9%...\n",
              "3  73ef47636beaf86610695f62716da113624ed315  ...  https://www.imna.ir/news/416660/%D8%B1%D9%88%D...\n",
              "4  0c45a2e8b760cb6779a8be426f0075893e4e8b44  ...  https://www.shana.ir/news/277191/%D9%82%D8%AF%...\n",
              "\n",
              "[5 rows x 8 columns]"
            ]
          },
          "metadata": {},
          "execution_count": 123
        }
      ],
      "source": [
        "train = pd.read_csv('pn_summary_train.csv' , sep='\\t')\n",
        "train.head()"
      ]
    },
    {
      "cell_type": "code",
      "execution_count": null,
      "metadata": {
        "colab": {
          "base_uri": "https://localhost:8080/"
        },
        "id": "Q7T3dUYXqiah",
        "outputId": "a2f32599-3f5f-4694-d51c-9bb572ebee42"
      },
      "outputs": [
        {
          "output_type": "execute_result",
          "data": {
            "text/plain": [
              "(82022, 8)"
            ]
          },
          "metadata": {},
          "execution_count": 6
        }
      ],
      "source": [
        "train.shape"
      ]
    },
    {
      "cell_type": "code",
      "execution_count": null,
      "metadata": {
        "id": "rO1iPIeeqiRq"
      },
      "outputs": [],
      "source": [
        "train = train[:]"
      ]
    },
    {
      "cell_type": "code",
      "execution_count": null,
      "metadata": {
        "colab": {
          "base_uri": "https://localhost:8080/",
          "height": 371
        },
        "id": "d08tRG7SqiD5",
        "outputId": "a263c754-7e09-49dc-ab0a-790a0170c603"
      },
      "outputs": [
        {
          "output_type": "execute_result",
          "data": {
            "text/html": [
              "\n",
              "  <div id=\"df-29c821ab-9380-4d01-b3fb-8fb163790cbb\">\n",
              "    <div class=\"colab-df-container\">\n",
              "      <div>\n",
              "<style scoped>\n",
              "    .dataframe tbody tr th:only-of-type {\n",
              "        vertical-align: middle;\n",
              "    }\n",
              "\n",
              "    .dataframe tbody tr th {\n",
              "        vertical-align: top;\n",
              "    }\n",
              "\n",
              "    .dataframe thead th {\n",
              "        text-align: right;\n",
              "    }\n",
              "</style>\n",
              "<table border=\"1\" class=\"dataframe\">\n",
              "  <thead>\n",
              "    <tr style=\"text-align: right;\">\n",
              "      <th></th>\n",
              "      <th>id</th>\n",
              "      <th>title</th>\n",
              "      <th>article</th>\n",
              "      <th>summary</th>\n",
              "      <th>category</th>\n",
              "      <th>categories</th>\n",
              "      <th>network</th>\n",
              "      <th>link</th>\n",
              "    </tr>\n",
              "  </thead>\n",
              "  <tbody>\n",
              "    <tr>\n",
              "      <th>0</th>\n",
              "      <td>738e296491f8b24c5aa63e9829fd249fb4428a66</td>\n",
              "      <td>مدیریت فروش نفت در دوران تحریم هوشمندانه عمل کرد</td>\n",
              "      <td>به گزارش شانا، علی کاردر امروز (۲۷ دی ماه) در ...</td>\n",
              "      <td>مدیرعامل شرکت ملی نفت، عملکرد مدیریت امور بین‎...</td>\n",
              "      <td>Oil-Energy</td>\n",
              "      <td>نفت</td>\n",
              "      <td>Shana</td>\n",
              "      <td>https://www.shana.ir/news/275284/%D9%85%D8%AF%...</td>\n",
              "    </tr>\n",
              "    <tr>\n",
              "      <th>1</th>\n",
              "      <td>00fa692a178a2454419284199df6b6690a75ade0</td>\n",
              "      <td>سبد محصولات پتروشیمی متنوع می‌شود</td>\n",
              "      <td>به گزارش شانا به نقل از شرکت ملی صنایع پتروشیم...</td>\n",
              "      <td>سرپرست مدیریت برنامه‌ریزی و توسعه شرکت ملی صنا...</td>\n",
              "      <td>Oil-Energy</td>\n",
              "      <td>پتروشیمی</td>\n",
              "      <td>Shana</td>\n",
              "      <td>https://www.shana.ir/news/293940/%D8%B3%D8%A8%...</td>\n",
              "    </tr>\n",
              "    <tr>\n",
              "      <th>2</th>\n",
              "      <td>1bdb42b53c080b36318b82051edacb5c8f61f6a2</td>\n",
              "      <td>معرفی گوگرد بنتونیتی پالایشگاه خانگیران در نما...</td>\n",
              "      <td>به گزارش شانا به نقل از شرکت پالایش گاز شهید ه...</td>\n",
              "      <td>پالایشگاه گاز خانگیران با هدف معرفی گوگرد بنتو...</td>\n",
              "      <td>Oil-Energy</td>\n",
              "      <td>گاز</td>\n",
              "      <td>Shana</td>\n",
              "      <td>https://www.shana.ir/news/292952/%D9%85%D8%B9%...</td>\n",
              "    </tr>\n",
              "    <tr>\n",
              "      <th>3</th>\n",
              "      <td>73ef47636beaf86610695f62716da113624ed315</td>\n",
              "      <td>روند عمرانی شیراز با فروکش کردن کرونا عادی می‌شود</td>\n",
              "      <td>به گزارش خبرنگار ایمنا، سعید نظری در صفحه اینس...</td>\n",
              "      <td>سخنگوی شورای شهر شیراز گفت: روند عمرانی و شهرس...</td>\n",
              "      <td>Local</td>\n",
              "      <td>پارلمان شهری</td>\n",
              "      <td>Imna</td>\n",
              "      <td>https://www.imna.ir/news/416660/%D8%B1%D9%88%D...</td>\n",
              "    </tr>\n",
              "    <tr>\n",
              "      <th>4</th>\n",
              "      <td>0c45a2e8b760cb6779a8be426f0075893e4e8b44</td>\n",
              "      <td>قدردانی از اقدام ایثارگرانه نیروی حراست در اطف...</td>\n",
              "      <td>به گزارش شانا، سیدباقر مرتضوی، مشاور وزیر نفت ...</td>\n",
              "      <td>مشاور وزیر نفت و مدیرکل اچ اس یی و پدافند غیرع...</td>\n",
              "      <td>Oil-Energy</td>\n",
              "      <td>گاز</td>\n",
              "      <td>Shana</td>\n",
              "      <td>https://www.shana.ir/news/277191/%D9%82%D8%AF%...</td>\n",
              "    </tr>\n",
              "  </tbody>\n",
              "</table>\n",
              "</div>\n",
              "      <button class=\"colab-df-convert\" onclick=\"convertToInteractive('df-29c821ab-9380-4d01-b3fb-8fb163790cbb')\"\n",
              "              title=\"Convert this dataframe to an interactive table.\"\n",
              "              style=\"display:none;\">\n",
              "        \n",
              "  <svg xmlns=\"http://www.w3.org/2000/svg\" height=\"24px\"viewBox=\"0 0 24 24\"\n",
              "       width=\"24px\">\n",
              "    <path d=\"M0 0h24v24H0V0z\" fill=\"none\"/>\n",
              "    <path d=\"M18.56 5.44l.94 2.06.94-2.06 2.06-.94-2.06-.94-.94-2.06-.94 2.06-2.06.94zm-11 1L8.5 8.5l.94-2.06 2.06-.94-2.06-.94L8.5 2.5l-.94 2.06-2.06.94zm10 10l.94 2.06.94-2.06 2.06-.94-2.06-.94-.94-2.06-.94 2.06-2.06.94z\"/><path d=\"M17.41 7.96l-1.37-1.37c-.4-.4-.92-.59-1.43-.59-.52 0-1.04.2-1.43.59L10.3 9.45l-7.72 7.72c-.78.78-.78 2.05 0 2.83L4 21.41c.39.39.9.59 1.41.59.51 0 1.02-.2 1.41-.59l7.78-7.78 2.81-2.81c.8-.78.8-2.07 0-2.86zM5.41 20L4 18.59l7.72-7.72 1.47 1.35L5.41 20z\"/>\n",
              "  </svg>\n",
              "      </button>\n",
              "      \n",
              "  <style>\n",
              "    .colab-df-container {\n",
              "      display:flex;\n",
              "      flex-wrap:wrap;\n",
              "      gap: 12px;\n",
              "    }\n",
              "\n",
              "    .colab-df-convert {\n",
              "      background-color: #E8F0FE;\n",
              "      border: none;\n",
              "      border-radius: 50%;\n",
              "      cursor: pointer;\n",
              "      display: none;\n",
              "      fill: #1967D2;\n",
              "      height: 32px;\n",
              "      padding: 0 0 0 0;\n",
              "      width: 32px;\n",
              "    }\n",
              "\n",
              "    .colab-df-convert:hover {\n",
              "      background-color: #E2EBFA;\n",
              "      box-shadow: 0px 1px 2px rgba(60, 64, 67, 0.3), 0px 1px 3px 1px rgba(60, 64, 67, 0.15);\n",
              "      fill: #174EA6;\n",
              "    }\n",
              "\n",
              "    [theme=dark] .colab-df-convert {\n",
              "      background-color: #3B4455;\n",
              "      fill: #D2E3FC;\n",
              "    }\n",
              "\n",
              "    [theme=dark] .colab-df-convert:hover {\n",
              "      background-color: #434B5C;\n",
              "      box-shadow: 0px 1px 3px 1px rgba(0, 0, 0, 0.15);\n",
              "      filter: drop-shadow(0px 1px 2px rgba(0, 0, 0, 0.3));\n",
              "      fill: #FFFFFF;\n",
              "    }\n",
              "  </style>\n",
              "\n",
              "      <script>\n",
              "        const buttonEl =\n",
              "          document.querySelector('#df-29c821ab-9380-4d01-b3fb-8fb163790cbb button.colab-df-convert');\n",
              "        buttonEl.style.display =\n",
              "          google.colab.kernel.accessAllowed ? 'block' : 'none';\n",
              "\n",
              "        async function convertToInteractive(key) {\n",
              "          const element = document.querySelector('#df-29c821ab-9380-4d01-b3fb-8fb163790cbb');\n",
              "          const dataTable =\n",
              "            await google.colab.kernel.invokeFunction('convertToInteractive',\n",
              "                                                     [key], {});\n",
              "          if (!dataTable) return;\n",
              "\n",
              "          const docLinkHtml = 'Like what you see? Visit the ' +\n",
              "            '<a target=\"_blank\" href=https://colab.research.google.com/notebooks/data_table.ipynb>data table notebook</a>'\n",
              "            + ' to learn more about interactive tables.';\n",
              "          element.innerHTML = '';\n",
              "          dataTable['output_type'] = 'display_data';\n",
              "          await google.colab.output.renderOutput(dataTable, element);\n",
              "          const docLink = document.createElement('div');\n",
              "          docLink.innerHTML = docLinkHtml;\n",
              "          element.appendChild(docLink);\n",
              "        }\n",
              "      </script>\n",
              "    </div>\n",
              "  </div>\n",
              "  "
            ],
            "text/plain": [
              "                                         id  ...                                               link\n",
              "0  738e296491f8b24c5aa63e9829fd249fb4428a66  ...  https://www.shana.ir/news/275284/%D9%85%D8%AF%...\n",
              "1  00fa692a178a2454419284199df6b6690a75ade0  ...  https://www.shana.ir/news/293940/%D8%B3%D8%A8%...\n",
              "2  1bdb42b53c080b36318b82051edacb5c8f61f6a2  ...  https://www.shana.ir/news/292952/%D9%85%D8%B9%...\n",
              "3  73ef47636beaf86610695f62716da113624ed315  ...  https://www.imna.ir/news/416660/%D8%B1%D9%88%D...\n",
              "4  0c45a2e8b760cb6779a8be426f0075893e4e8b44  ...  https://www.shana.ir/news/277191/%D9%82%D8%AF%...\n",
              "\n",
              "[5 rows x 8 columns]"
            ]
          },
          "metadata": {},
          "execution_count": 8
        }
      ],
      "source": [
        "train.head()"
      ]
    },
    {
      "cell_type": "code",
      "execution_count": null,
      "metadata": {
        "colab": {
          "base_uri": "https://localhost:8080/"
        },
        "id": "uZUUSVsxwkeY",
        "outputId": "0a067772-dd69-4442-d28a-e0376cffaa8b"
      },
      "outputs": [
        {
          "output_type": "stream",
          "name": "stdout",
          "text": [
            "مدیریت فروش نفت در دوران تحریم هوشمندانه عمل کرد\n"
          ]
        }
      ],
      "source": [
        "print(train.loc[0, 'title'])"
      ]
    },
    {
      "cell_type": "code",
      "execution_count": null,
      "metadata": {
        "colab": {
          "base_uri": "https://localhost:8080/"
        },
        "id": "Q_gCZSEPwkbP",
        "outputId": "7f003b74-4426-419c-cf4c-1d235315e44d"
      },
      "outputs": [
        {
          "output_type": "stream",
          "name": "stdout",
          "text": [
            "مدیرعامل شرکت ملی نفت، عملکرد مدیریت امور بین‎الملل این شرکت را در دوران تحریم بسیار هوشمندانه خواند و گفت: امور بین الملل در دوران پس از تحریم‎ها نیز می‌تواند نقش بزرگی در تسریع روند توسعه داشته باشد.\n"
          ]
        }
      ],
      "source": [
        "print(train.loc[0, 'summary'])"
      ]
    },
    {
      "cell_type": "code",
      "execution_count": null,
      "metadata": {
        "colab": {
          "base_uri": "https://localhost:8080/"
        },
        "id": "oymJob0TYFPu",
        "outputId": "523fceec-cf62-4295-d672-8f310dff7a05"
      },
      "outputs": [
        {
          "output_type": "stream",
          "name": "stdout",
          "text": [
            "به گزارش شانا، علی کاردر امروز (۲۷ دی ماه) در مراسم تودیع محسن قمصری، مدیر سابق امور بین الملل شرکت ملی نفت ایران و معارفه سعید خوشرو، مدیر جدید امور بین الملل این شرکت، گفت: مدیریت امور بین‎الملل به عنوان یکی از تاثیرگذارترین مدیریت‌های شرکت ملی نفت ایران در دوران تحریم‌های ظالمانه غرب علیه کشورمان بسیار هوشمندانه عمل کرد و ما توانستیم به خوبی از عهده تحریم‌ها برآییم. [n] وی افزود: مجموعه امور بین الملل در همه دوران‌ها با سختی‌ها و مشکلات بسیاری مواجه بوده است، به ویژه در دوره اخیر به دلیل مسائل پیرامون تحریم وظیفه سنگینی بر عهده داشت که با تدبیر مدیریت خوب این مجموعه سربلند از آن بیرون آمد. [n] کاردر با قدردانی از زحمات محسن قمصری، به سلامت مدیریت امور بین الملل این شرکت اشاره کرد و افزود: محوریت کار مدیریت اموربین الملل سلامت مالی بوده است. [n] وی بر ضرورت نهادینه سازی جوانگرایی در مدیریت شرکت ملی نفت ایران تاکید کرد و گفت: مدیریت امور بین الملل در پرورش نیروهای زبده و کارآزموده آنچنان قوی عملکرده است که برای انتخاب مدیر جدید مشکلی وجود نداشت. [n] کاردر، حرفه‎ای‎گری و کار استاندارد را از ویژگی‌های مدیران این مدیریت برشمرد و گفت: نگاه جامع، خلاقیت و نوآوری و بکارگیری نیروهای جوان باید همچنان مد نظر مدیریت جدید امور بین الملل شرکت ملی نفت ایران باشد.\n"
          ]
        }
      ],
      "source": [
        "print(train.loc[0, 'article'])"
      ]
    },
    {
      "cell_type": "code",
      "execution_count": null,
      "metadata": {
        "id": "Sqy4XVQIYaQU"
      },
      "outputs": [],
      "source": [
        "train = train[['summary','article']]"
      ]
    },
    {
      "cell_type": "code",
      "execution_count": null,
      "metadata": {
        "id": "haMB8YUyYael"
      },
      "outputs": [],
      "source": [
        "train['text_length'] = train['article'].str.count(' ')"
      ]
    },
    {
      "cell_type": "code",
      "execution_count": null,
      "metadata": {
        "colab": {
          "base_uri": "https://localhost:8080/"
        },
        "id": "RQ7VSFgZYbSm",
        "outputId": "05dfcc30-f693-4c64-d79a-d88ab089c30a"
      },
      "outputs": [
        {
          "output_type": "execute_result",
          "data": {
            "text/plain": [
              "count    82022.000000\n",
              "mean       320.666431\n",
              "std        230.043170\n",
              "min         89.000000\n",
              "25%        183.000000\n",
              "50%        253.000000\n",
              "75%        373.000000\n",
              "max       4976.000000\n",
              "Name: text_length, dtype: float64"
            ]
          },
          "metadata": {},
          "execution_count": 14
        }
      ],
      "source": [
        "train['text_length'].describe()"
      ]
    },
    {
      "cell_type": "code",
      "execution_count": null,
      "metadata": {
        "colab": {
          "base_uri": "https://localhost:8080/"
        },
        "id": "Yeq_4RJ8Yb70",
        "outputId": "c532e061-ebfb-431e-bb5a-c917df429cf2"
      },
      "outputs": [
        {
          "output_type": "execute_result",
          "data": {
            "text/plain": [
              "count    82022.000000\n",
              "mean        27.817854\n",
              "std         10.445086\n",
              "min          8.000000\n",
              "25%         20.000000\n",
              "50%         26.000000\n",
              "75%         33.000000\n",
              "max        159.000000\n",
              "Name: summary_length, dtype: float64"
            ]
          },
          "metadata": {},
          "execution_count": 15
        }
      ],
      "source": [
        "train['summary_length'] = train['summary'].str.count(' ')\n",
        "train['summary_length'].describe()"
      ]
    },
    {
      "cell_type": "code",
      "execution_count": null,
      "metadata": {
        "id": "Qkby703kYcHi"
      },
      "outputs": [],
      "source": [
        "train = train.loc[train['summary_length']<35]"
      ]
    },
    {
      "cell_type": "code",
      "execution_count": null,
      "metadata": {
        "id": "hEZXVXSiYcRl"
      },
      "outputs": [],
      "source": [
        "train = train.loc[train['text_length']<295]"
      ]
    },
    {
      "cell_type": "code",
      "execution_count": null,
      "metadata": {
        "colab": {
          "base_uri": "https://localhost:8080/"
        },
        "id": "zKSszYNMYchU",
        "outputId": "7d7141fd-bb6f-4507-d82c-a255ed8d08aa"
      },
      "outputs": [
        {
          "output_type": "stream",
          "name": "stdout",
          "text": [
            "(42314, 4)\n"
          ]
        }
      ],
      "source": [
        "print(train.shape)"
      ]
    },
    {
      "cell_type": "code",
      "execution_count": null,
      "metadata": {
        "id": "uwmdL06VYctM"
      },
      "outputs": [],
      "source": [
        "train['text_no_punctuation'] = train['article'].str.replace('[^\\w\\s]','')\n",
        "train['text_no_punctuation'] = train['text_no_punctuation'].str.replace('[^آا-ی]',' ')\n",
        "train['text_no_punctuation'] = train['text_no_punctuation'].str.replace('\\([^)]*\\)','')"
      ]
    },
    {
      "cell_type": "code",
      "execution_count": null,
      "metadata": {
        "id": "vR981tWWYc5p"
      },
      "outputs": [],
      "source": [
        "train['summary_no_punctuation'] =  '_start_' + ' ' +train['summary'].str.replace('[^\\w\\s]','')+ ' ' +'_end_'"
      ]
    },
    {
      "cell_type": "code",
      "execution_count": null,
      "metadata": {
        "colab": {
          "base_uri": "https://localhost:8080/",
          "height": 467
        },
        "id": "Iasn6p3zYdEs",
        "outputId": "a6586325-844f-4149-91ee-2423176024e9"
      },
      "outputs": [
        {
          "output_type": "execute_result",
          "data": {
            "text/html": [
              "\n",
              "  <div id=\"df-4ef615bf-34e3-47f8-8fde-b3bbd19346e1\">\n",
              "    <div class=\"colab-df-container\">\n",
              "      <div>\n",
              "<style scoped>\n",
              "    .dataframe tbody tr th:only-of-type {\n",
              "        vertical-align: middle;\n",
              "    }\n",
              "\n",
              "    .dataframe tbody tr th {\n",
              "        vertical-align: top;\n",
              "    }\n",
              "\n",
              "    .dataframe thead th {\n",
              "        text-align: right;\n",
              "    }\n",
              "</style>\n",
              "<table border=\"1\" class=\"dataframe\">\n",
              "  <thead>\n",
              "    <tr style=\"text-align: right;\">\n",
              "      <th></th>\n",
              "      <th>summary</th>\n",
              "      <th>article</th>\n",
              "      <th>text_length</th>\n",
              "      <th>summary_length</th>\n",
              "      <th>text_no_punctuation</th>\n",
              "      <th>summary_no_punctuation</th>\n",
              "    </tr>\n",
              "  </thead>\n",
              "  <tbody>\n",
              "    <tr>\n",
              "      <th>2</th>\n",
              "      <td>پالایشگاه گاز خانگیران با هدف معرفی گوگرد بنتو...</td>\n",
              "      <td>به گزارش شانا به نقل از شرکت پالایش گاز شهید ه...</td>\n",
              "      <td>291</td>\n",
              "      <td>21</td>\n",
              "      <td>به گزارش شانا به نقل از شرکت پالایش گاز شهید ه...</td>\n",
              "      <td>_start_ پالایشگاه گاز خانگیران با هدف معرفی گو...</td>\n",
              "    </tr>\n",
              "    <tr>\n",
              "      <th>3</th>\n",
              "      <td>سخنگوی شورای شهر شیراز گفت: روند عمرانی و شهرس...</td>\n",
              "      <td>به گزارش خبرنگار ایمنا، سعید نظری در صفحه اینس...</td>\n",
              "      <td>189</td>\n",
              "      <td>22</td>\n",
              "      <td>به گزارش خبرنگار ایمنا سعید نظری در صفحه اینست...</td>\n",
              "      <td>_start_ سخنگوی شورای شهر شیراز گفت روند عمرانی...</td>\n",
              "    </tr>\n",
              "    <tr>\n",
              "      <th>5</th>\n",
              "      <td>پالایشگاه سوم مجتمع گاز پارس جنوبی با هدف دست‌...</td>\n",
              "      <td>رئیس بهره برداری پالایشگاه سوم مجتمع پارس جنوب...</td>\n",
              "      <td>240</td>\n",
              "      <td>29</td>\n",
              "      <td>ر یس بهره برداری پالایشگاه سوم مجتمع پارس جنوب...</td>\n",
              "      <td>_start_ پالایشگاه سوم مجتمع گاز پارس جنوبی با ...</td>\n",
              "    </tr>\n",
              "    <tr>\n",
              "      <th>6</th>\n",
              "      <td>کرمانشاه-مدیرعامل شرکت پخش فرآورده‌های نفتی کر...</td>\n",
              "      <td>به گزارش بازار به نقل از روابط عمومی شرکت پخش ...</td>\n",
              "      <td>148</td>\n",
              "      <td>21</td>\n",
              "      <td>به گزارش بازار به نقل از روابط عمومی شرکت پخش ...</td>\n",
              "      <td>_start_ کرمانشاهمدیرعامل شرکت پخش فرآوردههای ن...</td>\n",
              "    </tr>\n",
              "    <tr>\n",
              "      <th>8</th>\n",
              "      <td>مدیر منطقهک شهرداری قزوین گفت: با اعتبار بیش ا...</td>\n",
              "      <td>به گزارش ایمنا، اصغر بهنام زاده اظهار کرد: عمل...</td>\n",
              "      <td>145</td>\n",
              "      <td>28</td>\n",
              "      <td>به گزارش ایمنا اصغر بهنام زاده اظهار کرد عملیا...</td>\n",
              "      <td>_start_ مدیر منطقهک شهرداری قزوین گفت با اعتبا...</td>\n",
              "    </tr>\n",
              "    <tr>\n",
              "      <th>...</th>\n",
              "      <td>...</td>\n",
              "      <td>...</td>\n",
              "      <td>...</td>\n",
              "      <td>...</td>\n",
              "      <td>...</td>\n",
              "      <td>...</td>\n",
              "    </tr>\n",
              "    <tr>\n",
              "      <th>82012</th>\n",
              "      <td>حجت‌الاسلام دکتر جواد اژه‌ای، نماینده رهبری در...</td>\n",
              "      <td>به گزارش خبرگزاری خبرآنلاین، حجت‌الاسلام دکتر ...</td>\n",
              "      <td>136</td>\n",
              "      <td>16</td>\n",
              "      <td>به گزارش خبرگزاری خبرآنلاین حجتالاسلام دکتر جو...</td>\n",
              "      <td>_start_ حجتالاسلام دکتر جواد اژهای نماینده رهب...</td>\n",
              "    </tr>\n",
              "    <tr>\n",
              "      <th>82013</th>\n",
              "      <td>کارشناس اداره پیش‌بینی هواشناسی استان اصفهان و...</td>\n",
              "      <td>حجت الله علی عسگریان در گفت وگو با خبرنگار ایم...</td>\n",
              "      <td>172</td>\n",
              "      <td>23</td>\n",
              "      <td>حجت الله علی عسگریان در گفت وگو با خبرنگار ایم...</td>\n",
              "      <td>_start_ کارشناس اداره پیشبینی هواشناسی استان ا...</td>\n",
              "    </tr>\n",
              "    <tr>\n",
              "      <th>82014</th>\n",
              "      <td>مدیرکل آژانس بین المللی انرژی اتمی امروز چهارش...</td>\n",
              "      <td>به گزارش خبرگزاری مهر، رافائل گروسی مدیرکل آژا...</td>\n",
              "      <td>222</td>\n",
              "      <td>25</td>\n",
              "      <td>به گزارش خبرگزاری مهر رافا ل گروسی مدیرکل آژان...</td>\n",
              "      <td>_start_ مدیرکل آژانس بین المللی انرژی اتمی امر...</td>\n",
              "    </tr>\n",
              "    <tr>\n",
              "      <th>82015</th>\n",
              "      <td>مدیرعامل شرکت گاز استان آذربایجان‌غربی از جذب ...</td>\n",
              "      <td>به گزارش شانا به نقل از شرکت ملی گاز ایران، عل...</td>\n",
              "      <td>180</td>\n",
              "      <td>18</td>\n",
              "      <td>به گزارش شانا به نقل از شرکت ملی گاز ایران علی...</td>\n",
              "      <td>_start_ مدیرعامل شرکت گاز استان آذربایجانغربی ...</td>\n",
              "    </tr>\n",
              "    <tr>\n",
              "      <th>82017</th>\n",
              "      <td>تیم‌های ملی هاکی زنان و مردان ایران در سومین د...</td>\n",
              "      <td>به گزارش ایمنا، تیم‌های ملی هاکی زنان و مردان ...</td>\n",
              "      <td>165</td>\n",
              "      <td>17</td>\n",
              "      <td>به گزارش ایمنا تیمهای ملی هاکی زنان و مردان ای...</td>\n",
              "      <td>_start_ تیمهای ملی هاکی زنان و مردان ایران در ...</td>\n",
              "    </tr>\n",
              "  </tbody>\n",
              "</table>\n",
              "<p>42314 rows × 6 columns</p>\n",
              "</div>\n",
              "      <button class=\"colab-df-convert\" onclick=\"convertToInteractive('df-4ef615bf-34e3-47f8-8fde-b3bbd19346e1')\"\n",
              "              title=\"Convert this dataframe to an interactive table.\"\n",
              "              style=\"display:none;\">\n",
              "        \n",
              "  <svg xmlns=\"http://www.w3.org/2000/svg\" height=\"24px\"viewBox=\"0 0 24 24\"\n",
              "       width=\"24px\">\n",
              "    <path d=\"M0 0h24v24H0V0z\" fill=\"none\"/>\n",
              "    <path d=\"M18.56 5.44l.94 2.06.94-2.06 2.06-.94-2.06-.94-.94-2.06-.94 2.06-2.06.94zm-11 1L8.5 8.5l.94-2.06 2.06-.94-2.06-.94L8.5 2.5l-.94 2.06-2.06.94zm10 10l.94 2.06.94-2.06 2.06-.94-2.06-.94-.94-2.06-.94 2.06-2.06.94z\"/><path d=\"M17.41 7.96l-1.37-1.37c-.4-.4-.92-.59-1.43-.59-.52 0-1.04.2-1.43.59L10.3 9.45l-7.72 7.72c-.78.78-.78 2.05 0 2.83L4 21.41c.39.39.9.59 1.41.59.51 0 1.02-.2 1.41-.59l7.78-7.78 2.81-2.81c.8-.78.8-2.07 0-2.86zM5.41 20L4 18.59l7.72-7.72 1.47 1.35L5.41 20z\"/>\n",
              "  </svg>\n",
              "      </button>\n",
              "      \n",
              "  <style>\n",
              "    .colab-df-container {\n",
              "      display:flex;\n",
              "      flex-wrap:wrap;\n",
              "      gap: 12px;\n",
              "    }\n",
              "\n",
              "    .colab-df-convert {\n",
              "      background-color: #E8F0FE;\n",
              "      border: none;\n",
              "      border-radius: 50%;\n",
              "      cursor: pointer;\n",
              "      display: none;\n",
              "      fill: #1967D2;\n",
              "      height: 32px;\n",
              "      padding: 0 0 0 0;\n",
              "      width: 32px;\n",
              "    }\n",
              "\n",
              "    .colab-df-convert:hover {\n",
              "      background-color: #E2EBFA;\n",
              "      box-shadow: 0px 1px 2px rgba(60, 64, 67, 0.3), 0px 1px 3px 1px rgba(60, 64, 67, 0.15);\n",
              "      fill: #174EA6;\n",
              "    }\n",
              "\n",
              "    [theme=dark] .colab-df-convert {\n",
              "      background-color: #3B4455;\n",
              "      fill: #D2E3FC;\n",
              "    }\n",
              "\n",
              "    [theme=dark] .colab-df-convert:hover {\n",
              "      background-color: #434B5C;\n",
              "      box-shadow: 0px 1px 3px 1px rgba(0, 0, 0, 0.15);\n",
              "      filter: drop-shadow(0px 1px 2px rgba(0, 0, 0, 0.3));\n",
              "      fill: #FFFFFF;\n",
              "    }\n",
              "  </style>\n",
              "\n",
              "      <script>\n",
              "        const buttonEl =\n",
              "          document.querySelector('#df-4ef615bf-34e3-47f8-8fde-b3bbd19346e1 button.colab-df-convert');\n",
              "        buttonEl.style.display =\n",
              "          google.colab.kernel.accessAllowed ? 'block' : 'none';\n",
              "\n",
              "        async function convertToInteractive(key) {\n",
              "          const element = document.querySelector('#df-4ef615bf-34e3-47f8-8fde-b3bbd19346e1');\n",
              "          const dataTable =\n",
              "            await google.colab.kernel.invokeFunction('convertToInteractive',\n",
              "                                                     [key], {});\n",
              "          if (!dataTable) return;\n",
              "\n",
              "          const docLinkHtml = 'Like what you see? Visit the ' +\n",
              "            '<a target=\"_blank\" href=https://colab.research.google.com/notebooks/data_table.ipynb>data table notebook</a>'\n",
              "            + ' to learn more about interactive tables.';\n",
              "          element.innerHTML = '';\n",
              "          dataTable['output_type'] = 'display_data';\n",
              "          await google.colab.output.renderOutput(dataTable, element);\n",
              "          const docLink = document.createElement('div');\n",
              "          docLink.innerHTML = docLinkHtml;\n",
              "          element.appendChild(docLink);\n",
              "        }\n",
              "      </script>\n",
              "    </div>\n",
              "  </div>\n",
              "  "
            ],
            "text/plain": [
              "                                                 summary  ...                             summary_no_punctuation\n",
              "2      پالایشگاه گاز خانگیران با هدف معرفی گوگرد بنتو...  ...  _start_ پالایشگاه گاز خانگیران با هدف معرفی گو...\n",
              "3      سخنگوی شورای شهر شیراز گفت: روند عمرانی و شهرس...  ...  _start_ سخنگوی شورای شهر شیراز گفت روند عمرانی...\n",
              "5      پالایشگاه سوم مجتمع گاز پارس جنوبی با هدف دست‌...  ...  _start_ پالایشگاه سوم مجتمع گاز پارس جنوبی با ...\n",
              "6      کرمانشاه-مدیرعامل شرکت پخش فرآورده‌های نفتی کر...  ...  _start_ کرمانشاهمدیرعامل شرکت پخش فرآوردههای ن...\n",
              "8      مدیر منطقهک شهرداری قزوین گفت: با اعتبار بیش ا...  ...  _start_ مدیر منطقهک شهرداری قزوین گفت با اعتبا...\n",
              "...                                                  ...  ...                                                ...\n",
              "82012  حجت‌الاسلام دکتر جواد اژه‌ای، نماینده رهبری در...  ...  _start_ حجتالاسلام دکتر جواد اژهای نماینده رهب...\n",
              "82013  کارشناس اداره پیش‌بینی هواشناسی استان اصفهان و...  ...  _start_ کارشناس اداره پیشبینی هواشناسی استان ا...\n",
              "82014  مدیرکل آژانس بین المللی انرژی اتمی امروز چهارش...  ...  _start_ مدیرکل آژانس بین المللی انرژی اتمی امر...\n",
              "82015  مدیرعامل شرکت گاز استان آذربایجان‌غربی از جذب ...  ...  _start_ مدیرعامل شرکت گاز استان آذربایجانغربی ...\n",
              "82017  تیم‌های ملی هاکی زنان و مردان ایران در سومین د...  ...  _start_ تیمهای ملی هاکی زنان و مردان ایران در ...\n",
              "\n",
              "[42314 rows x 6 columns]"
            ]
          },
          "metadata": {},
          "execution_count": 21
        }
      ],
      "source": [
        "train"
      ]
    },
    {
      "cell_type": "code",
      "execution_count": null,
      "metadata": {
        "colab": {
          "base_uri": "https://localhost:8080/"
        },
        "id": "luhSMsLBYdPI",
        "outputId": "be7141ca-c6c1-4a63-b3e5-e5d83307e730"
      },
      "outputs": [
        {
          "output_type": "stream",
          "name": "stdout",
          "text": [
            "_start_ پالایشگاه گاز خانگیران با هدف معرفی گوگرد بنتونیتی برای تولید کود مرغوب ویژه مصارف کشاورزی در شانزدهمین نمایشگاه کشاورزی اردبیل شرکت کرد _end_\n"
          ]
        }
      ],
      "source": [
        "print(train.loc[2, 'summary_no_punctuation'])"
      ]
    },
    {
      "cell_type": "code",
      "execution_count": null,
      "metadata": {
        "id": "8haLyBPyYdaH"
      },
      "outputs": [],
      "source": [
        "max_features1 = 5000\n",
        "maxlen1 = 295\n",
        "\n",
        "max_features2 = 5000\n",
        "maxlen2 = 35"
      ]
    },
    {
      "cell_type": "code",
      "execution_count": null,
      "metadata": {
        "id": "tnsND8O3Ydma"
      },
      "outputs": [],
      "source": [
        "tok1 = tf.keras.preprocessing.text.Tokenizer(num_words=max_features1) \n",
        "tok1.fit_on_texts(list(train['text_no_punctuation'].astype(str)))"
      ]
    },
    {
      "cell_type": "code",
      "execution_count": null,
      "metadata": {
        "id": "T2XBWYmtYdwo"
      },
      "outputs": [],
      "source": [
        "tf_train_text = tok1.texts_to_sequences(list(train['text_no_punctuation'].astype(str)))\n",
        "tf_train_text = tf.keras.preprocessing.sequence.pad_sequences(tf_train_text, maxlen=maxlen1)"
      ]
    },
    {
      "cell_type": "code",
      "execution_count": null,
      "metadata": {
        "id": "CyLZi3IPCmAi"
      },
      "outputs": [],
      "source": [
        "tok2 = tf.keras.preprocessing.text.Tokenizer(num_words=max_features2, filters = '*') \n",
        "tok2.fit_on_texts(list(train['summary_no_punctuation'].astype(str)))"
      ]
    },
    {
      "cell_type": "code",
      "execution_count": null,
      "metadata": {
        "id": "APFkDzbiCl8x"
      },
      "outputs": [],
      "source": [
        "tf_train_summary = tok2.texts_to_sequences(list(train['summary_no_punctuation'].astype(str)))\n",
        "tf_train_summary = tf.keras.preprocessing.sequence.pad_sequences(tf_train_summary, maxlen=maxlen2, padding ='post') "
      ]
    },
    {
      "cell_type": "code",
      "execution_count": null,
      "metadata": {
        "colab": {
          "base_uri": "https://localhost:8080/"
        },
        "id": "n_dUhgBrClfW",
        "outputId": "14d3891a-38dc-46a9-ccc9-9d54859ff0cb"
      },
      "outputs": [
        {
          "output_type": "execute_result",
          "data": {
            "text/plain": [
              "(42314, 35)"
            ]
          },
          "metadata": {},
          "execution_count": 28
        }
      ],
      "source": [
        "tf_train_summary.shape"
      ]
    },
    {
      "cell_type": "code",
      "execution_count": null,
      "metadata": {
        "colab": {
          "base_uri": "https://localhost:8080/"
        },
        "id": "UHYL_zpZClUz",
        "outputId": "f4c5ff1b-22d5-4ab4-9766-f80b3af5c34f"
      },
      "outputs": [
        {
          "output_type": "execute_result",
          "data": {
            "text/plain": [
              "array([[   1,  302,   22, ...,    0,    0,    0],\n",
              "       [   1,   70,   40, ...,    0,    0,    0],\n",
              "       [   1,  302,  435, ...,    0,    0,    0],\n",
              "       ...,\n",
              "       [   1,  193, 1088, ...,    0,    0,    0],\n",
              "       [   1,   63,   16, ...,    0,    0,    0],\n",
              "       [   1,  785,   35, ...,    0,    0,    0]], dtype=int32)"
            ]
          },
          "metadata": {},
          "execution_count": 29
        }
      ],
      "source": [
        "vectorized_summary = tf_train_summary\n",
        "vectorized_summary"
      ]
    },
    {
      "cell_type": "code",
      "execution_count": null,
      "metadata": {
        "id": "DZRixaa3Yd7i"
      },
      "outputs": [],
      "source": [
        "# For Decoder Input, you don't need the last word as that is only for prediction\n",
        "# when we are training using Teacher Forcing.\n",
        "decoder_input_data = vectorized_summary[:, :-1]"
      ]
    },
    {
      "cell_type": "code",
      "execution_count": null,
      "metadata": {
        "id": "4s-9s8tMDc_0"
      },
      "outputs": [],
      "source": [
        "# Decoder Target Data Is Ahead By 1 Time Step From Decoder Input Data (Teacher Forcing)\n",
        "decoder_target_data = vectorized_summary[:, 1:]"
      ]
    },
    {
      "cell_type": "code",
      "execution_count": null,
      "metadata": {
        "colab": {
          "base_uri": "https://localhost:8080/"
        },
        "id": "2hE9D5BbDc9N",
        "outputId": "0b3d1ac0-559b-4e89-fe63-e8d80387ed33"
      },
      "outputs": [
        {
          "output_type": "stream",
          "name": "stdout",
          "text": [
            "Shape of decoder input: (42314, 34)\n",
            "Shape of decoder target: (42314, 34)\n",
            "Shape of encoder input: (42314, 295)\n"
          ]
        }
      ],
      "source": [
        "print(f'Shape of decoder input: {decoder_input_data.shape}')\n",
        "print(f'Shape of decoder target: {decoder_target_data.shape}')\n",
        "\n",
        "vectorized_text = tf_train_text\n",
        "# Encoder input is simply the body of the issue text\n",
        "encoder_input_data = vectorized_text\n",
        "doc_length = encoder_input_data.shape[1]\n",
        "print(f'Shape of encoder input: {encoder_input_data.shape}')"
      ]
    },
    {
      "cell_type": "code",
      "execution_count": null,
      "metadata": {
        "id": "XphGztNTDc6V"
      },
      "outputs": [],
      "source": [
        "vocab_size_encoder = len(tok1.word_index) + 1\n",
        "vocab_size_decoder = len(tok2.word_index) + 1"
      ]
    },
    {
      "cell_type": "code",
      "execution_count": null,
      "metadata": {
        "id": "qoN4h7yoDc3_"
      },
      "outputs": [],
      "source": [
        "latent_dim = 50"
      ]
    },
    {
      "cell_type": "code",
      "execution_count": null,
      "metadata": {
        "colab": {
          "base_uri": "https://localhost:8080/"
        },
        "id": "Ppq7D3L2Dc1x",
        "outputId": "68c317a7-60c0-4ef6-d6c3-dbc5a1cbbfdd"
      },
      "outputs": [
        {
          "output_type": "stream",
          "name": "stderr",
          "text": [
            "/usr/local/lib/python3.7/dist-packages/keras/optimizer_v2/nadam.py:73: UserWarning: The `lr` argument is deprecated, use `learning_rate` instead.\n",
            "  super(Nadam, self).__init__(name, **kwargs)\n"
          ]
        }
      ],
      "source": [
        "encoder_inputs = tf.keras.Input(shape=(doc_length,), name='Encoder-Input')\n",
        "\n",
        "x = tf.keras.layers.Embedding(vocab_size_encoder,\n",
        "                              latent_dim, name='Body-Word-Embedding',\n",
        "                              mask_zero=False)(encoder_inputs)\n",
        "\n",
        "#Batch normalization is used so that the distribution of the inputs \n",
        "#to a specific layer doesn't change over time\n",
        "x = tf.keras.layers.BatchNormalization(name='Encoder-Batchnorm-1')(x)\n",
        "\n",
        "# We do not need the `encoder_output` just the hidden state.\n",
        "_, state_h = tf.keras.layers.GRU(latent_dim, return_state=True, name='Encoder-Last-GRU')(x)\n",
        "\n",
        "# Encapsulate the encoder as a separate entity so we can just \n",
        "#  encode without decoding if we want to.\n",
        "encoder_model = tf.keras.Model(inputs=encoder_inputs, outputs=state_h, name='Encoder-Model')\n",
        "\n",
        "seq2seq_encoder_out = encoder_model(encoder_inputs)\n",
        "\n",
        "########################\n",
        "#### Decoder Model ####\n",
        "decoder_inputs = tf.keras.Input(shape=(None,), name='Decoder-Input')# for teacher forcing\n",
        "\n",
        "# Word Embedding For Decoder \n",
        "dec_emb = tf.keras.layers.Embedding(vocab_size_decoder, latent_dim, \n",
        "                                    name='Decoder-Word-Embedding',\n",
        "                                    mask_zero=False)(decoder_inputs)\n",
        "#again batch normalization\n",
        "dec_bn = tf.keras.layers.BatchNormalization(name='Decoder-Batchnorm-1')(dec_emb)\n",
        "\n",
        "# Set up the decoder, using `decoder_state_input` as initial state.\n",
        "decoder_gru = tf.keras.layers.GRU(latent_dim, \n",
        "                                  return_state=True,\n",
        "                                  return_sequences=True,\n",
        "                                  name='Decoder-GRU')\n",
        "\n",
        "decoder_gru_output, _ = decoder_gru(dec_bn, initial_state=seq2seq_encoder_out)\n",
        "\n",
        "x = tf.keras.layers.BatchNormalization(name='Decoder-Batchnorm-2')(decoder_gru_output)\n",
        "\n",
        "# Dense layer for prediction\n",
        "decoder_dense = tf.keras.layers.Dense(vocab_size_decoder,\n",
        "                                      activation='softmax',\n",
        "                                      name='Final-Output-Dense')\n",
        "decoder_outputs = decoder_dense(x)\n",
        "\n",
        "########################\n",
        "#### Seq2Seq Model ####\n",
        "seq2seq_Model = tf.keras.Model([encoder_inputs, decoder_inputs], decoder_outputs)\n",
        "\n",
        "seq2seq_Model.compile(optimizer=tf.keras.optimizers.Nadam(lr=0.001), \n",
        "                      loss='sparse_categorical_crossentropy')"
      ]
    },
    {
      "cell_type": "code",
      "execution_count": null,
      "metadata": {
        "colab": {
          "base_uri": "https://localhost:8080/"
        },
        "id": "q0GaexHIDczM",
        "outputId": "1d1ca4de-3ac1-457f-c87c-a2105ff35a90"
      },
      "outputs": [
        {
          "output_type": "stream",
          "name": "stdout",
          "text": [
            "Model: \"model\"\n",
            "__________________________________________________________________________________________________\n",
            " Layer (type)                   Output Shape         Param #     Connected to                     \n",
            "==================================================================================================\n",
            " Decoder-Input (InputLayer)     [(None, None)]       0           []                               \n",
            "                                                                                                  \n",
            " Decoder-Word-Embedding (Embedd  (None, None, 50)    1549250     ['Decoder-Input[0][0]']          \n",
            " ing)                                                                                             \n",
            "                                                                                                  \n",
            " Encoder-Input (InputLayer)     [(None, 295)]        0           []                               \n",
            "                                                                                                  \n",
            " Decoder-Batchnorm-1 (BatchNorm  (None, None, 50)    200         ['Decoder-Word-Embedding[0][0]'] \n",
            " alization)                                                                                       \n",
            "                                                                                                  \n",
            " Encoder-Model (Functional)     (None, 50)           4030350     ['Encoder-Input[0][0]']          \n",
            "                                                                                                  \n",
            " Decoder-GRU (GRU)              [(None, None, 50),   15300       ['Decoder-Batchnorm-1[0][0]',    \n",
            "                                 (None, 50)]                      'Encoder-Model[0][0]']          \n",
            "                                                                                                  \n",
            " Decoder-Batchnorm-2 (BatchNorm  (None, None, 50)    200         ['Decoder-GRU[0][0]']            \n",
            " alization)                                                                                       \n",
            "                                                                                                  \n",
            " Final-Output-Dense (Dense)     (None, None, 30985)  1580235     ['Decoder-Batchnorm-2[0][0]']    \n",
            "                                                                                                  \n",
            "==================================================================================================\n",
            "Total params: 7,175,535\n",
            "Trainable params: 7,175,235\n",
            "Non-trainable params: 300\n",
            "__________________________________________________________________________________________________\n"
          ]
        }
      ],
      "source": [
        "seq2seq_Model.summary()"
      ]
    },
    {
      "cell_type": "code",
      "execution_count": null,
      "metadata": {
        "id": "XS-Ugu7gDcw4"
      },
      "outputs": [],
      "source": [
        "batch_size = 64\n",
        "epochs = 20"
      ]
    },
    {
      "cell_type": "code",
      "execution_count": null,
      "metadata": {
        "colab": {
          "base_uri": "https://localhost:8080/"
        },
        "id": "yogHsRw7Dcuw",
        "outputId": "aa6fe71c-9f13-4cd8-cf80-ab0c01a14328"
      },
      "outputs": [
        {
          "output_type": "stream",
          "name": "stdout",
          "text": [
            "Epoch 1/20\n",
            "582/582 [==============================] - 985s 2s/step - loss: 4.7388 - val_loss: 5.3629\n",
            "Epoch 2/20\n",
            "582/582 [==============================] - 960s 2s/step - loss: 3.1020 - val_loss: 2.9308\n",
            "Epoch 3/20\n",
            "582/582 [==============================] - 953s 2s/step - loss: 2.8072 - val_loss: 2.7754\n",
            "Epoch 4/20\n",
            "582/582 [==============================] - 950s 2s/step - loss: 2.6559 - val_loss: 2.6981\n",
            "Epoch 5/20\n",
            "582/582 [==============================] - 952s 2s/step - loss: 2.5561 - val_loss: 2.6498\n",
            "Epoch 6/20\n",
            "582/582 [==============================] - 957s 2s/step - loss: 2.4846 - val_loss: 2.6248\n",
            "Epoch 7/20\n",
            "582/582 [==============================] - 960s 2s/step - loss: 2.4297 - val_loss: 2.6134\n",
            "Epoch 8/20\n",
            "582/582 [==============================] - 955s 2s/step - loss: 2.3869 - val_loss: 2.6026\n",
            "Epoch 9/20\n",
            "582/582 [==============================] - 954s 2s/step - loss: 2.3511 - val_loss: 2.5936\n",
            "Epoch 10/20\n",
            "582/582 [==============================] - 956s 2s/step - loss: 2.3218 - val_loss: 2.5940\n",
            "Epoch 11/20\n",
            "582/582 [==============================] - 965s 2s/step - loss: 2.2965 - val_loss: 2.5949\n",
            "Epoch 12/20\n",
            "582/582 [==============================] - 964s 2s/step - loss: 2.2741 - val_loss: 2.5937\n",
            "Epoch 13/20\n",
            "582/582 [==============================] - 968s 2s/step - loss: 2.2541 - val_loss: 2.5952\n",
            "Epoch 14/20\n",
            "582/582 [==============================] - 967s 2s/step - loss: 2.2369 - val_loss: 2.5984\n",
            "Epoch 15/20\n",
            "582/582 [==============================] - 976s 2s/step - loss: 2.2212 - val_loss: 2.6011\n",
            "Epoch 16/20\n",
            "582/582 [==============================] - 967s 2s/step - loss: 2.2072 - val_loss: 2.6042\n",
            "Epoch 17/20\n",
            "582/582 [==============================] - 972s 2s/step - loss: 2.1936 - val_loss: 2.6094\n",
            "Epoch 18/20\n",
            "582/582 [==============================] - 972s 2s/step - loss: 2.1821 - val_loss: 2.6131\n",
            "Epoch 19/20\n",
            "582/582 [==============================] - 985s 2s/step - loss: 2.1713 - val_loss: 2.6201\n",
            "Epoch 20/20\n",
            "582/582 [==============================] - 976s 2s/step - loss: 2.1610 - val_loss: 2.6233\n"
          ]
        }
      ],
      "source": [
        "history = seq2seq_Model.fit([encoder_input_data, decoder_input_data],\n",
        "                            np.expand_dims(decoder_target_data, -1),\n",
        "                            batch_size=batch_size, \n",
        "                            epochs=epochs, \n",
        "                            validation_split=0.12) "
      ]
    },
    {
      "cell_type": "code",
      "execution_count": null,
      "metadata": {
        "id": "4Ynqd2dbDcrj"
      },
      "outputs": [],
      "source": [
        "test_text = [\"\"\"\n",
        "رئیس بهره برداری پالایشگاه سوم مجتمع پارس جنوبی امروز، دوشنبه (۲۳ شهریورماه) در گفتگو با خبرنگار شانا اظهار کرد: این پالایشگاه برنامه تعمیرات اساسی خود را براساس حفظ ضریب دسترس پذیری ۹۷ درصدی سال گذشته ابتدا در بازه ۱۷ روزه برنامه ریزی کرده بود. [n] محسن عطارزاده ادامه داد: پالایشگاه سوم با بررسی دقیق شرایط عملیاتی در طول سال، کسب اطمینان از تولید پایدار گاز و قبول ریسک انجام فعالیتهای ضروری پیش از زمستان و همچنین با مد نظر قرار گرفتن حذف تعمیرات بالادستی (سکوهای پالایشگاه)، تصمیم به اجرا نکردن پروژه تعمیرات اساسی سال جاری گرفت تا در اقدامی آگاهانه و رو به جلو، رکورد تولید پایدار ۳۶۵ روزه خود را در سال جاری ثبت کند. [n] وی افزود: به این ترتیب پالایشگاه سوم پارس جنوبی در کنار حفظ تولید سالهای ۹۲ و ۹۳ که ضریب اطمینان ۹۹٫۹۷ درصدی را ارائه کرده است، در سال جاری علاوه بر ضریب اطمینان تولید، ضریب دسترس پذیری بالاتری را تثبیت می‌کند. [n] به گفته رئیس بهره برداری پالایشگاه سوم مجتمع پارس جنوبی، با حذف تعمیرات اساسی و تداوم ۱۷ روزه برداشت گاز از مخازن مشترک، تولید پالایشگاه نسبت به سال گذشته سه درصد افزایش خواهد داشت که درآمدی بیش از ۴۰۰ میلیارد تومان، معادل یک درصد بودجه عمرانی کل کشور را در بر می‌گیرد. [n] عطارزاده از اعتماد مدیرعامل مجتمع، مدیر پالایشگاه، اهتمام همکاران واحدهای بهره ‌برداری، مهندسی، تعمیرات، بازرسی فنی و سایر واحدهای پشتیبانی در دستیابی به این موفقیت، تقدیر و تشکر کرد.\n",
        "\"\"\"]"
      ]
    },
    {
      "cell_type": "code",
      "execution_count": null,
      "metadata": {
        "id": "QbFOzRaZDcol"
      },
      "outputs": [],
      "source": [
        "# get the encoder's features for the decoder\n",
        "tok1.fit_on_texts(test_text)"
      ]
    },
    {
      "cell_type": "code",
      "execution_count": null,
      "metadata": {
        "id": "guWsas_mDckX"
      },
      "outputs": [],
      "source": [
        "raw_tokenized = tok1.texts_to_sequences(test_text)\n",
        "raw_tokenized = tf.keras.preprocessing.sequence.pad_sequences(raw_tokenized, maxlen=maxlen1)"
      ]
    },
    {
      "cell_type": "code",
      "execution_count": null,
      "metadata": {
        "id": "XfTvCrfZDcak"
      },
      "outputs": [],
      "source": [
        "body_encoding = encoder_model.predict(raw_tokenized) #predict the encoder state of the new sentence"
      ]
    },
    {
      "cell_type": "code",
      "execution_count": null,
      "metadata": {
        "id": "N7a8X-PEj17c"
      },
      "outputs": [],
      "source": [
        "latent_dim = seq2seq_Model.get_layer('Decoder-Word-Embedding').output_shape[-1]"
      ]
    },
    {
      "cell_type": "code",
      "execution_count": null,
      "metadata": {
        "id": "J8b9KPDUj14-"
      },
      "outputs": [],
      "source": [
        "#remember the get layer methodo for getting the embedding (word clusters)\n",
        "decoder_inputs = seq2seq_Model.get_layer('Decoder-Input').input \n",
        "dec_emb = seq2seq_Model.get_layer('Decoder-Word-Embedding')(decoder_inputs)\n",
        "dec_bn = seq2seq_Model.get_layer('Decoder-Batchnorm-1')(dec_emb)"
      ]
    },
    {
      "cell_type": "code",
      "execution_count": null,
      "metadata": {
        "id": "Dnv39V-3j119"
      },
      "outputs": [],
      "source": [
        "gru_inference_state_input = tf.keras.Input(shape=(latent_dim,), name='hidden_state_input')"
      ]
    },
    {
      "cell_type": "code",
      "execution_count": null,
      "metadata": {
        "id": "_wcgNLykj1zD"
      },
      "outputs": [],
      "source": [
        "gru_out, gru_state_out = seq2seq_Model.get_layer('Decoder-GRU')([dec_bn,\n",
        "                                                                 gru_inference_state_input])"
      ]
    },
    {
      "cell_type": "code",
      "execution_count": null,
      "metadata": {
        "id": "b8ghvxrTj1t9"
      },
      "outputs": [],
      "source": [
        "# Reconstruct dense layers\n",
        "dec_bn2 = seq2seq_Model.get_layer('Decoder-Batchnorm-2')(gru_out)\n",
        "dense_out = seq2seq_Model.get_layer('Final-Output-Dense')(dec_bn2)"
      ]
    },
    {
      "cell_type": "code",
      "execution_count": null,
      "metadata": {
        "id": "b92a76tCj1nL"
      },
      "outputs": [],
      "source": [
        "decoder_model = tf.keras.Model([decoder_inputs, gru_inference_state_input],\n",
        "                               [dense_out, gru_state_out])"
      ]
    },
    {
      "cell_type": "code",
      "execution_count": null,
      "metadata": {
        "id": "Ug2yBuOzj1jf"
      },
      "outputs": [],
      "source": [
        "# we want to save the encoder's embedding before its updated by decoder\n",
        "#   because we can use that as an embedding for other tasks.\n",
        "original_body_encoding = body_encoding"
      ]
    },
    {
      "cell_type": "code",
      "execution_count": null,
      "metadata": {
        "id": "OXe97oszj1gJ"
      },
      "outputs": [],
      "source": [
        "state_value = np.array(tok2.word_index['_start_']).reshape(1, 1)"
      ]
    },
    {
      "cell_type": "code",
      "execution_count": null,
      "metadata": {
        "id": "kwTxdYHsj1Ya",
        "colab": {
          "base_uri": "https://localhost:8080/"
        },
        "outputId": "9cf773f3-2498-4d0f-d1a1-c6b88f525c89"
      },
      "outputs": [
        {
          "output_type": "execute_result",
          "data": {
            "text/plain": [
              "array([[1]])"
            ]
          },
          "metadata": {},
          "execution_count": 98
        }
      ],
      "source": [
        "state_value"
      ]
    },
    {
      "cell_type": "code",
      "execution_count": null,
      "metadata": {
        "id": "0FdRHweyj1Lp"
      },
      "outputs": [],
      "source": [
        "decoded_sentence = []\n",
        "stop_condition = Falsedecoded_sentence = []\n",
        "stop_condition = False"
      ]
    },
    {
      "cell_type": "code",
      "execution_count": null,
      "metadata": {
        "id": "WXf0R9fxDcW2"
      },
      "outputs": [],
      "source": [
        "vocabulary_inv = dict((v, k) for k, v in tok2.word_index.items())"
      ]
    },
    {
      "cell_type": "code",
      "execution_count": null,
      "metadata": {
        "id": "Zev1Z_-wkM4p",
        "colab": {
          "base_uri": "https://localhost:8080/"
        },
        "outputId": "e6c43ec0-482c-4ac5-a645-0a0ef06041c7"
      },
      "outputs": [
        {
          "output_type": "execute_result",
          "data": {
            "text/plain": [
              "{1: '_start_',\n",
              " 2: '_end_',\n",
              " 3: 'و',\n",
              " 4: 'در',\n",
              " 5: 'به',\n",
              " 6: 'از',\n",
              " 7: 'با',\n",
              " 8: 'گفت',\n",
              " 9: 'این',\n",
              " 10: 'را',\n",
              " 11: 'است',\n",
              " 12: 'کرد',\n",
              " 13: 'که',\n",
              " 14: 'نفت',\n",
              " 15: 'برای',\n",
              " 16: 'شرکت',\n",
              " 17: 'شد',\n",
              " 18: 'داد',\n",
              " 19: 'کشور',\n",
              " 20: 'خبر',\n",
              " 21: 'ایران',\n",
              " 22: 'گاز',\n",
              " 23: 'استان',\n",
              " 24: 'رئیس',\n",
              " 25: 'سال',\n",
              " 26: 'اعلام',\n",
              " 27: 'سازمان',\n",
              " 28: 'یک',\n",
              " 29: 'ماه',\n",
              " 30: 'خود',\n",
              " 31: 'شده',\n",
              " 32: 'کرونا',\n",
              " 33: 'تا',\n",
              " 34: 'شهر',\n",
              " 35: 'ملی',\n",
              " 36: 'هزار',\n",
              " 37: 'افزایش',\n",
              " 38: 'تولید',\n",
              " 39: 'میشود',\n",
              " 40: 'شورای',\n",
              " 41: 'بر',\n",
              " 42: 'وزیر',\n",
              " 43: 'تهران',\n",
              " 44: 'اصفهان',\n",
              " 45: 'منطقه',\n",
              " 46: 'میلیون',\n",
              " 47: 'کاهش',\n",
              " 48: 'تیم',\n",
              " 49: 'اسلامی',\n",
              " 50: 'آمریکا',\n",
              " 51: 'روز',\n",
              " 52: 'وزارت',\n",
              " 53: 'نفتی',\n",
              " 54: 'امسال',\n",
              " 55: 'معاون',\n",
              " 56: 'شهرداری',\n",
              " 57: 'مجلس',\n",
              " 58: 'امروز',\n",
              " 59: 'قیمت',\n",
              " 60: 'جدید',\n",
              " 61: 'میلیارد',\n",
              " 62: 'طرح',\n",
              " 63: 'مدیرعامل',\n",
              " 64: 'بیش',\n",
              " 65: 'گذشته',\n",
              " 66: 'درصد',\n",
              " 67: 'دو',\n",
              " 68: 'توسعه',\n",
              " 69: 'دارد',\n",
              " 70: 'سخنگوی',\n",
              " 71: 'پتروشیمی',\n",
              " 72: 'انرژی',\n",
              " 73: 'صنعت',\n",
              " 74: 'پایان',\n",
              " 75: 'آن',\n",
              " 76: 'رسید',\n",
              " 77: 'خواهد',\n",
              " 78: 'هفته',\n",
              " 79: 'سه',\n",
              " 80: 'مدیر',\n",
              " 81: 'آغاز',\n",
              " 82: 'کمیسیون',\n",
              " 83: 'امور',\n",
              " 84: 'فوتبال',\n",
              " 85: 'قرار',\n",
              " 86: 'دولت',\n",
              " 87: 'مصرف',\n",
              " 88: 'کرده',\n",
              " 89: 'گروه',\n",
              " 90: 'بازار',\n",
              " 91: 'دانشگاه',\n",
              " 92: 'میکند',\n",
              " 93: 'حضور',\n",
              " 94: 'شهردار',\n",
              " 95: 'انجام',\n",
              " 96: 'جمهوری',\n",
              " 97: 'کردند',\n",
              " 98: 'ویروس',\n",
              " 99: 'عضو',\n",
              " 100: 'نوشت',\n",
              " 101: 'مدیریت',\n",
              " 102: 'رییس',\n",
              " 103: 'دلار',\n",
              " 104: 'جهانی',\n",
              " 105: 'برگزار',\n",
              " 106: 'پیش',\n",
              " 107: 'کند',\n",
              " 108: 'بهداشت',\n",
              " 109: 'اوپک',\n",
              " 110: 'عملیات',\n",
              " 111: 'پخش',\n",
              " 112: 'نسبت',\n",
              " 113: 'انتقال',\n",
              " 114: 'اقتصادی',\n",
              " 115: 'روسیه',\n",
              " 116: 'پزشکی',\n",
              " 117: 'شود',\n",
              " 118: 'عنوان',\n",
              " 119: 'مورد',\n",
              " 120: 'عرضه',\n",
              " 121: 'برنامه',\n",
              " 122: 'شهرستان',\n",
              " 123: 'آینده',\n",
              " 124: 'فرآوردههای',\n",
              " 125: 'بود',\n",
              " 126: 'نخست',\n",
              " 127: 'شهری',\n",
              " 128: 'بورس',\n",
              " 129: 'سوخت',\n",
              " 130: 'استفاده',\n",
              " 131: 'کل',\n",
              " 132: 'خدمات',\n",
              " 133: 'اجرای',\n",
              " 134: 'بخش',\n",
              " 135: 'آمار',\n",
              " 136: 'کار',\n",
              " 137: 'مرکز',\n",
              " 138: 'باید',\n",
              " 139: 'باشگاه',\n",
              " 140: 'لیتر',\n",
              " 141: 'بین',\n",
              " 142: 'طی',\n",
              " 143: 'نشان',\n",
              " 144: 'بررسی',\n",
              " 145: 'علوم',\n",
              " 146: 'لوله',\n",
              " 147: 'صنایع',\n",
              " 148: 'بانک',\n",
              " 149: 'آخرین',\n",
              " 150: 'تامین',\n",
              " 151: 'مرکزی',\n",
              " 152: 'جاری',\n",
              " 153: 'میدهد',\n",
              " 154: 'همکاری',\n",
              " 155: 'واحد',\n",
              " 156: 'پس',\n",
              " 157: 'شانا',\n",
              " 158: 'شرکتهای',\n",
              " 159: 'بیماری',\n",
              " 160: 'مناطق',\n",
              " 161: 'درباره',\n",
              " 162: 'تاکید',\n",
              " 163: 'پالایش',\n",
              " 164: 'کشورهای',\n",
              " 165: 'خط',\n",
              " 166: 'اجتماعی',\n",
              " 167: 'عمومی',\n",
              " 168: 'مردم',\n",
              " 169: 'هدف',\n",
              " 170: 'نفر',\n",
              " 171: 'راه',\n",
              " 172: 'یافت',\n",
              " 173: 'صادرات',\n",
              " 174: 'خام',\n",
              " 175: 'بودجه',\n",
              " 176: 'حال',\n",
              " 177: 'پروژه',\n",
              " 178: 'میلادی',\n",
              " 179: 'ریال',\n",
              " 180: 'فروش',\n",
              " 181: 'بنزین',\n",
              " 182: 'خارجه',\n",
              " 183: 'سرمایه',\n",
              " 184: 'فناوری',\n",
              " 185: 'اداره',\n",
              " 186: '۱۰',\n",
              " 187: 'صورت',\n",
              " 188: 'شدن',\n",
              " 189: 'هر',\n",
              " 190: 'ساعت',\n",
              " 191: 'کنند',\n",
              " 192: 'ثبت',\n",
              " 193: 'مدیرکل',\n",
              " 194: 'عراق',\n",
              " 195: 'لیگ',\n",
              " 196: 'دیگر',\n",
              " 197: 'منابع',\n",
              " 198: 'یکی',\n",
              " 199: 'پرسپولیس',\n",
              " 200: 'شبکه',\n",
              " 201: 'شیوع',\n",
              " 202: 'شدند',\n",
              " 203: 'سرپرست',\n",
              " 204: 'پرداخت',\n",
              " 205: 'ارائه',\n",
              " 206: 'سطح',\n",
              " 207: 'بار',\n",
              " 208: 'چین',\n",
              " 209: 'اشاره',\n",
              " 210: 'رشد',\n",
              " 211: 'نقل',\n",
              " 212: 'ویژه',\n",
              " 213: 'نشست',\n",
              " 214: 'سازی',\n",
              " 215: 'معاملات',\n",
              " 216: 'دلیل',\n",
              " 217: 'توافق',\n",
              " 218: 'ساخت',\n",
              " 219: '۲',\n",
              " 220: 'وجود',\n",
              " 221: 'نخستین',\n",
              " 222: 'هستند',\n",
              " 223: 'جنوبی',\n",
              " 224: 'تومان',\n",
              " 225: 'برگزاری',\n",
              " 226: 'کمیته',\n",
              " 227: 'بهبود',\n",
              " 228: 'ستاد',\n",
              " 229: 'جهان',\n",
              " 230: 'توجه',\n",
              " 231: 'توزیع',\n",
              " 232: 'مبتلا',\n",
              " 233: 'حمل',\n",
              " 234: 'بهره',\n",
              " 235: 'داده',\n",
              " 236: 'سوی',\n",
              " 237: 'حمایت',\n",
              " 238: 'شاخص',\n",
              " 239: 'برخی',\n",
              " 240: 'توسط',\n",
              " 241: 'ادامه',\n",
              " 242: 'حوزه',\n",
              " 243: 'شرایط',\n",
              " 244: 'مدت',\n",
              " 245: 'درصدی',\n",
              " 246: 'اطلاعات',\n",
              " 247: '۹۹',\n",
              " 248: 'داشته',\n",
              " 249: '۲۴',\n",
              " 250: 'عربستان',\n",
              " 251: 'تشریح',\n",
              " 252: 'ایجاد',\n",
              " 253: 'دست',\n",
              " 254: 'پنج',\n",
              " 255: 'اجرایی',\n",
              " 256: 'اینکه',\n",
              " 257: 'صنعتی',\n",
              " 258: 'آنها',\n",
              " 259: 'حدود',\n",
              " 260: 'دیدار',\n",
              " 261: 'نیز',\n",
              " 262: 'چهار',\n",
              " 263: 'تجارت',\n",
              " 264: 'جمهور',\n",
              " 265: 'دوم',\n",
              " 266: 'آموزش',\n",
              " 267: 'هم',\n",
              " 268: 'میزان',\n",
              " 269: 'پلیس',\n",
              " 270: 'انتخابات',\n",
              " 271: 'خودرو',\n",
              " 272: 'تن',\n",
              " 273: 'نماینده',\n",
              " 274: 'اخیر',\n",
              " 275: 'گازرسانی',\n",
              " 276: 'اعضای',\n",
              " 277: 'اول',\n",
              " 278: 'فارس',\n",
              " 279: 'منظور',\n",
              " 280: 'شنبه',\n",
              " 281: 'استقلال',\n",
              " 282: 'هیئت',\n",
              " 283: 'دریافت',\n",
              " 284: 'سرمربی',\n",
              " 285: 'فرهنگی',\n",
              " 286: 'برق',\n",
              " 287: 'آب',\n",
              " 288: 'اتحادیه',\n",
              " 289: 'اقتصاد',\n",
              " 290: 'فدراسیون',\n",
              " 291: 'آسیا',\n",
              " 292: 'وضعیت',\n",
              " 293: 'مالی',\n",
              " 294: 'خطوط',\n",
              " 295: 'آبان',\n",
              " 296: 'مشترک',\n",
              " 297: 'مبتلایان',\n",
              " 298: 'ایرانی',\n",
              " 299: 'کمک',\n",
              " 300: 'سهام',\n",
              " 301: 'ناشی',\n",
              " 302: 'پالایشگاه',\n",
              " 303: 'پی',\n",
              " 304: 'بشکه',\n",
              " 305: 'بینالمللی',\n",
              " 306: 'فعالیت',\n",
              " 307: 'مهر',\n",
              " 308: 'دوره',\n",
              " 309: 'ظرفیت',\n",
              " 310: 'برداری',\n",
              " 311: 'اما',\n",
              " 312: '۱۵',\n",
              " 313: 'محققان',\n",
              " 314: 'مقابله',\n",
              " 315: 'منتشر',\n",
              " 316: 'نمایندگان',\n",
              " 317: 'مختلف',\n",
              " 318: 'ارزش',\n",
              " 319: 'نام',\n",
              " 320: 'روابط',\n",
              " 321: 'جلسه',\n",
              " 322: 'یافته',\n",
              " 323: 'بیان',\n",
              " 324: 'تلاش',\n",
              " 325: 'آذربایجان',\n",
              " 326: 'سامانه',\n",
              " 327: 'محیط',\n",
              " 328: 'داخلی',\n",
              " 329: 'میتواند',\n",
              " 330: 'تاکنون',\n",
              " 331: 'دوشنبه',\n",
              " 332: 'زیست',\n",
              " 333: 'اروپا',\n",
              " 334: 'نیاز',\n",
              " 335: 'همه',\n",
              " 336: '۲۰',\n",
              " 337: 'میان',\n",
              " 338: 'گذاری',\n",
              " 339: 'خارجی',\n",
              " 340: 'فنی',\n",
              " 341: 'بهرهبرداری',\n",
              " 342: 'روند',\n",
              " 343: 'طبیعی',\n",
              " 344: 'اقدام',\n",
              " 345: 'سبب',\n",
              " 346: 'سلامت',\n",
              " 347: 'گرفت',\n",
              " 348: 'روی',\n",
              " 349: 'دستگاه',\n",
              " 350: 'گرفته',\n",
              " 351: 'داشت',\n",
              " 352: 'اساس',\n",
              " 353: 'بینی',\n",
              " 354: 'تاریخ',\n",
              " 355: 'نظر',\n",
              " 356: 'بوده',\n",
              " 357: '۶',\n",
              " 358: 'باشد',\n",
              " 359: '۳۰',\n",
              " 360: 'ایمنی',\n",
              " 361: 'مسکن',\n",
              " 362: 'پارس',\n",
              " 363: 'محصولات',\n",
              " 364: 'ماهه',\n",
              " 365: 'جی',\n",
              " 366: 'فضای',\n",
              " 367: 'ابتدای',\n",
              " 368: 'ورزش',\n",
              " 369: 'تحت',\n",
              " 370: 'روزانه',\n",
              " 371: 'میکنند',\n",
              " 372: 'بزرگ',\n",
              " 373: 'قزوین',\n",
              " 374: 'معاونت',\n",
              " 375: 'تصویب',\n",
              " 376: '۱۲',\n",
              " 377: 'گزارش',\n",
              " 378: 'زمینه',\n",
              " 379: 'همزمان',\n",
              " 380: 'جان',\n",
              " 381: 'موفق',\n",
              " 382: 'سی',\n",
              " 383: 'نیست',\n",
              " 384: 'نظارت',\n",
              " 385: 'بدون',\n",
              " 386: 'عامل',\n",
              " 387: 'معدن',\n",
              " 388: '۹',\n",
              " 389: 'برابر',\n",
              " 390: 'نزدیک',\n",
              " 391: 'امنیت',\n",
              " 392: 'المللی',\n",
              " 393: 'مشابه',\n",
              " 394: 'همراه',\n",
              " 395: 'دارند',\n",
              " 396: 'آزاد',\n",
              " 397: 'صادر',\n",
              " 398: 'شهرسازی',\n",
              " 399: 'صدور',\n",
              " 400: 'ندارد',\n",
              " 401: 'گردشگری',\n",
              " 402: 'میدان',\n",
              " 403: 'زمان',\n",
              " 404: 'بیشتر',\n",
              " 405: 'بازی',\n",
              " 406: 'وارد',\n",
              " 407: 'چند',\n",
              " 408: 'علمی',\n",
              " 409: '۱۹',\n",
              " 410: 'حفاری',\n",
              " 411: 'برتر',\n",
              " 412: 'فصل',\n",
              " 413: 'درمان',\n",
              " 414: 'ما',\n",
              " 415: 'ترکیه',\n",
              " 416: 'خراسان',\n",
              " 417: 'آتش',\n",
              " 418: 'کردن',\n",
              " 419: 'صبح',\n",
              " 420: 'جشنواره',\n",
              " 421: '۴',\n",
              " 422: 'کارشناس',\n",
              " 423: 'کشف',\n",
              " 424: 'خصوص',\n",
              " 425: 'ریاست',\n",
              " 426: 'اجرا',\n",
              " 427: 'انتخاب',\n",
              " 428: 'دستور',\n",
              " 429: 'معرفی',\n",
              " 430: 'چهارشنبه',\n",
              " 431: 'قانون',\n",
              " 432: 'ان',\n",
              " 433: 'شناسایی',\n",
              " 434: 'ترامپ',\n",
              " 435: 'سوم',\n",
              " 436: '۳',\n",
              " 437: 'هیات',\n",
              " 438: 'اوراق',\n",
              " 439: 'کردهاند',\n",
              " 440: 'مرحله',\n",
              " 441: 'واردات',\n",
              " 442: 'آمریکایی',\n",
              " 443: 'جنوب',\n",
              " 444: 'کنترل',\n",
              " 445: 'قرارداد',\n",
              " 446: 'سمنان',\n",
              " 447: 'افراد',\n",
              " 448: 'دولتی',\n",
              " 449: 'بازارهای',\n",
              " 450: 'گازی',\n",
              " 451: '۱۱',\n",
              " 452: 'رسیده',\n",
              " 453: 'احداث',\n",
              " 454: 'بحران',\n",
              " 455: 'تجاری',\n",
              " 456: '۲۰۲۰',\n",
              " 457: 'انتشار',\n",
              " 458: 'مترمکعب',\n",
              " 459: 'بهداشتی',\n",
              " 460: 'صندوق',\n",
              " 461: '۵',\n",
              " 462: 'شهید',\n",
              " 463: 'نیروهای',\n",
              " 464: 'خرید',\n",
              " 465: 'افتتاح',\n",
              " 466: 'هواشناسی',\n",
              " 467: 'طریق',\n",
              " 468: 'موضوع',\n",
              " 469: 'اولین',\n",
              " 470: 'زنجان',\n",
              " 471: 'هیچ',\n",
              " 472: 'فوتیهای',\n",
              " 473: 'شهروندان',\n",
              " 474: 'جمعه',\n",
              " 475: 'تصمیم',\n",
              " 476: 'کسب',\n",
              " 477: 'تعداد',\n",
              " 478: 'نیمه',\n",
              " 479: 'میرسد',\n",
              " 480: 'دفتر',\n",
              " 481: 'عالی',\n",
              " 482: 'قبل',\n",
              " 483: 'رسمی',\n",
              " 484: 'مسابقات',\n",
              " 485: 'واکنش',\n",
              " 486: 'تاسیسات',\n",
              " 487: 'امضا',\n",
              " 488: 'ارسال',\n",
              " 489: 'تعیین',\n",
              " 490: 'تمدید',\n",
              " 491: '۵۰',\n",
              " 492: 'سرمایهگذاری',\n",
              " 493: 'قصد',\n",
              " 494: 'انواع',\n",
              " 495: 'انتظامی',\n",
              " 496: 'بیمه',\n",
              " 497: '۲۵',\n",
              " 498: 'نهایی',\n",
              " 499: '۱۳',\n",
              " 500: 'اصلاح',\n",
              " 501: 'کارکنان',\n",
              " 502: 'ابتلا',\n",
              " 503: 'رفع',\n",
              " 504: 'بازرگانی',\n",
              " 505: 'بازیکن',\n",
              " 506: 'دنبال',\n",
              " 507: 'نرخ',\n",
              " 508: 'تمام',\n",
              " 509: 'مواد',\n",
              " 510: 'تسهیلات',\n",
              " 511: 'صادرکننده',\n",
              " 512: 'مجمع',\n",
              " 513: 'غیر',\n",
              " 514: '۱۴',\n",
              " 515: 'دادند',\n",
              " 516: 'مشکلات',\n",
              " 517: 'مقابل',\n",
              " 518: 'شدهاند',\n",
              " 519: 'دومین',\n",
              " 520: 'نمایشگاه',\n",
              " 521: 'مسیر',\n",
              " 522: 'طرحهای',\n",
              " 523: 'تکمیل',\n",
              " 524: 'جایگاه',\n",
              " 525: 'احتمال',\n",
              " 526: 'لازم',\n",
              " 527: 'دبیر',\n",
              " 528: 'یا',\n",
              " 529: 'آماده',\n",
              " 530: 'یافتگان',\n",
              " 531: 'آمادگی',\n",
              " 532: 'خبرداد',\n",
              " 533: 'ارتباطات',\n",
              " 534: 'خصوصی',\n",
              " 535: 'کننده',\n",
              " 536: 'دیروز',\n",
              " 537: 'غرب',\n",
              " 538: 'ارز',\n",
              " 539: 'ورزشی',\n",
              " 540: 'واکسن',\n",
              " 541: 'نتایج',\n",
              " 542: 'واحدهای',\n",
              " 543: 'رعایت',\n",
              " 544: 'کشتی',\n",
              " 545: 'مدیران',\n",
              " 546: 'مراکز',\n",
              " 547: 'هشدار',\n",
              " 548: 'عملیاتی',\n",
              " 549: 'پروژههای',\n",
              " 550: 'اساسی',\n",
              " 551: 'ابلاغ',\n",
              " 552: 'روزهای',\n",
              " 553: '۱۶',\n",
              " 554: 'فاز',\n",
              " 555: 'تاثیر',\n",
              " 556: 'دهد',\n",
              " 557: 'فردا',\n",
              " 558: 'متر',\n",
              " 559: 'فعال',\n",
              " 560: 'سبز',\n",
              " 561: 'اصلی',\n",
              " 562: 'هماهنگی',\n",
              " 563: 'اعتبار',\n",
              " 564: 'شمال',\n",
              " 565: 'او',\n",
              " 566: 'شمار',\n",
              " 567: 'منتهی',\n",
              " 568: 'راستای',\n",
              " 569: 'تغییر',\n",
              " 570: '۱۰۰',\n",
              " 571: 'تحویل',\n",
              " 572: 'شیراز',\n",
              " 573: 'آذرماه',\n",
              " 574: '۵۰۰',\n",
              " 575: 'پیشبینی',\n",
              " 576: 'هوای',\n",
              " 577: 'مجتمع',\n",
              " 578: 'تشکیل',\n",
              " 579: 'پیشگیری',\n",
              " 580: 'یکشنبه',\n",
              " 581: 'گسترش',\n",
              " 582: 'روستایی',\n",
              " 583: 'پارسال',\n",
              " 584: 'پیروزی',\n",
              " 585: 'هوشمند',\n",
              " 586: 'کامل',\n",
              " 587: 'مییابد',\n",
              " 588: 'حادثه',\n",
              " 589: 'نصب',\n",
              " 590: 'سود',\n",
              " 591: 'تجهیزات',\n",
              " 592: 'مجازی',\n",
              " 593: 'محل',\n",
              " 594: 'علیه',\n",
              " 595: 'تقویت',\n",
              " 596: 'کالا',\n",
              " 597: 'زمین',\n",
              " 598: 'حاضر',\n",
              " 599: 'سهم',\n",
              " 600: 'دانش',\n",
              " 601: 'هفت',\n",
              " 602: 'سراسری',\n",
              " 603: 'سفر',\n",
              " 604: 'بی',\n",
              " 605: 'لغو',\n",
              " 606: 'کیفیت',\n",
              " 607: 'طبق',\n",
              " 608: 'آهن',\n",
              " 609: 'راهاندازی',\n",
              " 610: 'بعد',\n",
              " 611: 'مشهد',\n",
              " 612: 'بخشهای',\n",
              " 613: 'کشاورزی',\n",
              " 614: 'براساس',\n",
              " 615: 'نیروی',\n",
              " 616: 'بیماران',\n",
              " 617: 'پنجشنبه',\n",
              " 618: 'حفظ',\n",
              " 619: 'یزد',\n",
              " 620: 'ساماندهی',\n",
              " 621: 'ورود',\n",
              " 622: 'تنها',\n",
              " 623: 'کیلومتر',\n",
              " 624: 'خواستار',\n",
              " 625: 'شمالی',\n",
              " 626: 'مسئول',\n",
              " 627: 'جلوگیری',\n",
              " 628: 'هند',\n",
              " 629: 'کاشان',\n",
              " 630: 'سیستم',\n",
              " 631: 'یابد',\n",
              " 632: 'فرآورده',\n",
              " 633: 'مشارکت',\n",
              " 634: 'کرونایی',\n",
              " 635: 'کرمانشاه',\n",
              " 636: 'هشت',\n",
              " 637: 'طور',\n",
              " 638: 'اختصاص',\n",
              " 639: 'میانگین',\n",
              " 640: 'کشورمان',\n",
              " 641: 'فراهم',\n",
              " 642: 'میشوند',\n",
              " 643: 'مسئولان',\n",
              " 644: 'مخابرات',\n",
              " 645: 'بوشهر',\n",
              " 646: '۴۰',\n",
              " 647: 'فیلم',\n",
              " 648: 'جذب',\n",
              " 649: 'باختگان',\n",
              " 650: 'تبریز',\n",
              " 651: 'آذر',\n",
              " 652: 'جهت',\n",
              " 653: 'بهادار',\n",
              " 654: 'مهندسی',\n",
              " 655: 'طراحی',\n",
              " 656: 'اتاق',\n",
              " 657: 'کردستان',\n",
              " 658: 'فرانسه',\n",
              " 659: 'فشار',\n",
              " 660: 'جمعیت',\n",
              " 661: 'افت',\n",
              " 662: 'ضمن',\n",
              " 663: 'عملکرد',\n",
              " 664: 'سر',\n",
              " 665: 'نتیجه',\n",
              " 666: 'بزرگترین',\n",
              " 667: 'اندازی',\n",
              " 668: 'شش',\n",
              " 669: 'امکان',\n",
              " 670: 'قابل',\n",
              " 671: 'مشخص',\n",
              " 672: 'همچنان',\n",
              " 673: 'کرمان',\n",
              " 674: 'خوزستان',\n",
              " 675: 'فروردین',\n",
              " 676: 'قطر',\n",
              " 677: 'مجموعه',\n",
              " 678: 'مهم',\n",
              " 679: 'فرمانده',\n",
              " 680: 'سیاسی',\n",
              " 681: 'خانه',\n",
              " 682: 'لایحه',\n",
              " 683: 'رقابتهای',\n",
              " 684: 'فرهنگ',\n",
              " 685: 'نایب',\n",
              " 686: 'حالی',\n",
              " 687: 'صمت',\n",
              " 688: 'اردیبهشت',\n",
              " 689: 'نظام',\n",
              " 690: 'حفاظت',\n",
              " 691: 'مهرماه',\n",
              " 692: '۹۸',\n",
              " 693: 'مربوط',\n",
              " 694: 'واحدی',\n",
              " 695: 'طلا',\n",
              " 696: 'هزینه',\n",
              " 697: 'پایتخت',\n",
              " 698: 'ایسنا',\n",
              " 699: 'روستای',\n",
              " 700: 'بسته',\n",
              " 701: 'ایلام',\n",
              " 702: 'اثر',\n",
              " 703: 'وی',\n",
              " 704: 'سعودی',\n",
              " 705: 'پوشش',\n",
              " 706: 'مبارزه',\n",
              " 707: 'ذخیره',\n",
              " 708: 'جمله',\n",
              " 709: 'تعمیرات',\n",
              " 710: 'اکنون',\n",
              " 711: 'آموزشی',\n",
              " 712: 'برنامهریزی',\n",
              " 713: 'تبدیل',\n",
              " 714: 'تخصصی',\n",
              " 715: 'جدیدی',\n",
              " 716: 'بازگشت',\n",
              " 717: 'بانکی',\n",
              " 718: 'تولیدی',\n",
              " 719: 'تولیدکنندگان',\n",
              " 720: '۱۸',\n",
              " 721: 'باعث',\n",
              " 722: 'خلیج',\n",
              " 723: 'موافقت',\n",
              " 724: 'تحریمهای',\n",
              " 725: 'شکست',\n",
              " 726: 'خودروهای',\n",
              " 727: 'نشده',\n",
              " 728: 'پیشرفت',\n",
              " 729: 'استاندار',\n",
              " 730: 'پیشنهاد',\n",
              " 731: 'سنت',\n",
              " 732: '۲۲',\n",
              " 733: '۲۰۰',\n",
              " 734: 'سفید',\n",
              " 735: 'جوانان',\n",
              " 736: 'ترافیک',\n",
              " 737: 'جایگاههای',\n",
              " 738: 'تایید',\n",
              " 739: 'دارای',\n",
              " 740: 'ارشد',\n",
              " 741: 'گیری',\n",
              " 742: 'خارج',\n",
              " 743: '۶۰',\n",
              " 744: 'میتوانند',\n",
              " 745: 'اقدامات',\n",
              " 746: 'کمتر',\n",
              " 747: 'ممکن',\n",
              " 748: 'دانست',\n",
              " 749: 'رو',\n",
              " 750: 'سابق',\n",
              " 751: 'درخواست',\n",
              " 752: 'مازندران',\n",
              " 753: 'بسیار',\n",
              " 754: 'شدید',\n",
              " 755: 'منصوب',\n",
              " 756: 'بیمار',\n",
              " 757: 'ذوب',\n",
              " 758: 'بازیکنان',\n",
              " 759: 'کووید۱۹',\n",
              " 760: 'سقوط',\n",
              " 761: 'مجوز',\n",
              " 762: 'انجمن',\n",
              " 763: 'افغانستان',\n",
              " 764: 'رای',\n",
              " 765: 'شرق',\n",
              " 766: 'عمرانی',\n",
              " 767: 'مرز',\n",
              " 768: 'شهریور',\n",
              " 769: 'قهرمانان',\n",
              " 770: 'آزمون',\n",
              " 771: 'سفیر',\n",
              " 772: 'مشکل',\n",
              " 773: 'عمران',\n",
              " 774: 'شهرضا',\n",
              " 775: 'پرورش',\n",
              " 776: 'اولیه',\n",
              " 777: 'نجات',\n",
              " 778: 'مشاور',\n",
              " 779: 'ماسک',\n",
              " 780: 'اگر',\n",
              " 781: 'اردبیل',\n",
              " 782: 'کووید',\n",
              " 783: 'ونزوئلا',\n",
              " 784: 'دور',\n",
              " 785: 'تیمهای',\n",
              " 786: '۸',\n",
              " 787: 'کتاب',\n",
              " 788: 'یورو',\n",
              " 789: 'شرقی',\n",
              " 790: 'بخشی',\n",
              " 791: 'تیرماه',\n",
              " 792: 'معابر',\n",
              " 793: 'بایدن',\n",
              " 794: 'برنامههای',\n",
              " 795: 'هوا',\n",
              " 796: 'کلانشهر',\n",
              " 797: 'جوان',\n",
              " 798: 'رونمایی',\n",
              " 799: '۱۳۹۹',\n",
              " 800: 'آلمان',\n",
              " 801: 'معادن',\n",
              " 802: 'پایدار',\n",
              " 803: 'فعالیتهای',\n",
              " 804: 'درگذشت',\n",
              " 805: 'جریان',\n",
              " 806: 'شب',\n",
              " 807: 'غربی',\n",
              " 808: 'تومانی',\n",
              " 809: 'ایرنا',\n",
              " 810: 'ستاره',\n",
              " 811: 'امداد',\n",
              " 812: 'آسیب',\n",
              " 813: 'بانوان',\n",
              " 814: 'ناوگان',\n",
              " 815: 'خانگی',\n",
              " 816: 'پیگیری',\n",
              " 817: 'سراسر',\n",
              " 818: '۱۷',\n",
              " 819: 'انسانی',\n",
              " 820: 'مایع',\n",
              " 821: 'پنجم',\n",
              " 822: 'مدیره',\n",
              " 823: 'دفاع',\n",
              " 824: 'تقاضای',\n",
              " 825: 'سایپا',\n",
              " 826: 'خرداد',\n",
              " 827: 'محصول',\n",
              " 828: 'بهک',\n",
              " 829: 'باز',\n",
              " 830: 'گلستان',\n",
              " 831: 'سهشنبه',\n",
              " 832: 'جامعه',\n",
              " 833: 'بازدید',\n",
              " 834: 'متحده',\n",
              " 835: 'مثبت',\n",
              " 836: 'قاچاق',\n",
              " 837: 'رئیسه',\n",
              " 838: 'تردد',\n",
              " 839: 'پیامی',\n",
              " 840: '۷',\n",
              " 841: 'باشند',\n",
              " 842: 'زیر',\n",
              " 843: 'رفت',\n",
              " 844: 'مجموع',\n",
              " 845: 'همکاریهای',\n",
              " 846: 'ایالت',\n",
              " 847: 'حقوق',\n",
              " 848: 'قالب',\n",
              " 849: 'انگلیس',\n",
              " 850: 'قم',\n",
              " 851: 'خواهند',\n",
              " 852: 'پرونده',\n",
              " 853: 'دستگاههای',\n",
              " 854: 'ارتش',\n",
              " 855: 'همدان',\n",
              " 856: 'پژوهش',\n",
              " 857: 'مهلت',\n",
              " 858: 'هنوز',\n",
              " 859: 'ایستگاه',\n",
              " 860: 'نقش',\n",
              " 861: 'ششم',\n",
              " 862: 'مهمترین',\n",
              " 863: 'ابتلاء',\n",
              " 864: 'ساله',\n",
              " 865: 'رسانی',\n",
              " 866: 'مبنی',\n",
              " 867: 'پیدا',\n",
              " 868: 'سومین',\n",
              " 869: 'سالانه',\n",
              " 870: 'حمله',\n",
              " 871: 'موجب',\n",
              " 872: 'علت',\n",
              " 873: 'اعتباری',\n",
              " 874: 'وقوع',\n",
              " 875: 'مقام',\n",
              " 876: 'موفقیت',\n",
              " 877: 'حل',\n",
              " 878: 'درمانی',\n",
              " 879: 'بارش',\n",
              " 880: 'تحقق',\n",
              " 881: 'دریایی',\n",
              " 882: '۷۰',\n",
              " 883: 'کنیم',\n",
              " 884: 'تعاون',\n",
              " 885: 'بیست',\n",
              " 886: 'مصوبه',\n",
              " 887: 'تعطیلی',\n",
              " 888: 'حذف',\n",
              " 889: '۳۰۰',\n",
              " 890: '۲۱',\n",
              " 891: 'موجود',\n",
              " 892: 'دلاری',\n",
              " 893: 'ضرورت',\n",
              " 894: '۲۶',\n",
              " 895: 'ملل',\n",
              " 896: 'بهمن',\n",
              " 897: 'آبادان',\n",
              " 898: 'تفاهمنامه',\n",
              " 899: 'زیادی',\n",
              " 900: 'ال',\n",
              " 901: 'مکعب',\n",
              " 902: '۲۳',\n",
              " 903: 'حجم',\n",
              " 904: 'محدودیتهای',\n",
              " 905: 'خوبی',\n",
              " 906: '۸۰',\n",
              " 907: '۲۷',\n",
              " 908: 'نوسازی',\n",
              " 909: 'بسیاری',\n",
              " 910: 'کره',\n",
              " 911: 'تدوین',\n",
              " 912: 'رفاه',\n",
              " 913: 'حد',\n",
              " 914: 'تحقیقات',\n",
              " 915: 'تنظیم',\n",
              " 916: 'ارزیابی',\n",
              " 917: 'رقم',\n",
              " 918: 'سیما',\n",
              " 919: 'کارت',\n",
              " 920: 'اینچ',\n",
              " 921: 'انقلاب',\n",
              " 922: 'اطلاعیهای',\n",
              " 923: 'شهریورماه',\n",
              " 924: 'گیلان',\n",
              " 925: 'کشوری',\n",
              " 926: 'انتظار',\n",
              " 927: 'تمامی',\n",
              " 928: 'کالاهای',\n",
              " 929: 'هواپیمایی',\n",
              " 930: 'ایالات',\n",
              " 931: 'دارو',\n",
              " 932: 'ساختمان',\n",
              " 933: 'مهاجم',\n",
              " 934: 'فضایی',\n",
              " 935: '۲۸',\n",
              " 936: 'زنان',\n",
              " 937: 'تداوم',\n",
              " 938: 'المپیک',\n",
              " 939: 'سهمیه',\n",
              " 940: 'نشانی',\n",
              " 941: 'مردادماه',\n",
              " 942: 'درآمد',\n",
              " 943: 'میرود',\n",
              " 944: 'مقامات',\n",
              " 945: 'حقوقی',\n",
              " 946: 'مذاکره',\n",
              " 947: 'صنفی',\n",
              " 948: 'آزمایش',\n",
              " 949: 'عدم',\n",
              " 950: 'کارشناسان',\n",
              " 951: 'برجام',\n",
              " 952: 'اعمال',\n",
              " 953: 'دستگیری',\n",
              " 954: 'چهارم',\n",
              " 955: '۳۱',\n",
              " 956: 'بندرعباس',\n",
              " 957: 'گل',\n",
              " 958: 'ساخته',\n",
              " 959: 'نیروگاه',\n",
              " 960: 'هستیم',\n",
              " 961: 'راهبردی',\n",
              " 962: 'صرفه',\n",
              " 963: 'امنیتی',\n",
              " 964: 'والیبال',\n",
              " 965: 'کالای',\n",
              " 966: 'شبانه',\n",
              " 967: 'بودن',\n",
              " 968: 'هوایی',\n",
              " 969: 'آتشنشانی',\n",
              " 970: 'آنلاین',\n",
              " 971: 'توضیحاتی',\n",
              " 972: 'اهواز',\n",
              " 973: 'جامع',\n",
              " 974: 'بازرسی',\n",
              " 975: 'شهرهای',\n",
              " 976: 'دوباره',\n",
              " 977: 'دستی',\n",
              " 978: 'زودی',\n",
              " 979: 'نیرو',\n",
              " 980: 'عمل',\n",
              " 981: 'همچنین',\n",
              " 982: '۴۰۰',\n",
              " 983: 'تعطیل',\n",
              " 984: 'رئیسجمهور',\n",
              " 985: 'ژاپن',\n",
              " 986: 'شکایت',\n",
              " 987: 'میگیرد',\n",
              " 988: 'جویی',\n",
              " 989: 'منطقهای',\n",
              " 990: 'فجر',\n",
              " 991: '۹۰',\n",
              " 992: 'قیمتهای',\n",
              " 993: 'چینی',\n",
              " 994: 'سنگین',\n",
              " 995: 'تازهترین',\n",
              " 996: 'ریزی',\n",
              " 997: 'خواست',\n",
              " 998: 'میراث',\n",
              " 999: 'رضوی',\n",
              " 1000: 'مطرح',\n",
              " ...}"
            ]
          },
          "metadata": {},
          "execution_count": 101
        }
      ],
      "source": [
        "vocabulary_inv"
      ]
    },
    {
      "cell_type": "code",
      "execution_count": null,
      "metadata": {
        "id": "HxHIF1kbkM2A",
        "colab": {
          "base_uri": "https://localhost:8080/"
        },
        "outputId": "a92ccf6f-4409-4d02-f054-8322c90b0ec1"
      },
      "outputs": [
        {
          "output_type": "stream",
          "name": "stdout",
          "text": [
            "به\n",
            "دلیل\n",
            "شیوع\n",
            "ویروس\n",
            "کرونا\n",
            "در\n",
            "این\n",
            "استان\n",
            "به\n",
            "صورت\n",
            "رسمی\n",
            "از\n",
            "سوی\n",
            "رئیس\n",
            "جمهور\n",
            "و\n",
            "همچنین\n",
            "پایان\n",
            "تعطیلات\n",
            "عید\n",
            "سعید\n",
            "فطر\n",
            "و\n",
            "افزایش\n",
            "قیمت\n",
            "نفت\n",
            "به\n",
            "پایان\n",
            "رسید\n",
            "_end_\n"
          ]
        }
      ],
      "source": [
        "while not stop_condition:\n",
        "\n",
        "    preds, st = decoder_model.predict([state_value, body_encoding])\n",
        "\n",
        "    pred_idx = np.argmax(preds[:, :, 2:]) + 2\n",
        "    pred_word_str = vocabulary_inv[pred_idx]\n",
        "    print(pred_word_str)\n",
        "    if pred_word_str == '_end_' or len(decoded_sentence) >= maxlen2:\n",
        "        stop_condition = True\n",
        "        break\n",
        "    decoded_sentence.append(pred_word_str)\n",
        "\n",
        "    # update the decoder for the next word\n",
        "    body_encoding = st\n",
        "    state_value = np.array(pred_idx).reshape(1, 1)"
      ]
    },
    {
      "cell_type": "code",
      "source": [],
      "metadata": {
        "id": "lB0qYkcwYElO"
      },
      "execution_count": null,
      "outputs": []
    },
    {
      "cell_type": "code",
      "source": [],
      "metadata": {
        "id": "HDbbL1YaYEu4"
      },
      "execution_count": null,
      "outputs": []
    },
    {
      "cell_type": "code",
      "source": [],
      "metadata": {
        "id": "VgQcBzsgYE5K"
      },
      "execution_count": null,
      "outputs": []
    },
    {
      "cell_type": "code",
      "source": [
        "print(train.loc[5, 'article'])"
      ],
      "metadata": {
        "colab": {
          "base_uri": "https://localhost:8080/"
        },
        "id": "jhr2jn6NXJiu",
        "outputId": "d76452ce-8047-4803-c5c5-b154cbcfe4bb"
      },
      "execution_count": null,
      "outputs": [
        {
          "output_type": "stream",
          "name": "stdout",
          "text": [
            "رئیس بهره برداری پالایشگاه سوم مجتمع پارس جنوبی امروز، دوشنبه (۲۳ شهریورماه) در گفتگو با خبرنگار شانا اظهار کرد: این پالایشگاه برنامه تعمیرات اساسی خود را براساس حفظ ضریب دسترس پذیری ۹۷ درصدی سال گذشته ابتدا در بازه ۱۷ روزه برنامه ریزی کرده بود. [n] محسن عطارزاده ادامه داد: پالایشگاه سوم با بررسی دقیق شرایط عملیاتی در طول سال، کسب اطمینان از تولید پایدار گاز و قبول ریسک انجام فعالیتهای ضروری پیش از زمستان و همچنین با مد نظر قرار گرفتن حذف تعمیرات بالادستی (سکوهای پالایشگاه)، تصمیم به اجرا نکردن پروژه تعمیرات اساسی سال جاری گرفت تا در اقدامی آگاهانه و رو به جلو، رکورد تولید پایدار ۳۶۵ روزه خود را در سال جاری ثبت کند. [n] وی افزود: به این ترتیب پالایشگاه سوم پارس جنوبی در کنار حفظ تولید سالهای ۹۲ و ۹۳ که ضریب اطمینان ۹۹٫۹۷ درصدی را ارائه کرده است، در سال جاری علاوه بر ضریب اطمینان تولید، ضریب دسترس پذیری بالاتری را تثبیت می‌کند. [n] به گفته رئیس بهره برداری پالایشگاه سوم مجتمع پارس جنوبی، با حذف تعمیرات اساسی و تداوم ۱۷ روزه برداشت گاز از مخازن مشترک، تولید پالایشگاه نسبت به سال گذشته سه درصد افزایش خواهد داشت که درآمدی بیش از ۴۰۰ میلیارد تومان، معادل یک درصد بودجه عمرانی کل کشور را در بر می‌گیرد. [n] عطارزاده از اعتماد مدیرعامل مجتمع، مدیر پالایشگاه، اهتمام همکاران واحدهای بهره ‌برداری، مهندسی، تعمیرات، بازرسی فنی و سایر واحدهای پشتیبانی در دستیابی به این موفقیت، تقدیر و تشکر کرد.\n"
          ]
        }
      ]
    },
    {
      "cell_type": "code",
      "source": [],
      "metadata": {
        "id": "cVXDE8sfWq2H"
      },
      "execution_count": null,
      "outputs": []
    },
    {
      "cell_type": "code",
      "source": [],
      "metadata": {
        "id": "w1pD9bWwWrCX"
      },
      "execution_count": null,
      "outputs": []
    },
    {
      "cell_type": "code",
      "source": [],
      "metadata": {
        "id": "xvxE2QyMWrLx"
      },
      "execution_count": null,
      "outputs": []
    }
  ],
  "metadata": {
    "colab": {
      "provenance": []
    },
    "kernelspec": {
      "display_name": "Python 3",
      "name": "python3"
    },
    "language_info": {
      "name": "python"
    }
  },
  "nbformat": 4,
  "nbformat_minor": 0
}