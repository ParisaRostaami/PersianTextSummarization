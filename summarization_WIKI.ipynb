{
  "nbformat": 4,
  "nbformat_minor": 0,
  "metadata": {
    "colab": {
      "provenance": []
    },
    "kernelspec": {
      "name": "python3",
      "display_name": "Python 3"
    },
    "language_info": {
      "name": "python"
    }
  },
  "cells": [
    {
      "cell_type": "code",
      "source": [
        "pip install parsivar"
      ],
      "metadata": {
        "colab": {
          "base_uri": "https://localhost:8080/"
        },
        "id": "8pWY3-Ldjrtj",
        "outputId": "c7c8143b-e51d-423a-8d54-67e24ba04fcb"
      },
      "execution_count": null,
      "outputs": [
        {
          "output_type": "stream",
          "name": "stdout",
          "text": [
            "Collecting parsivar\n",
            "  Downloading parsivar-0.2.3.tar.gz (36.2 MB)\n",
            "\u001b[K     |████████████████████████████████| 36.2 MB 365 kB/s \n",
            "\u001b[?25hCollecting nltk==3.4.5\n",
            "  Downloading nltk-3.4.5.zip (1.5 MB)\n",
            "\u001b[K     |████████████████████████████████| 1.5 MB 51.6 MB/s \n",
            "\u001b[?25hRequirement already satisfied: six in /usr/local/lib/python3.7/dist-packages (from nltk==3.4.5->parsivar) (1.15.0)\n",
            "Building wheels for collected packages: parsivar, nltk\n",
            "  Building wheel for parsivar (setup.py) ... \u001b[?25l\u001b[?25hdone\n",
            "  Created wheel for parsivar: filename=parsivar-0.2.3-py3-none-any.whl size=36492972 sha256=0c8cb9a3057071895dd0f6885b3a91e2b7e672c4dc2c24d138e43ba026693d38\n",
            "  Stored in directory: /root/.cache/pip/wheels/ae/67/7a/49cbf08f64d3f76a26eceaf0e481a40e233f05d4356875cbed\n",
            "  Building wheel for nltk (setup.py) ... \u001b[?25l\u001b[?25hdone\n",
            "  Created wheel for nltk: filename=nltk-3.4.5-py3-none-any.whl size=1449922 sha256=fdbb2d04b72bb35024c97f08e12f6efb810eca772eb3cfc8863065834bf376e1\n",
            "  Stored in directory: /root/.cache/pip/wheels/48/8b/7f/473521e0c731c6566d631b281f323842bbda9bd819eb9a3ead\n",
            "Successfully built parsivar nltk\n",
            "Installing collected packages: nltk, parsivar\n",
            "  Attempting uninstall: nltk\n",
            "    Found existing installation: nltk 3.2.5\n",
            "    Uninstalling nltk-3.2.5:\n",
            "      Successfully uninstalled nltk-3.2.5\n",
            "Successfully installed nltk-3.4.5 parsivar-0.2.3\n"
          ]
        }
      ]
    },
    {
      "cell_type": "code",
      "execution_count": null,
      "metadata": {
        "id": "aKIdiAPG5P3m"
      },
      "outputs": [],
      "source": [
        "import numpy as np\n",
        "import pandas as pd\n",
        "from IPython import display\n",
        "from sklearn.model_selection import train_test_split\n",
        "import tensorflow as tf \n",
        "import matplotlib as mpl\n",
        "import matplotlib.pyplot as plt\n",
        "%matplotlib inline\n",
        "import seaborn as sns\n",
        "from __future__ import unicode_literals\n",
        "import parsivar\n",
        "from parsivar import Normalizer \n",
        "from parsivar import Tokenizer \n",
        "from parsivar import FindStems"
      ]
    },
    {
      "cell_type": "code",
      "source": [
        "from google.colab import drive\n",
        "drive.mount('/content/gdrive/')"
      ],
      "metadata": {
        "colab": {
          "base_uri": "https://localhost:8080/"
        },
        "id": "-WKm-vBH5egf",
        "outputId": "07250740-3235-4f95-de51-572cc863fb4d"
      },
      "execution_count": null,
      "outputs": [
        {
          "output_type": "stream",
          "name": "stdout",
          "text": [
            "Mounted at /content/gdrive/\n"
          ]
        }
      ]
    },
    {
      "cell_type": "code",
      "source": [
        "!ls"
      ],
      "metadata": {
        "id": "n3VXGocu5gGu",
        "colab": {
          "base_uri": "https://localhost:8080/"
        },
        "outputId": "91e08764-1d24-4874-9f44-f992a07e559b"
      },
      "execution_count": null,
      "outputs": [
        {
          "output_type": "stream",
          "name": "stdout",
          "text": [
            "gdrive\tsample_data\n"
          ]
        }
      ]
    },
    {
      "cell_type": "code",
      "source": [
        "%cd /content/gdrive/MyDrive/summary/"
      ],
      "metadata": {
        "id": "jD0388FR5hxS",
        "colab": {
          "base_uri": "https://localhost:8080/"
        },
        "outputId": "bdc1b04c-f19a-40c8-f242-96ff05e252b7"
      },
      "execution_count": null,
      "outputs": [
        {
          "output_type": "stream",
          "name": "stdout",
          "text": [
            "/content/gdrive/MyDrive/summary\n"
          ]
        }
      ]
    },
    {
      "cell_type": "code",
      "source": [
        "train = pd.read_csv('WIKI_train.csv' , sep='\\t')\n",
        "train.head()"
      ],
      "metadata": {
        "id": "w8CdcPOR5mlN",
        "colab": {
          "base_uri": "https://localhost:8080/",
          "height": 285
        },
        "outputId": "c5b4ae33-2e0d-4126-c33e-6d4e06592259"
      },
      "execution_count": null,
      "outputs": [
        {
          "output_type": "execute_result",
          "data": {
            "text/html": [
              "\n",
              "  <div id=\"df-2fb9f9fe-b1e6-4b8c-a2ec-323bd5f43560\">\n",
              "    <div class=\"colab-df-container\">\n",
              "      <div>\n",
              "<style scoped>\n",
              "    .dataframe tbody tr th:only-of-type {\n",
              "        vertical-align: middle;\n",
              "    }\n",
              "\n",
              "    .dataframe tbody tr th {\n",
              "        vertical-align: top;\n",
              "    }\n",
              "\n",
              "    .dataframe thead th {\n",
              "        text-align: right;\n",
              "    }\n",
              "</style>\n",
              "<table border=\"1\" class=\"dataframe\">\n",
              "  <thead>\n",
              "    <tr style=\"text-align: right;\">\n",
              "      <th></th>\n",
              "      <th>id</th>\n",
              "      <th>link</th>\n",
              "      <th>title</th>\n",
              "      <th>article</th>\n",
              "      <th>highlights</th>\n",
              "    </tr>\n",
              "  </thead>\n",
              "  <tbody>\n",
              "    <tr>\n",
              "      <th>0</th>\n",
              "      <td>50d87b5341f6a119dbeef8f029f79956f4018714</td>\n",
              "      <td>https://fa.wikipedia.org/wiki/آنتونن_مان</td>\n",
              "      <td>آنتونن مان</td>\n",
              "      <td>مان عضو تیم آللویا بود که در سال ۱۹۲۷ برندهٔ ج...</td>\n",
              "      <td>آنتونن مان (تلفظ می‌شود : [ ɑ̃ . tɔ . nɛ̃ maɲ ...</td>\n",
              "    </tr>\n",
              "    <tr>\n",
              "      <th>1</th>\n",
              "      <td>1007f5ea734dda9133acadce25d052e4dfa0ecbb</td>\n",
              "      <td>https://fa.wikipedia.org/wiki/ابوالحسن_فیروزابادی</td>\n",
              "      <td>ابوالحسن فیروزابادی</td>\n",
              "      <td>در ۹ خرداد ۱۳۹۷ ، وزارت خزانه‌داری ایالات متحد...</td>\n",
              "      <td>ابوالحسن فیروزآبادی (زادهٔ ۱۳۴۰ در نجف عراق) س...</td>\n",
              "    </tr>\n",
              "    <tr>\n",
              "      <th>2</th>\n",
              "      <td>8a25152400051da593e33272dea8c63110e4fdf7</td>\n",
              "      <td>https://fa.wikipedia.org/wiki/نابرابری_هوفدینگ</td>\n",
              "      <td>نابرابری هوفدینگ</td>\n",
              "      <td>یکی از سوالات اساسی در احتمالات ، آمار و یادگی...</td>\n",
              "      <td>در نظریه احتمال ، نابرابری هوفدینگ (hoeffding'...</td>\n",
              "    </tr>\n",
              "    <tr>\n",
              "      <th>3</th>\n",
              "      <td>0857a360bdc18a95faabbe71394387de763c27f0</td>\n",
              "      <td>https://fa.wikipedia.org/wiki/سپس_هیچ_کدام_باق...</td>\n",
              "      <td>سپس هیچ کدام باقی نماندند (مجموعه تلویزیونی)</td>\n",
              "      <td>در یک روز گرم در اواخر اوت سال ۱۹۳۹ ، هشت نفر ...</td>\n",
              "      <td>سپس هیچ‌کدام باقی نماندند (انگلیسی : and then ...</td>\n",
              "    </tr>\n",
              "    <tr>\n",
              "      <th>4</th>\n",
              "      <td>2afe275ce443821bb19f4951f9dfdf52f20e12a6</td>\n",
              "      <td>https://fa.wikipedia.org/wiki/دبی_رو</td>\n",
              "      <td>دبی رو</td>\n",
              "      <td>دبی رو در اواسط دهه ۸۰ زمانی که جکسون برای درم...</td>\n",
              "      <td>دبورا جین « دبی » رو (به انگلیسی : deborah jea...</td>\n",
              "    </tr>\n",
              "  </tbody>\n",
              "</table>\n",
              "</div>\n",
              "      <button class=\"colab-df-convert\" onclick=\"convertToInteractive('df-2fb9f9fe-b1e6-4b8c-a2ec-323bd5f43560')\"\n",
              "              title=\"Convert this dataframe to an interactive table.\"\n",
              "              style=\"display:none;\">\n",
              "        \n",
              "  <svg xmlns=\"http://www.w3.org/2000/svg\" height=\"24px\"viewBox=\"0 0 24 24\"\n",
              "       width=\"24px\">\n",
              "    <path d=\"M0 0h24v24H0V0z\" fill=\"none\"/>\n",
              "    <path d=\"M18.56 5.44l.94 2.06.94-2.06 2.06-.94-2.06-.94-.94-2.06-.94 2.06-2.06.94zm-11 1L8.5 8.5l.94-2.06 2.06-.94-2.06-.94L8.5 2.5l-.94 2.06-2.06.94zm10 10l.94 2.06.94-2.06 2.06-.94-2.06-.94-.94-2.06-.94 2.06-2.06.94z\"/><path d=\"M17.41 7.96l-1.37-1.37c-.4-.4-.92-.59-1.43-.59-.52 0-1.04.2-1.43.59L10.3 9.45l-7.72 7.72c-.78.78-.78 2.05 0 2.83L4 21.41c.39.39.9.59 1.41.59.51 0 1.02-.2 1.41-.59l7.78-7.78 2.81-2.81c.8-.78.8-2.07 0-2.86zM5.41 20L4 18.59l7.72-7.72 1.47 1.35L5.41 20z\"/>\n",
              "  </svg>\n",
              "      </button>\n",
              "      \n",
              "  <style>\n",
              "    .colab-df-container {\n",
              "      display:flex;\n",
              "      flex-wrap:wrap;\n",
              "      gap: 12px;\n",
              "    }\n",
              "\n",
              "    .colab-df-convert {\n",
              "      background-color: #E8F0FE;\n",
              "      border: none;\n",
              "      border-radius: 50%;\n",
              "      cursor: pointer;\n",
              "      display: none;\n",
              "      fill: #1967D2;\n",
              "      height: 32px;\n",
              "      padding: 0 0 0 0;\n",
              "      width: 32px;\n",
              "    }\n",
              "\n",
              "    .colab-df-convert:hover {\n",
              "      background-color: #E2EBFA;\n",
              "      box-shadow: 0px 1px 2px rgba(60, 64, 67, 0.3), 0px 1px 3px 1px rgba(60, 64, 67, 0.15);\n",
              "      fill: #174EA6;\n",
              "    }\n",
              "\n",
              "    [theme=dark] .colab-df-convert {\n",
              "      background-color: #3B4455;\n",
              "      fill: #D2E3FC;\n",
              "    }\n",
              "\n",
              "    [theme=dark] .colab-df-convert:hover {\n",
              "      background-color: #434B5C;\n",
              "      box-shadow: 0px 1px 3px 1px rgba(0, 0, 0, 0.15);\n",
              "      filter: drop-shadow(0px 1px 2px rgba(0, 0, 0, 0.3));\n",
              "      fill: #FFFFFF;\n",
              "    }\n",
              "  </style>\n",
              "\n",
              "      <script>\n",
              "        const buttonEl =\n",
              "          document.querySelector('#df-2fb9f9fe-b1e6-4b8c-a2ec-323bd5f43560 button.colab-df-convert');\n",
              "        buttonEl.style.display =\n",
              "          google.colab.kernel.accessAllowed ? 'block' : 'none';\n",
              "\n",
              "        async function convertToInteractive(key) {\n",
              "          const element = document.querySelector('#df-2fb9f9fe-b1e6-4b8c-a2ec-323bd5f43560');\n",
              "          const dataTable =\n",
              "            await google.colab.kernel.invokeFunction('convertToInteractive',\n",
              "                                                     [key], {});\n",
              "          if (!dataTable) return;\n",
              "\n",
              "          const docLinkHtml = 'Like what you see? Visit the ' +\n",
              "            '<a target=\"_blank\" href=https://colab.research.google.com/notebooks/data_table.ipynb>data table notebook</a>'\n",
              "            + ' to learn more about interactive tables.';\n",
              "          element.innerHTML = '';\n",
              "          dataTable['output_type'] = 'display_data';\n",
              "          await google.colab.output.renderOutput(dataTable, element);\n",
              "          const docLink = document.createElement('div');\n",
              "          docLink.innerHTML = docLinkHtml;\n",
              "          element.appendChild(docLink);\n",
              "        }\n",
              "      </script>\n",
              "    </div>\n",
              "  </div>\n",
              "  "
            ],
            "text/plain": [
              "                                         id  ...                                         highlights\n",
              "0  50d87b5341f6a119dbeef8f029f79956f4018714  ...  آنتونن مان (تلفظ می‌شود : [ ɑ̃ . tɔ . nɛ̃ maɲ ...\n",
              "1  1007f5ea734dda9133acadce25d052e4dfa0ecbb  ...  ابوالحسن فیروزآبادی (زادهٔ ۱۳۴۰ در نجف عراق) س...\n",
              "2  8a25152400051da593e33272dea8c63110e4fdf7  ...  در نظریه احتمال ، نابرابری هوفدینگ (hoeffding'...\n",
              "3  0857a360bdc18a95faabbe71394387de763c27f0  ...  سپس هیچ‌کدام باقی نماندند (انگلیسی : and then ...\n",
              "4  2afe275ce443821bb19f4951f9dfdf52f20e12a6  ...  دبورا جین « دبی » رو (به انگلیسی : deborah jea...\n",
              "\n",
              "[5 rows x 5 columns]"
            ]
          },
          "metadata": {},
          "execution_count": 6
        }
      ]
    },
    {
      "cell_type": "code",
      "source": [
        "train.shape"
      ],
      "metadata": {
        "id": "XCAKvu125vD4",
        "colab": {
          "base_uri": "https://localhost:8080/"
        },
        "outputId": "bcc7a12d-7b5f-4038-abbf-23c2d8c40c38"
      },
      "execution_count": null,
      "outputs": [
        {
          "output_type": "execute_result",
          "data": {
            "text/plain": [
              "(45653, 5)"
            ]
          },
          "metadata": {},
          "execution_count": 7
        }
      ]
    },
    {
      "cell_type": "code",
      "source": [
        "print(train.loc[0, 'article'])"
      ],
      "metadata": {
        "id": "TJTL_kbi56z6",
        "colab": {
          "base_uri": "https://localhost:8080/"
        },
        "outputId": "0322f19b-28ac-4826-bd46-3060116f020e"
      },
      "execution_count": null,
      "outputs": [
        {
          "output_type": "stream",
          "name": "stdout",
          "text": [
            "مان عضو تیم آللویا بود که در سال ۱۹۲۷ برندهٔ جایزه بزرگ ولبر شد . این جایزه بزرگ را مسابقات قهرمانی جادهٔ غیر رسمی جهان در نظر می‌گرفتند . نخستین حضور مان در تور دو فرانس نیز در همان سال بود که در کنار آندره لدیک در تیم فرانسه قرار داشت . دو پیروزی مانی در تور کیفیت غریبی داشت ؛ زیرا همواره با تصادف ، سقوط و بدشانسی روبرو بود . در تور ۱۹۳۱ تصادف کرد و بارها پسانتی ایتالیایی و دمویسر بلژیکی حمله کردند تا از او پیشی بگیرند . در پایان تور به اندازه‌ای خسته بود که در دورهٔ بعد شرکت نکرد . در سال ۱۹۳۴ دوباره با کمک هم‌تیمی‌های خود رنه ویتو ، ژرژ اسپیشه و روژه لاپبی به پیروزی رسید . مان برندهٔ نخستین تایم تریل تور دو فرانس شد که به مسافت ۸۰ کیلومتر در سال ۱۹۳۴ برگزار شده‌بود . در سال ۱۹۳۶ مان در تور دو فرانس بر سکوی دوم ایستاد و قهرمان مسابقهٔ استقامت جاده در مسابقات قهرمانی جهان شد . مان در روز دوم رهبری تور را در دست گرفت و تیم او در ۱۹ مرحله از ۲۳ مرحله پیروز شد . هنگامی که در پیرنه دوچرخه‌اش شکست ، امیدش از میان رفت . جوان‌ترین رکابزن تیمش رنه ویتو در حالی که خودش در رتبهٔ سوم بود ، دوچرخهٔ خود را به‌مان داد . در پایان تور ، مان برندهٔ تور بود ؛ ولی ویتو که مسابقه را در رتبهٔ پنجم به پایان رسانده‌بود ، قهرمان خوانده می‌شد . مان پس از بازنشستگی خود ، مدیر ورزشی چند رکابزن موفق از جمله لویزون بوبه و ریمون پولیدو در تیم مرسیه بود . او را یکی از بهترین مدیران ورزشی دوچرخه‌سواری می‌دانند . مان در بیشتر عمر خود در لیوری-گرگان در دپارتمان سن-سن-دنی در نزدیکی پاریس زندگی کرد . در سال ۲۰۰۴ ، خط پایان یکی از مراحل تور دو فرانس به افتخار صدمین سالروز تولد او در آنجا قرار گرفت . مان در سال ۱۹۶۲ نشان لژیون دونور را دریافت کرد .\n"
          ]
        }
      ]
    },
    {
      "cell_type": "code",
      "source": [
        "print(train.loc[0, 'highlights'])"
      ],
      "metadata": {
        "id": "_c2vxJdF6H0e",
        "colab": {
          "base_uri": "https://localhost:8080/"
        },
        "outputId": "a0117873-1566-4259-9283-01c71024b85c"
      },
      "execution_count": null,
      "outputs": [
        {
          "output_type": "stream",
          "name": "stdout",
          "text": [
            "آنتونن مان (تلفظ می‌شود : [ ɑ̃ . tɔ . nɛ̃ maɲ ] ؛ ۱۵ فوریهٔ ۱۹۰۴ -۸ سپتامبر ۱۹۸۳) رکابزن فرانسوی بود که در رشتهٔ دوچرخه‌سواری جاده فعالیت می‌کرد . او توانست در سال‌های ۱۹۳۱ و ۱۹۳۴ برندهٔ تور دو فرانس شود . فعالیت حرفه‌ای مان از سال ۱۹۲۷ تا ۱۹۳۹ به طول انجامید و پس از آن به مربی‌گری پرداخت . شهرت او به فرار از مصاحبه و خبرنگاران بود .\n"
          ]
        }
      ]
    },
    {
      "cell_type": "code",
      "source": [
        "train = train[['highlights','article']]"
      ],
      "metadata": {
        "id": "ggpHUfCV6ToH"
      },
      "execution_count": null,
      "outputs": []
    },
    {
      "cell_type": "code",
      "source": [
        "train['text_length'] = train['article'].str.count(' ')"
      ],
      "metadata": {
        "id": "-t868fHo6d6c"
      },
      "execution_count": null,
      "outputs": []
    },
    {
      "cell_type": "code",
      "source": [
        "train['text_length'].describe()"
      ],
      "metadata": {
        "id": "iaTcgplj6iK0",
        "colab": {
          "base_uri": "https://localhost:8080/"
        },
        "outputId": "8ca778d5-d81a-4985-cfff-325296389b15"
      },
      "execution_count": null,
      "outputs": [
        {
          "output_type": "execute_result",
          "data": {
            "text/plain": [
              "count    7485.000000\n",
              "mean      275.283367\n",
              "std        77.902591\n",
              "min        14.000000\n",
              "25%       244.000000\n",
              "50%       285.000000\n",
              "75%       332.000000\n",
              "max       389.000000\n",
              "Name: text_length, dtype: float64"
            ]
          },
          "metadata": {},
          "execution_count": 70
        }
      ]
    },
    {
      "cell_type": "code",
      "source": [
        "train['summary_length'] = train['highlights'].str.count(' ')\n",
        "train['summary_length'].describe()"
      ],
      "metadata": {
        "id": "L-CKhToI6jcN",
        "colab": {
          "base_uri": "https://localhost:8080/"
        },
        "outputId": "ba30f879-5a06-4f20-8339-8c24cf729abc"
      },
      "execution_count": null,
      "outputs": [
        {
          "output_type": "stream",
          "name": "stderr",
          "text": [
            "/usr/local/lib/python3.7/dist-packages/ipykernel_launcher.py:1: SettingWithCopyWarning: \n",
            "A value is trying to be set on a copy of a slice from a DataFrame.\n",
            "Try using .loc[row_indexer,col_indexer] = value instead\n",
            "\n",
            "See the caveats in the documentation: https://pandas.pydata.org/pandas-docs/stable/user_guide/indexing.html#returning-a-view-versus-a-copy\n",
            "  \"\"\"Entry point for launching an IPython kernel.\n"
          ]
        },
        {
          "output_type": "execute_result",
          "data": {
            "text/plain": [
              "count    7485.000000\n",
              "mean       34.837141\n",
              "std        13.006373\n",
              "min        12.000000\n",
              "25%        24.000000\n",
              "50%        34.000000\n",
              "75%        46.000000\n",
              "max        59.000000\n",
              "Name: summary_length, dtype: float64"
            ]
          },
          "metadata": {},
          "execution_count": 71
        }
      ]
    },
    {
      "cell_type": "code",
      "source": [
        "plt.hist(train['text_length'] , color= 'purple')\n",
        "plt.xticks(rotation=0)\n",
        "plt.xlabel(' ')\n",
        "plt.ylabel(' ')\n",
        "sns.set_theme()\n",
        "plt.show()"
      ],
      "metadata": {
        "id": "9v18Gk8-68f3",
        "colab": {
          "base_uri": "https://localhost:8080/",
          "height": 285
        },
        "outputId": "85011b74-5d6f-48fc-da03-1e685799597d"
      },
      "execution_count": null,
      "outputs": [
        {
          "output_type": "display_data",
          "data": {
            "image/png": "[encoded data removed]",
            "text/plain": [
              "<Figure size 432x288 with 1 Axes>"
            ]
          },
          "metadata": {}
        }
      ]
    },
    {
      "cell_type": "code",
      "source": [
        "plt.hist(train['summary_length'] , color= 'purple')\n",
        "plt.xticks(rotation=0)\n",
        "plt.xlabel(' ')\n",
        "plt.ylabel(' ')\n",
        "sns.set_theme()\n",
        "plt.show()"
      ],
      "metadata": {
        "id": "B5JNH4Il6mW5",
        "colab": {
          "base_uri": "https://localhost:8080/",
          "height": 287
        },
        "outputId": "860da483-05dd-496b-a084-eb38f3f0bb0c"
      },
      "execution_count": null,
      "outputs": [
        {
          "output_type": "display_data",
          "data": {
            "image/png": "[encoded data removed]",
            "text/plain": [
              "<Figure size 432x288 with 1 Axes>"
            ]
          },
          "metadata": {}
        }
      ]
    },
    {
      "cell_type": "code",
      "source": [
        "train = train.loc[train['summary_length']<60]"
      ],
      "metadata": {
        "id": "ez8ebZJH7cV3"
      },
      "execution_count": null,
      "outputs": []
    },
    {
      "cell_type": "code",
      "source": [
        "train = train.loc[train['text_length']<390]"
      ],
      "metadata": {
        "id": "xyo7luEt7yAp"
      },
      "execution_count": null,
      "outputs": []
    },
    {
      "cell_type": "code",
      "source": [
        "print(train.shape)"
      ],
      "metadata": {
        "id": "d7yWWlGs72dN",
        "colab": {
          "base_uri": "https://localhost:8080/"
        },
        "outputId": "437a5c22-b7db-4722-eaf7-8264ed08b5f8"
      },
      "execution_count": null,
      "outputs": [
        {
          "output_type": "stream",
          "name": "stdout",
          "text": [
            "(7485, 4)\n"
          ]
        }
      ]
    },
    {
      "cell_type": "code",
      "source": [
        "my_normalizer = Normalizer(pinglish_conversion_needed=True,date_normalizing_needed=True)"
      ],
      "metadata": {
        "id": "dAwaRODDkNjy"
      },
      "execution_count": null,
      "outputs": []
    },
    {
      "cell_type": "code",
      "source": [
        "# sentences = []\n",
        "# for i in range(len(train['article'])):\n",
        "#     normal = my_normalizer.normalize(train['article'][i])\n",
        "#     print(normal)\n",
        "#     print('__________________________')\n",
        "#     sentences.append(normal)\n",
        "#     #replace normalize sentences \n",
        "#     train['article'] = train['article'].replace(train['article'][i],sentences[i])"
      ],
      "metadata": {
        "id": "1Wrq-siHl0za"
      },
      "execution_count": null,
      "outputs": []
    },
    {
      "cell_type": "code",
      "source": [
        "train['text_no_punctuation'] = train['article'].str.replace('[^\\w\\s]','')\n",
        "train['text_no_punctuation'] = train['text_no_punctuation'].str.replace('[^آا-ی]',' ')\n",
        "train['text_no_punctuation'] = train['text_no_punctuation'].str.replace('\\([^)]*\\)','')"
      ],
      "metadata": {
        "id": "XMM4ZNkL74FE"
      },
      "execution_count": null,
      "outputs": []
    },
    {
      "cell_type": "code",
      "source": [
        "train['summary_no_punctuation'] =  '_start_' + ' ' +train['highlights'].str.replace('[^\\w\\s]','')+ ' ' +'_end_'"
      ],
      "metadata": {
        "id": "k68SN1JJ8Kgf"
      },
      "execution_count": null,
      "outputs": []
    },
    {
      "cell_type": "code",
      "source": [
        "train"
      ],
      "metadata": {
        "id": "d0S65K8c8Nbk",
        "colab": {
          "base_uri": "https://localhost:8080/",
          "height": 467
        },
        "outputId": "1c87732c-419d-4af9-d451-f3125cc6dd9b"
      },
      "execution_count": null,
      "outputs": [
        {
          "output_type": "execute_result",
          "data": {
            "text/html": [
              "\n",
              "  <div id=\"df-e38424e0-2266-4a80-a388-d90b15e6c651\">\n",
              "    <div class=\"colab-df-container\">\n",
              "      <div>\n",
              "<style scoped>\n",
              "    .dataframe tbody tr th:only-of-type {\n",
              "        vertical-align: middle;\n",
              "    }\n",
              "\n",
              "    .dataframe tbody tr th {\n",
              "        vertical-align: top;\n",
              "    }\n",
              "\n",
              "    .dataframe thead th {\n",
              "        text-align: right;\n",
              "    }\n",
              "</style>\n",
              "<table border=\"1\" class=\"dataframe\">\n",
              "  <thead>\n",
              "    <tr style=\"text-align: right;\">\n",
              "      <th></th>\n",
              "      <th>highlights</th>\n",
              "      <th>article</th>\n",
              "      <th>text_length</th>\n",
              "      <th>summary_length</th>\n",
              "      <th>text_no_punctuation</th>\n",
              "      <th>summary_no_punctuation</th>\n",
              "    </tr>\n",
              "  </thead>\n",
              "  <tbody>\n",
              "    <tr>\n",
              "      <th>2</th>\n",
              "      <td>در نظریه احتمال ، نابرابری هوفدینگ (hoeffding'...</td>\n",
              "      <td>یکی از سوالات اساسی در احتمالات ، آمار و یادگی...</td>\n",
              "      <td>311</td>\n",
              "      <td>39</td>\n",
              "      <td>یکی از سوالات اساسی در احتمالات  آمار و یادگیر...</td>\n",
              "      <td>_start_ در نظریه احتمال  نابرابری هوفدینگ hoef...</td>\n",
              "    </tr>\n",
              "    <tr>\n",
              "      <th>4</th>\n",
              "      <td>دبورا جین « دبی » رو (به انگلیسی : deborah jea...</td>\n",
              "      <td>دبی رو در اواسط دهه ۸۰ زمانی که جکسون برای درم...</td>\n",
              "      <td>269</td>\n",
              "      <td>43</td>\n",
              "      <td>دبی رو در اواسط دهه    زمانی که جکسون برای درم...</td>\n",
              "      <td>_start_ دبورا جین  دبی  رو به انگلیسی  deborah...</td>\n",
              "    </tr>\n",
              "    <tr>\n",
              "      <th>6</th>\n",
              "      <td>جان محمد نبی زاده (متولد ۱۳۵۳ در ولایت تخار) ر...</td>\n",
              "      <td>جان محمد در ماه اسد سال ۱۳۵۳ در روستای دهبالا ...</td>\n",
              "      <td>152</td>\n",
              "      <td>52</td>\n",
              "      <td>جان محمد در ماه اسد سال      در روستای دهبالا ...</td>\n",
              "      <td>_start_ جان محمد نبی زاده متولد ۱۳۵۳ در ولایت ...</td>\n",
              "    </tr>\n",
              "    <tr>\n",
              "      <th>9</th>\n",
              "      <td>مختصات : ۳۶ ° ۱۵ ′ ۵۷ ٫ ۲۶ ″ شمالی ۵۰ °۰′ ۱۷ ٫...</td>\n",
              "      <td>عمارت سردار مفخم توسط شاهزاده اکبر میرزا ملقب ...</td>\n",
              "      <td>379</td>\n",
              "      <td>54</td>\n",
              "      <td>عمارت سردار مفخم توسط شاهزاده اکبر میرزا ملقب ...</td>\n",
              "      <td>_start_ مختصات  ۳۶  ۱۵  ۵۷  ۲۶  شمالی ۵۰ ۰ ۱۷ ...</td>\n",
              "    </tr>\n",
              "    <tr>\n",
              "      <th>12</th>\n",
              "      <td>عارف ملکوف (ترکی آذربایجانی : arif məlikov‎ ؛ ...</td>\n",
              "      <td>عارف ملکوف ۱۳ سپتامبر سال ۱۹۳۳ در شهر باکوی آذ...</td>\n",
              "      <td>371</td>\n",
              "      <td>31</td>\n",
              "      <td>عارف ملکوف    سپتامبر سال      در شهر باکوی آذ...</td>\n",
              "      <td>_start_ عارف ملکوف ترکی آذربایجانی  arif məlik...</td>\n",
              "    </tr>\n",
              "    <tr>\n",
              "      <th>...</th>\n",
              "      <td>...</td>\n",
              "      <td>...</td>\n",
              "      <td>...</td>\n",
              "      <td>...</td>\n",
              "      <td>...</td>\n",
              "      <td>...</td>\n",
              "    </tr>\n",
              "    <tr>\n",
              "      <th>45627</th>\n",
              "      <td>حمیدرضا گنگوزهی (درگذشتهٔ ۱۵ فروردین ۱۳۹۵ در خ...</td>\n",
              "      <td>حمیدرضا گنگوزهی بلوچ معلم دبستان ۵۳ نفری در رو...</td>\n",
              "      <td>290</td>\n",
              "      <td>35</td>\n",
              "      <td>حمیدرضا گنگوزهی بلوچ معلم دبستان    نفری در رو...</td>\n",
              "      <td>_start_ حمیدرضا گنگوزهی درگذشته ۱۵ فروردین ۱۳۹...</td>\n",
              "    </tr>\n",
              "    <tr>\n",
              "      <th>45638</th>\n",
              "      <td>مافیای آذربایجانی ، اصطلاحی عمومی برای گروه‌ها...</td>\n",
              "      <td>مافیای آذربایجانی ، یکی از قدیمی‌ترین گروه‌های...</td>\n",
              "      <td>275</td>\n",
              "      <td>57</td>\n",
              "      <td>مافیای آذربایجانی  یکی از قدیمیترین گروههای ما...</td>\n",
              "      <td>_start_ مافیای آذربایجانی  اصطلاحی عمومی برای ...</td>\n",
              "    </tr>\n",
              "    <tr>\n",
              "      <th>45641</th>\n",
              "      <td>فیلیپ آنتونی جونز (به انگلیسی : philip anthony...</td>\n",
              "      <td>جونز در سال ۲۰۰۳ به عضویت تیم جوانان بلکبرن را...</td>\n",
              "      <td>251</td>\n",
              "      <td>51</td>\n",
              "      <td>جونز در سال      به عضویت تیم جوانان بلکبرن را...</td>\n",
              "      <td>_start_ فیلیپ آنتونی جونز به انگلیسی  philip a...</td>\n",
              "    </tr>\n",
              "    <tr>\n",
              "      <th>45642</th>\n",
              "      <td>خانواده دونالد ترامپ ، رئیس‌جمهور ایالات متحده...</td>\n",
              "      <td>ملانیا ترامپ (پیشتر کناوس) , همسر سوم دونالد ت...</td>\n",
              "      <td>373</td>\n",
              "      <td>58</td>\n",
              "      <td>ملانیا ترامپ پیشتر کناوس  همسر سوم دونالد ترام...</td>\n",
              "      <td>_start_ خانواده دونالد ترامپ  رئیسجمهور ایالات...</td>\n",
              "    </tr>\n",
              "    <tr>\n",
              "      <th>45648</th>\n",
              "      <td>بلانچ بارتون (به انگلیسی : blanche barton) با ...</td>\n",
              "      <td>بارتون پس از پایان یافتن رابطه انتان لاوی و مع...</td>\n",
              "      <td>257</td>\n",
              "      <td>59</td>\n",
              "      <td>بارتون پس از پایان یافتن رابطه انتان لاوی و مع...</td>\n",
              "      <td>_start_ بلانچ بارتون به انگلیسی  blanche barto...</td>\n",
              "    </tr>\n",
              "  </tbody>\n",
              "</table>\n",
              "<p>7485 rows × 6 columns</p>\n",
              "</div>\n",
              "      <button class=\"colab-df-convert\" onclick=\"convertToInteractive('df-e38424e0-2266-4a80-a388-d90b15e6c651')\"\n",
              "              title=\"Convert this dataframe to an interactive table.\"\n",
              "              style=\"display:none;\">\n",
              "        \n",
              "  <svg xmlns=\"http://www.w3.org/2000/svg\" height=\"24px\"viewBox=\"0 0 24 24\"\n",
              "       width=\"24px\">\n",
              "    <path d=\"M0 0h24v24H0V0z\" fill=\"none\"/>\n",
              "    <path d=\"M18.56 5.44l.94 2.06.94-2.06 2.06-.94-2.06-.94-.94-2.06-.94 2.06-2.06.94zm-11 1L8.5 8.5l.94-2.06 2.06-.94-2.06-.94L8.5 2.5l-.94 2.06-2.06.94zm10 10l.94 2.06.94-2.06 2.06-.94-2.06-.94-.94-2.06-.94 2.06-2.06.94z\"/><path d=\"M17.41 7.96l-1.37-1.37c-.4-.4-.92-.59-1.43-.59-.52 0-1.04.2-1.43.59L10.3 9.45l-7.72 7.72c-.78.78-.78 2.05 0 2.83L4 21.41c.39.39.9.59 1.41.59.51 0 1.02-.2 1.41-.59l7.78-7.78 2.81-2.81c.8-.78.8-2.07 0-2.86zM5.41 20L4 18.59l7.72-7.72 1.47 1.35L5.41 20z\"/>\n",
              "  </svg>\n",
              "      </button>\n",
              "      \n",
              "  <style>\n",
              "    .colab-df-container {\n",
              "      display:flex;\n",
              "      flex-wrap:wrap;\n",
              "      gap: 12px;\n",
              "    }\n",
              "\n",
              "    .colab-df-convert {\n",
              "      background-color: #E8F0FE;\n",
              "      border: none;\n",
              "      border-radius: 50%;\n",
              "      cursor: pointer;\n",
              "      display: none;\n",
              "      fill: #1967D2;\n",
              "      height: 32px;\n",
              "      padding: 0 0 0 0;\n",
              "      width: 32px;\n",
              "    }\n",
              "\n",
              "    .colab-df-convert:hover {\n",
              "      background-color: #E2EBFA;\n",
              "      box-shadow: 0px 1px 2px rgba(60, 64, 67, 0.3), 0px 1px 3px 1px rgba(60, 64, 67, 0.15);\n",
              "      fill: #174EA6;\n",
              "    }\n",
              "\n",
              "    [theme=dark] .colab-df-convert {\n",
              "      background-color: #3B4455;\n",
              "      fill: #D2E3FC;\n",
              "    }\n",
              "\n",
              "    [theme=dark] .colab-df-convert:hover {\n",
              "      background-color: #434B5C;\n",
              "      box-shadow: 0px 1px 3px 1px rgba(0, 0, 0, 0.15);\n",
              "      filter: drop-shadow(0px 1px 2px rgba(0, 0, 0, 0.3));\n",
              "      fill: #FFFFFF;\n",
              "    }\n",
              "  </style>\n",
              "\n",
              "      <script>\n",
              "        const buttonEl =\n",
              "          document.querySelector('#df-e38424e0-2266-4a80-a388-d90b15e6c651 button.colab-df-convert');\n",
              "        buttonEl.style.display =\n",
              "          google.colab.kernel.accessAllowed ? 'block' : 'none';\n",
              "\n",
              "        async function convertToInteractive(key) {\n",
              "          const element = document.querySelector('#df-e38424e0-2266-4a80-a388-d90b15e6c651');\n",
              "          const dataTable =\n",
              "            await google.colab.kernel.invokeFunction('convertToInteractive',\n",
              "                                                     [key], {});\n",
              "          if (!dataTable) return;\n",
              "\n",
              "          const docLinkHtml = 'Like what you see? Visit the ' +\n",
              "            '<a target=\"_blank\" href=https://colab.research.google.com/notebooks/data_table.ipynb>data table notebook</a>'\n",
              "            + ' to learn more about interactive tables.';\n",
              "          element.innerHTML = '';\n",
              "          dataTable['output_type'] = 'display_data';\n",
              "          await google.colab.output.renderOutput(dataTable, element);\n",
              "          const docLink = document.createElement('div');\n",
              "          docLink.innerHTML = docLinkHtml;\n",
              "          element.appendChild(docLink);\n",
              "        }\n",
              "      </script>\n",
              "    </div>\n",
              "  </div>\n",
              "  "
            ],
            "text/plain": [
              "                                              highlights  ...                             summary_no_punctuation\n",
              "2      در نظریه احتمال ، نابرابری هوفدینگ (hoeffding'...  ...  _start_ در نظریه احتمال  نابرابری هوفدینگ hoef...\n",
              "4      دبورا جین « دبی » رو (به انگلیسی : deborah jea...  ...  _start_ دبورا جین  دبی  رو به انگلیسی  deborah...\n",
              "6      جان محمد نبی زاده (متولد ۱۳۵۳ در ولایت تخار) ر...  ...  _start_ جان محمد نبی زاده متولد ۱۳۵۳ در ولایت ...\n",
              "9      مختصات : ۳۶ ° ۱۵ ′ ۵۷ ٫ ۲۶ ″ شمالی ۵۰ °۰′ ۱۷ ٫...  ...  _start_ مختصات  ۳۶  ۱۵  ۵۷  ۲۶  شمالی ۵۰ ۰ ۱۷ ...\n",
              "12     عارف ملکوف (ترکی آذربایجانی : arif məlikov‎ ؛ ...  ...  _start_ عارف ملکوف ترکی آذربایجانی  arif məlik...\n",
              "...                                                  ...  ...                                                ...\n",
              "45627  حمیدرضا گنگوزهی (درگذشتهٔ ۱۵ فروردین ۱۳۹۵ در خ...  ...  _start_ حمیدرضا گنگوزهی درگذشته ۱۵ فروردین ۱۳۹...\n",
              "45638  مافیای آذربایجانی ، اصطلاحی عمومی برای گروه‌ها...  ...  _start_ مافیای آذربایجانی  اصطلاحی عمومی برای ...\n",
              "45641  فیلیپ آنتونی جونز (به انگلیسی : philip anthony...  ...  _start_ فیلیپ آنتونی جونز به انگلیسی  philip a...\n",
              "45642  خانواده دونالد ترامپ ، رئیس‌جمهور ایالات متحده...  ...  _start_ خانواده دونالد ترامپ  رئیسجمهور ایالات...\n",
              "45648  بلانچ بارتون (به انگلیسی : blanche barton) با ...  ...  _start_ بلانچ بارتون به انگلیسی  blanche barto...\n",
              "\n",
              "[7485 rows x 6 columns]"
            ]
          },
          "metadata": {},
          "execution_count": 23
        }
      ]
    },
    {
      "cell_type": "code",
      "source": [
        "print(train.loc[2, 'summary_no_punctuation'])"
      ],
      "metadata": {
        "id": "A1INBf8l8Ui1",
        "colab": {
          "base_uri": "https://localhost:8080/"
        },
        "outputId": "973b5c02-7187-4c3c-ceb8-0200fbe76cce"
      },
      "execution_count": null,
      "outputs": [
        {
          "output_type": "stream",
          "name": "stdout",
          "text": [
            "_start_ در نظریه احتمال  نابرابری هوفدینگ hoeffdings inequality ابزاری قدرتمند جهت محدود کردن جمع تعدادی متغیر تصادفی مستقل کراندار  است که کاربردهای وسیعی در یادگیری ماشین دارد  نابرابری هوفدینگ توسط واسیلی هوفدینگ در سال ۱۹۶۳ ثابت شد  _end_\n"
          ]
        }
      ]
    },
    {
      "cell_type": "code",
      "source": [
        "max_features1 = 5000\n",
        "maxlen1 = 295\n",
        "\n",
        "max_features2 = 5000\n",
        "maxlen2 = 35"
      ],
      "metadata": {
        "id": "ZLxRkQIk8kM6"
      },
      "execution_count": null,
      "outputs": []
    },
    {
      "cell_type": "code",
      "source": [
        "tok1 = tf.keras.preprocessing.text.Tokenizer(num_words=max_features1) \n",
        "tok1.fit_on_texts(list(train['text_no_punctuation'].astype(str)))"
      ],
      "metadata": {
        "id": "sxBqAd4U8oDs"
      },
      "execution_count": null,
      "outputs": []
    },
    {
      "cell_type": "code",
      "source": [
        "tf_train_text = tok1.texts_to_sequences(list(train['text_no_punctuation'].astype(str)))\n",
        "tf_train_text = tf.keras.preprocessing.sequence.pad_sequences(tf_train_text, maxlen=maxlen1)"
      ],
      "metadata": {
        "id": "5uCz7_QU8sFF"
      },
      "execution_count": null,
      "outputs": []
    },
    {
      "cell_type": "code",
      "source": [
        "tok2 = tf.keras.preprocessing.text.Tokenizer(num_words=max_features2, filters = '*') \n",
        "tok2.fit_on_texts(list(train['summary_no_punctuation'].astype(str)))"
      ],
      "metadata": {
        "id": "TR3jFASj8tcV"
      },
      "execution_count": null,
      "outputs": []
    },
    {
      "cell_type": "code",
      "source": [
        "tf_train_summary = tok2.texts_to_sequences(list(train['summary_no_punctuation'].astype(str)))\n",
        "tf_train_summary = tf.keras.preprocessing.sequence.pad_sequences(tf_train_summary, maxlen=maxlen2, padding ='post') "
      ],
      "metadata": {
        "id": "0Hsm6PbW8viY"
      },
      "execution_count": null,
      "outputs": []
    },
    {
      "cell_type": "code",
      "source": [
        "tf_train_summary.shape"
      ],
      "metadata": {
        "id": "x3JeeW508xCr",
        "colab": {
          "base_uri": "https://localhost:8080/"
        },
        "outputId": "2be58d2a-c0d6-4035-f9a8-fe425b5f2a6a"
      },
      "execution_count": null,
      "outputs": [
        {
          "output_type": "execute_result",
          "data": {
            "text/plain": [
              "(7485, 35)"
            ]
          },
          "metadata": {},
          "execution_count": 30
        }
      ]
    },
    {
      "cell_type": "code",
      "source": [
        "vectorized_summary = tf_train_summary\n",
        "vectorized_summary"
      ],
      "metadata": {
        "id": "tVgWnpUD8ywB",
        "colab": {
          "base_uri": "https://localhost:8080/"
        },
        "outputId": "d5e9303d-bedd-41f9-9ac7-7295753266ef"
      },
      "execution_count": null,
      "outputs": [
        {
          "output_type": "execute_result",
          "data": {
            "text/plain": [
              "array([[   3,    2,  429, ...,    0,    0,    0],\n",
              "       [   3, 1066, 3693, ...,   50,    4,    0],\n",
              "       [ 718,    2, 1002, ...,    1,  115,    4],\n",
              "       ...,\n",
              "       [1047,  141,   14, ...,  255,  290,    4],\n",
              "       [   8,    2,    1, ...,  260,  479,    4],\n",
              "       [  22, 1052,    6, ..., 2646,    5,    4]], dtype=int32)"
            ]
          },
          "metadata": {},
          "execution_count": 31
        }
      ]
    },
    {
      "cell_type": "code",
      "source": [
        "# For Decoder Input, you don't need the last word as that is only for prediction\n",
        "# when we are training using Teacher Forcing.\n",
        "decoder_input_data = vectorized_summary[:, :-1]"
      ],
      "metadata": {
        "id": "ztt0dQIX80Jj"
      },
      "execution_count": null,
      "outputs": []
    },
    {
      "cell_type": "code",
      "source": [
        "# Decoder Target Data Is Ahead By 1 Time Step From Decoder Input Data (Teacher Forcing)\n",
        "decoder_target_data = vectorized_summary[:, 1:]"
      ],
      "metadata": {
        "id": "qph0CBLC81dY"
      },
      "execution_count": null,
      "outputs": []
    },
    {
      "cell_type": "code",
      "source": [
        "print(f'Shape of decoder input: {decoder_input_data.shape}')\n",
        "print(f'Shape of decoder target: {decoder_target_data.shape}')\n",
        "\n",
        "vectorized_text = tf_train_text\n",
        "# Encoder input is simply the body of the issue text\n",
        "encoder_input_data = vectorized_text\n",
        "doc_length = encoder_input_data.shape[1]\n",
        "print(f'Shape of encoder input: {encoder_input_data.shape}')"
      ],
      "metadata": {
        "id": "O-zk4gGL82s_",
        "colab": {
          "base_uri": "https://localhost:8080/"
        },
        "outputId": "fa674e0f-867a-44c7-c3d1-c35b55d5f003"
      },
      "execution_count": null,
      "outputs": [
        {
          "output_type": "stream",
          "name": "stdout",
          "text": [
            "Shape of decoder input: (7485, 34)\n",
            "Shape of decoder target: (7485, 34)\n",
            "Shape of encoder input: (7485, 295)\n"
          ]
        }
      ]
    },
    {
      "cell_type": "code",
      "source": [
        "vocab_size_encoder = len(tok1.word_index) + 1\n",
        "vocab_size_decoder = len(tok2.word_index) + 1"
      ],
      "metadata": {
        "id": "i2Q8jH8U84ee"
      },
      "execution_count": null,
      "outputs": []
    },
    {
      "cell_type": "code",
      "source": [
        "latent_dim = 50"
      ],
      "metadata": {
        "id": "kN_hngO687AV"
      },
      "execution_count": null,
      "outputs": []
    },
    {
      "cell_type": "code",
      "source": [
        "encoder_inputs = tf.keras.Input(shape=(doc_length,), name='Encoder-Input')\n",
        "\n",
        "x = tf.keras.layers.Embedding(vocab_size_encoder,\n",
        "                              latent_dim, name='Body-Word-Embedding',\n",
        "                              mask_zero=False)(encoder_inputs)\n",
        "\n",
        "#Batch normalization is used so that the distribution of the inputs \n",
        "#to a specific layer doesn't change over time\n",
        "x = tf.keras.layers.BatchNormalization(name='Encoder-Batchnorm-1')(x)\n",
        "\n",
        "# We do not need the `encoder_output` just the hidden state.\n",
        "_, state_h = tf.keras.layers.GRU(latent_dim, return_state=True, name='Encoder-Last-GRU')(x)\n",
        "\n",
        "# Encapsulate the encoder as a separate entity so we can just \n",
        "#  encode without decoding if we want to.\n",
        "encoder_model = tf.keras.Model(inputs=encoder_inputs, outputs=state_h, name='Encoder-Model')\n",
        "\n",
        "seq2seq_encoder_out = encoder_model(encoder_inputs)\n",
        "\n",
        "########################\n",
        "#### Decoder Model ####\n",
        "decoder_inputs = tf.keras.Input(shape=(None,), name='Decoder-Input')# for teacher forcing\n",
        "\n",
        "# Word Embedding For Decoder \n",
        "dec_emb = tf.keras.layers.Embedding(vocab_size_decoder, latent_dim, \n",
        "                                    name='Decoder-Word-Embedding',\n",
        "                                    mask_zero=False)(decoder_inputs)\n",
        "#again batch normalization\n",
        "dec_bn = tf.keras.layers.BatchNormalization(name='Decoder-Batchnorm-1')(dec_emb)\n",
        "\n",
        "# Set up the decoder, using `decoder_state_input` as initial state.\n",
        "decoder_gru = tf.keras.layers.GRU(latent_dim, \n",
        "                                  return_state=True,\n",
        "                                  return_sequences=True,\n",
        "                                  name='Decoder-GRU')\n",
        "\n",
        "decoder_gru_output, _ = decoder_gru(dec_bn, initial_state=seq2seq_encoder_out)\n",
        "\n",
        "x = tf.keras.layers.BatchNormalization(name='Decoder-Batchnorm-2')(decoder_gru_output)\n",
        "\n",
        "# Dense layer for prediction\n",
        "decoder_dense = tf.keras.layers.Dense(vocab_size_decoder,\n",
        "                                      activation='softmax',\n",
        "                                      name='Final-Output-Dense')\n",
        "decoder_outputs = decoder_dense(x)\n",
        "\n",
        "########################\n",
        "#### Seq2Seq Model ####\n",
        "seq2seq_Model = tf.keras.Model([encoder_inputs, decoder_inputs], decoder_outputs)\n",
        "\n",
        "seq2seq_Model.compile(optimizer=tf.keras.optimizers.Nadam(lr=0.001), \n",
        "                      loss='sparse_categorical_crossentropy')"
      ],
      "metadata": {
        "id": "Jj7p0Bjp88bI",
        "colab": {
          "base_uri": "https://localhost:8080/"
        },
        "outputId": "0ecd8ca2-02fb-4e3e-9b89-d3831fca0f48"
      },
      "execution_count": null,
      "outputs": [
        {
          "output_type": "stream",
          "name": "stderr",
          "text": [
            "/usr/local/lib/python3.7/dist-packages/keras/optimizer_v2/nadam.py:73: UserWarning: The `lr` argument is deprecated, use `learning_rate` instead.\n",
            "  super(Nadam, self).__init__(name, **kwargs)\n"
          ]
        }
      ]
    },
    {
      "cell_type": "code",
      "source": [
        "seq2seq_Model.summary()"
      ],
      "metadata": {
        "id": "_cCTMoaX89pg",
        "colab": {
          "base_uri": "https://localhost:8080/"
        },
        "outputId": "9eb02bd9-9575-4f63-a20b-f9b37e809426"
      },
      "execution_count": null,
      "outputs": [
        {
          "output_type": "stream",
          "name": "stdout",
          "text": [
            "Model: \"model\"\n",
            "__________________________________________________________________________________________________\n",
            " Layer (type)                   Output Shape         Param #     Connected to                     \n",
            "==================================================================================================\n",
            " Decoder-Input (InputLayer)     [(None, None)]       0           []                               \n",
            "                                                                                                  \n",
            " Decoder-Word-Embedding (Embedd  (None, None, 50)    1656700     ['Decoder-Input[0][0]']          \n",
            " ing)                                                                                             \n",
            "                                                                                                  \n",
            " Encoder-Input (InputLayer)     [(None, 295)]        0           []                               \n",
            "                                                                                                  \n",
            " Decoder-Batchnorm-1 (BatchNorm  (None, None, 50)    200         ['Decoder-Word-Embedding[0][0]'] \n",
            " alization)                                                                                       \n",
            "                                                                                                  \n",
            " Encoder-Model (Functional)     (None, 50)           4197550     ['Encoder-Input[0][0]']          \n",
            "                                                                                                  \n",
            " Decoder-GRU (GRU)              [(None, None, 50),   15300       ['Decoder-Batchnorm-1[0][0]',    \n",
            "                                 (None, 50)]                      'Encoder-Model[0][0]']          \n",
            "                                                                                                  \n",
            " Decoder-Batchnorm-2 (BatchNorm  (None, None, 50)    200         ['Decoder-GRU[0][0]']            \n",
            " alization)                                                                                       \n",
            "                                                                                                  \n",
            " Final-Output-Dense (Dense)     (None, None, 33134)  1689834     ['Decoder-Batchnorm-2[0][0]']    \n",
            "                                                                                                  \n",
            "==================================================================================================\n",
            "Total params: 7,559,784\n",
            "Trainable params: 7,559,484\n",
            "Non-trainable params: 300\n",
            "__________________________________________________________________________________________________\n"
          ]
        }
      ]
    },
    {
      "cell_type": "code",
      "source": [
        "batch_size = 100\n",
        "epochs = 40"
      ],
      "metadata": {
        "id": "pRMUY8K88_i8"
      },
      "execution_count": null,
      "outputs": []
    },
    {
      "cell_type": "code",
      "source": [
        "history = seq2seq_Model.fit([encoder_input_data, decoder_input_data],\n",
        "                            np.expand_dims(decoder_target_data, -1),\n",
        "                            batch_size=batch_size, \n",
        "                            epochs=epochs, \n",
        "                            validation_split=0.12) "
      ],
      "metadata": {
        "id": "ijrv9zDX9G7M",
        "colab": {
          "base_uri": "https://localhost:8080/"
        },
        "outputId": "7ac3b5dc-d1d0-4ee8-c87b-104a22b291a0"
      },
      "execution_count": null,
      "outputs": [
        {
          "output_type": "stream",
          "name": "stdout",
          "text": [
            "Epoch 1/40\n",
            "66/66 [==============================] - 165s 2s/step - loss: 9.0391 - val_loss: 9.7005\n",
            "Epoch 2/40\n",
            "66/66 [==============================] - 158s 2s/step - loss: 6.2271 - val_loss: 7.8298\n",
            "Epoch 3/40\n",
            "66/66 [==============================] - 159s 2s/step - loss: 5.0547 - val_loss: 7.4699\n",
            "Epoch 4/40\n",
            "66/66 [==============================] - 158s 2s/step - loss: 4.5710 - val_loss: 7.3151\n",
            "Epoch 5/40\n",
            "66/66 [==============================] - 158s 2s/step - loss: 4.1918 - val_loss: 7.0610\n",
            "Epoch 6/40\n",
            "66/66 [==============================] - 158s 2s/step - loss: 3.9341 - val_loss: 6.2376\n",
            "Epoch 7/40\n",
            "66/66 [==============================] - 158s 2s/step - loss: 3.7421 - val_loss: 5.4413\n",
            "Epoch 8/40\n",
            "66/66 [==============================] - 157s 2s/step - loss: 3.5859 - val_loss: 4.7890\n",
            "Epoch 9/40\n",
            "66/66 [==============================] - 158s 2s/step - loss: 3.4482 - val_loss: 4.1190\n",
            "Epoch 10/40\n",
            "66/66 [==============================] - 158s 2s/step - loss: 3.3264 - val_loss: 3.8816\n",
            "Epoch 11/40\n",
            "66/66 [==============================] - 158s 2s/step - loss: 3.2196 - val_loss: 3.8017\n",
            "Epoch 12/40\n",
            "66/66 [==============================] - 158s 2s/step - loss: 3.1216 - val_loss: 3.7963\n",
            "Epoch 13/40\n",
            "66/66 [==============================] - 158s 2s/step - loss: 3.0309 - val_loss: 3.8187\n",
            "Epoch 14/40\n",
            "66/66 [==============================] - 158s 2s/step - loss: 2.9475 - val_loss: 3.8536\n",
            "Epoch 15/40\n",
            "66/66 [==============================] - 157s 2s/step - loss: 2.8682 - val_loss: 3.8904\n",
            "Epoch 16/40\n",
            "66/66 [==============================] - 157s 2s/step - loss: 2.7946 - val_loss: 3.9343\n",
            "Epoch 17/40\n",
            "66/66 [==============================] - 157s 2s/step - loss: 2.7264 - val_loss: 3.9865\n",
            "Epoch 18/40\n",
            "66/66 [==============================] - 157s 2s/step - loss: 2.6619 - val_loss: 4.0553\n",
            "Epoch 19/40\n",
            "66/66 [==============================] - 157s 2s/step - loss: 2.6021 - val_loss: 4.1163\n",
            "Epoch 20/40\n",
            "66/66 [==============================] - 157s 2s/step - loss: 2.5442 - val_loss: 4.1665\n",
            "Epoch 21/40\n",
            "66/66 [==============================] - 157s 2s/step - loss: 2.4903 - val_loss: 4.2334\n",
            "Epoch 22/40\n",
            "66/66 [==============================] - 158s 2s/step - loss: 2.4414 - val_loss: 4.3115\n",
            "Epoch 23/40\n",
            "66/66 [==============================] - 158s 2s/step - loss: 2.3913 - val_loss: 4.3645\n",
            "Epoch 24/40\n",
            "66/66 [==============================] - 157s 2s/step - loss: 2.3449 - val_loss: 4.4347\n",
            "Epoch 25/40\n",
            "66/66 [==============================] - 158s 2s/step - loss: 2.3053 - val_loss: 4.5137\n",
            "Epoch 26/40\n",
            "66/66 [==============================] - 157s 2s/step - loss: 2.2626 - val_loss: 4.5808\n",
            "Epoch 27/40\n",
            "66/66 [==============================] - 157s 2s/step - loss: 2.2231 - val_loss: 4.6684\n",
            "Epoch 28/40\n",
            "66/66 [==============================] - 157s 2s/step - loss: 2.1852 - val_loss: 4.7313\n",
            "Epoch 29/40\n",
            "66/66 [==============================] - 157s 2s/step - loss: 2.1509 - val_loss: 4.8162\n",
            "Epoch 30/40\n",
            "66/66 [==============================] - 157s 2s/step - loss: 2.1174 - val_loss: 4.8956\n",
            "Epoch 31/40\n",
            "66/66 [==============================] - 157s 2s/step - loss: 2.0837 - val_loss: 4.9664\n",
            "Epoch 32/40\n",
            "66/66 [==============================] - 159s 2s/step - loss: 2.0532 - val_loss: 5.0657\n",
            "Epoch 33/40\n",
            "66/66 [==============================] - 160s 2s/step - loss: 2.0256 - val_loss: 5.1415\n",
            "Epoch 34/40\n",
            "66/66 [==============================] - 159s 2s/step - loss: 1.9984 - val_loss: 5.2046\n",
            "Epoch 35/40\n",
            "66/66 [==============================] - 159s 2s/step - loss: 1.9682 - val_loss: 5.2787\n",
            "Epoch 36/40\n",
            "66/66 [==============================] - 160s 2s/step - loss: 1.9422 - val_loss: 5.3595\n",
            "Epoch 37/40\n",
            "66/66 [==============================] - 159s 2s/step - loss: 1.9167 - val_loss: 5.4368\n",
            "Epoch 38/40\n",
            "66/66 [==============================] - 159s 2s/step - loss: 1.8922 - val_loss: 5.5233\n",
            "Epoch 39/40\n",
            "66/66 [==============================] - 159s 2s/step - loss: 1.8700 - val_loss: 5.5857\n",
            "Epoch 40/40\n",
            "66/66 [==============================] - 159s 2s/step - loss: 1.8446 - val_loss: 5.6621\n"
          ]
        }
      ]
    },
    {
      "cell_type": "code",
      "source": [
        "loss_train = history.history['loss']\n",
        "loss_val = history.history['val_loss']\n",
        "epochs = range(1,41)\n",
        "plt.plot(epochs, loss_train, 'purple', label='Training loss')\n",
        "plt.plot(epochs, loss_val, 'y', label='validation loss')\n",
        "plt.title('Training and Validation loss')\n",
        "plt.xlabel('Epochs')\n",
        "plt.ylabel('Loss')\n",
        "plt.legend()\n",
        "plt.show()"
      ],
      "metadata": {
        "id": "hEdbesPvEHRF",
        "colab": {
          "base_uri": "https://localhost:8080/",
          "height": 301
        },
        "outputId": "49a3b3d2-68a4-4f41-ef9a-15408584b86b"
      },
      "execution_count": null,
      "outputs": [
        {
          "output_type": "display_data",
          "data": {
            "image/png": "[encoded data removed]",
            "text/plain": [
              "<Figure size 432x288 with 1 Axes>"
            ]
          },
          "metadata": {}
        }
      ]
    },
    {
      "cell_type": "code",
      "source": [
        "seq2seq_Model.save('SumWiki')\n",
        "seq2seq_Model.save('SumWiki.h5')\n"
      ],
      "metadata": {
        "id": "8ErHASWLT1SB",
        "colab": {
          "base_uri": "https://localhost:8080/"
        },
        "outputId": "3b24a9ca-0c57-4f2a-fc53-7bf123d5f5d2"
      },
      "execution_count": null,
      "outputs": [
        {
          "output_type": "stream",
          "name": "stderr",
          "text": [
            "WARNING:absl:Function `_wrapped_model` contains input name(s) Encoder-Input, Decoder-Input with unsupported characters which will be renamed to encoder_input, decoder_input in the SavedModel.\n",
            "WARNING:absl:Found untraced functions such as gru_cell_1_layer_call_fn, gru_cell_1_layer_call_and_return_conditional_losses, gru_cell_layer_call_fn, gru_cell_layer_call_and_return_conditional_losses, gru_cell_1_layer_call_fn while saving (showing 5 of 10). These functions will not be directly callable after loading.\n"
          ]
        },
        {
          "output_type": "stream",
          "name": "stdout",
          "text": [
            "INFO:tensorflow:Assets written to: SumWiki/assets\n"
          ]
        },
        {
          "output_type": "stream",
          "name": "stderr",
          "text": [
            "INFO:tensorflow:Assets written to: SumWiki/assets\n",
            "WARNING:absl:<keras.layers.recurrent.GRUCell object at 0x7fa3771284d0> has the same name 'GRUCell' as a built-in Keras object. Consider renaming <class 'keras.layers.recurrent.GRUCell'> to avoid naming conflicts when loading with `tf.keras.models.load_model`. If renaming is not possible, pass the object in the `custom_objects` parameter of the load function.\n",
            "WARNING:absl:<keras.layers.recurrent.GRUCell object at 0x7fa373df1510> has the same name 'GRUCell' as a built-in Keras object. Consider renaming <class 'keras.layers.recurrent.GRUCell'> to avoid naming conflicts when loading with `tf.keras.models.load_model`. If renaming is not possible, pass the object in the `custom_objects` parameter of the load function.\n"
          ]
        }
      ]
    },
    {
      "cell_type": "code",
      "source": [
        "test_text = [\"\"\"\n",
        "رئیس بهره برداری پالایشگاه سوم مجتمع پارس جنوبی امروز، دوشنبه (۲۳ شهریورماه) در گفتگو با خبرنگار شانا اظهار کرد: این پالایشگاه برنامه تعمیرات اساسی خود را براساس حفظ ضریب دسترس پذیری ۹۷ درصدی سال گذشته ابتدا در بازه ۱۷ روزه برنامه ریزی کرده بود. [n] محسن عطارزاده ادامه داد: پالایشگاه سوم با بررسی دقیق شرایط عملیاتی در طول سال، کسب اطمینان از تولید پایدار گاز و قبول ریسک انجام فعالیتهای ضروری پیش از زمستان و همچنین با مد نظر قرار گرفتن حذف تعمیرات بالادستی (سکوهای پالایشگاه)، تصمیم به اجرا نکردن پروژه تعمیرات اساسی سال جاری گرفت تا در اقدامی آگاهانه و رو به جلو، رکورد تولید پایدار ۳۶۵ روزه خود را در سال جاری ثبت کند. [n] وی افزود: به این ترتیب پالایشگاه سوم پارس جنوبی در کنار حفظ تولید سالهای ۹۲ و ۹۳ که ضریب اطمینان ۹۹٫۹۷ درصدی را ارائه کرده است، در سال جاری علاوه بر ضریب اطمینان تولید، ضریب دسترس پذیری بالاتری را تثبیت می‌کند. [n] به گفته رئیس بهره برداری پالایشگاه سوم مجتمع پارس جنوبی، با حذف تعمیرات اساسی و تداوم ۱۷ روزه برداشت گاز از مخازن مشترک، تولید پالایشگاه نسبت به سال گذشته سه درصد افزایش خواهد داشت که درآمدی بیش از ۴۰۰ میلیارد تومان، معادل یک درصد بودجه عمرانی کل کشور را در بر می‌گیرد. [n] عطارزاده از اعتماد مدیرعامل مجتمع، مدیر پالایشگاه، اهتمام همکاران واحدهای بهره ‌برداری، مهندسی، تعمیرات، بازرسی فنی و سایر واحدهای پشتیبانی در دستیابی به این موفقیت، تقدیر و تشکر کرد.\n",
        "\"\"\"]"
      ],
      "metadata": {
        "id": "xJK39i3Q9Jcw"
      },
      "execution_count": null,
      "outputs": []
    },
    {
      "cell_type": "code",
      "source": [
        "# get the encoder's features for the decoder\n",
        "tok1.fit_on_texts(test_text)"
      ],
      "metadata": {
        "id": "ySpqVT_y9JaX"
      },
      "execution_count": null,
      "outputs": []
    },
    {
      "cell_type": "code",
      "source": [
        "raw_tokenized = tok1.texts_to_sequences(test_text)\n",
        "raw_tokenized = tf.keras.preprocessing.sequence.pad_sequences(raw_tokenized, maxlen=maxlen1)"
      ],
      "metadata": {
        "id": "6dHa3qxz9JX4"
      },
      "execution_count": null,
      "outputs": []
    },
    {
      "cell_type": "code",
      "source": [
        "body_encoding = encoder_model.predict(raw_tokenized) #predict the encoder state of the new sentence"
      ],
      "metadata": {
        "id": "I3HkV_f79JU2"
      },
      "execution_count": null,
      "outputs": []
    },
    {
      "cell_type": "code",
      "source": [
        "latent_dim = seq2seq_Model.get_layer('Decoder-Word-Embedding').output_shape[-1]"
      ],
      "metadata": {
        "id": "zOKYC8aB9JR7"
      },
      "execution_count": null,
      "outputs": []
    },
    {
      "cell_type": "code",
      "source": [
        "#remember the get layer methodo for getting the embedding (word clusters)\n",
        "decoder_inputs = seq2seq_Model.get_layer('Decoder-Input').input \n",
        "dec_emb = seq2seq_Model.get_layer('Decoder-Word-Embedding')(decoder_inputs)\n",
        "dec_bn = seq2seq_Model.get_layer('Decoder-Batchnorm-1')(dec_emb)"
      ],
      "metadata": {
        "id": "fSe67dXc9JLw"
      },
      "execution_count": null,
      "outputs": []
    },
    {
      "cell_type": "code",
      "source": [
        "gru_inference_state_input = tf.keras.Input(shape=(latent_dim,), name='hidden_state_input')"
      ],
      "metadata": {
        "id": "p-Wa5Bj-9JIq"
      },
      "execution_count": null,
      "outputs": []
    },
    {
      "cell_type": "code",
      "source": [
        "gru_out, gru_state_out = seq2seq_Model.get_layer('Decoder-GRU')([dec_bn,\n",
        "                                                                 gru_inference_state_input])"
      ],
      "metadata": {
        "id": "eMXRABNN9JFP"
      },
      "execution_count": null,
      "outputs": []
    },
    {
      "cell_type": "code",
      "source": [
        "# Reconstruct dense layers\n",
        "dec_bn2 = seq2seq_Model.get_layer('Decoder-Batchnorm-2')(gru_out)\n",
        "dense_out = seq2seq_Model.get_layer('Final-Output-Dense')(dec_bn2)"
      ],
      "metadata": {
        "id": "_po6f3o89I_8"
      },
      "execution_count": null,
      "outputs": []
    },
    {
      "cell_type": "code",
      "source": [
        "decoder_model = tf.keras.Model([decoder_inputs, gru_inference_state_input],\n",
        "                               [dense_out, gru_state_out])"
      ],
      "metadata": {
        "id": "DzBXpv1-9I1T"
      },
      "execution_count": null,
      "outputs": []
    },
    {
      "cell_type": "code",
      "source": [
        "# we want to save the encoder's embedding before its updated by decoder\n",
        "#   because we can use that as an embedding for other tasks.\n",
        "original_body_encoding = body_encoding"
      ],
      "metadata": {
        "id": "vOyTXhE89U_3"
      },
      "execution_count": null,
      "outputs": []
    },
    {
      "cell_type": "code",
      "source": [
        "state_value = np.array(tok2.word_index['_start_']).reshape(1, 1)"
      ],
      "metadata": {
        "id": "r_3uzJ449U8v"
      },
      "execution_count": null,
      "outputs": []
    },
    {
      "cell_type": "code",
      "source": [
        "state_value"
      ],
      "metadata": {
        "id": "tdQabVHF9U56",
        "colab": {
          "base_uri": "https://localhost:8080/"
        },
        "outputId": "d6645a9d-222f-4e17-b3b3-601c922550c7"
      },
      "execution_count": null,
      "outputs": [
        {
          "output_type": "execute_result",
          "data": {
            "text/plain": [
              "array([[3]])"
            ]
          },
          "metadata": {},
          "execution_count": 55
        }
      ]
    },
    {
      "cell_type": "code",
      "source": [
        "decoded_sentence = []\n",
        "stop_condition = Falsedecoded_sentence = []\n",
        "stop_condition = False"
      ],
      "metadata": {
        "id": "gnkT65AQ9U3b"
      },
      "execution_count": null,
      "outputs": []
    },
    {
      "cell_type": "code",
      "source": [
        "vocabulary_inv = dict((v, k) for k, v in tok2.word_index.items())"
      ],
      "metadata": {
        "id": "oOX9jW0G9U0z"
      },
      "execution_count": null,
      "outputs": []
    },
    {
      "cell_type": "code",
      "source": [
        "vocabulary_inv"
      ],
      "metadata": {
        "id": "BrJde1QB9UzR",
        "colab": {
          "base_uri": "https://localhost:8080/"
        },
        "outputId": "d4e8c5bd-316e-4d04-bd6b-2d11da05e1ea"
      },
      "execution_count": null,
      "outputs": [
        {
          "output_type": "execute_result",
          "data": {
            "text/plain": [
              "{1: 'و',\n",
              " 2: 'در',\n",
              " 3: '_start_',\n",
              " 4: '_end_',\n",
              " 5: 'است',\n",
              " 6: 'به',\n",
              " 7: 'از',\n",
              " 8: 'که',\n",
              " 9: 'این',\n",
              " 10: 'بود',\n",
              " 11: 'سال',\n",
              " 12: 'زاده',\n",
              " 13: 'ایران',\n",
              " 14: 'انگلیسی',\n",
              " 15: 'یک',\n",
              " 16: 'با',\n",
              " 17: 'یا',\n",
              " 18: 'را',\n",
              " 19: 'او',\n",
              " 20: 'شد',\n",
              " 21: 'تهران',\n",
              " 22: 'نام',\n",
              " 23: 'اهل',\n",
              " 24: 'میشود',\n",
              " 25: 'ایرانی',\n",
              " 26: 'آن',\n",
              " 27: 'برای',\n",
              " 28: 'وی',\n",
              " 29: 'یکی',\n",
              " 30: 'شدهاست',\n",
              " 31: 'درگذشته',\n",
              " 32: 'فیلم',\n",
              " 33: 'تا',\n",
              " 34: 'میباشد',\n",
              " 35: 'نویسنده',\n",
              " 36: 'دارد',\n",
              " 37: 'شهر',\n",
              " 38: 'استان',\n",
              " 39: 'شده',\n",
              " 40: 'بر',\n",
              " 41: 'شهرستان',\n",
              " 42: 'توسط',\n",
              " 43: 'دانشگاه',\n",
              " 44: 'کارگردانی',\n",
              " 45: 'روز',\n",
              " 46: 'متولد',\n",
              " 47: 'عنوان',\n",
              " 48: 'کرد',\n",
              " 49: 'بازیگر',\n",
              " 50: 'میکند',\n",
              " 51: 'میلادی',\n",
              " 52: 'ملی',\n",
              " 53: 'بخش',\n",
              " 54: 'بازی',\n",
              " 55: 'فوتبال',\n",
              " 56: 'آمریکا',\n",
              " 57: 'نیز',\n",
              " 58: 'قرار',\n",
              " 59: 'شرقی',\n",
              " 60: 'آمریکایی',\n",
              " 61: 'کشور',\n",
              " 62: 'دوره',\n",
              " 63: 'واقع',\n",
              " 64: 'دو',\n",
              " 65: 'تاریخ',\n",
              " 66: 'کارگردان',\n",
              " 67: 'کتاب',\n",
              " 68: 'خود',\n",
              " 69: 'اسلامی',\n",
              " 70: 'شمالی',\n",
              " 71: 'مجموعه',\n",
              " 72: 'موسیقی',\n",
              " 73: 'شناخته',\n",
              " 74: 'محمد',\n",
              " 75: 'جمهوری',\n",
              " 76: 'عضو',\n",
              " 77: 'همچنین',\n",
              " 78: 'شرکت',\n",
              " 79: 'زبان',\n",
              " 80: 'شاعر',\n",
              " 81: 'فرانسوی',\n",
              " 82: 'فیلمی',\n",
              " 83: 'تیم',\n",
              " 84: 'محصول',\n",
              " 85: 'سینما',\n",
              " 86: 'ساخته',\n",
              " 87: 'گروه',\n",
              " 88: 'منتشر',\n",
              " 89: 'تلویزیون',\n",
              " 90: 'بن',\n",
              " 91: '۱',\n",
              " 92: 'استاد',\n",
              " 93: 'فارسی',\n",
              " 94: 'آلمانی',\n",
              " 95: 'تلویزیونی',\n",
              " 96: 'خواننده',\n",
              " 97: '۲',\n",
              " 98: 'آوریل',\n",
              " 99: 'استفاده',\n",
              " 100: 'متحده',\n",
              " 101: 'پس',\n",
              " 102: 'فوریه',\n",
              " 103: 'مرکز',\n",
              " 104: 'ژانویه',\n",
              " 105: 'هستند',\n",
              " 106: 'نقش',\n",
              " 107: 'علی',\n",
              " 108: 'اکتبر',\n",
              " 109: 'فعالیت',\n",
              " 110: 'ایالات',\n",
              " 111: 'عربی',\n",
              " 112: 'سالهای',\n",
              " 113: 'ژوئیه',\n",
              " 114: 'تئاتر',\n",
              " 115: 'بودهاست',\n",
              " 116: 'مرکزی',\n",
              " 117: 'شبکه',\n",
              " 118: 'اولین',\n",
              " 119: 'معروف',\n",
              " 120: 'مارس',\n",
              " 121: 'جایزه',\n",
              " 122: 'سازمان',\n",
              " 123: 'ژوئن',\n",
              " 124: 'بیشتر',\n",
              " 125: 'کار',\n",
              " 126: 'نوازنده',\n",
              " 127: 'صورت',\n",
              " 128: 'آهنگساز',\n",
              " 129: 'توابع',\n",
              " 130: '۲۰',\n",
              " 131: '۱۰',\n",
              " 132: 'پایان',\n",
              " 133: '۳۰',\n",
              " 134: 'سپتامبر',\n",
              " 135: 'اوت',\n",
              " 136: 'آغاز',\n",
              " 137: 'نخستین',\n",
              " 138: 'دارای',\n",
              " 139: '۳',\n",
              " 140: 'سید',\n",
              " 141: 'بازیکن',\n",
              " 142: 'سریال',\n",
              " 143: 'اصلی',\n",
              " 144: 'داشت',\n",
              " 145: 'مجلس',\n",
              " 146: '۱۲',\n",
              " 147: 'جنوب',\n",
              " 148: 'مترجم',\n",
              " 149: 'بزرگ',\n",
              " 150: '۲۷',\n",
              " 151: 'خورشیدی',\n",
              " 152: 'دسامبر',\n",
              " 153: 'اثر',\n",
              " 154: '۱۵',\n",
              " 155: 'سیاسی',\n",
              " 156: 'آذربایجان',\n",
              " 157: 'بار',\n",
              " 158: 'دی',\n",
              " 159: 'تقویم',\n",
              " 160: 'علوم',\n",
              " 161: 'گفته',\n",
              " 162: 'ارمنی',\n",
              " 163: 'دیگر',\n",
              " 164: 'علمی',\n",
              " 165: 'شورای',\n",
              " 166: 'نوامبر',\n",
              " 167: 'آثار',\n",
              " 168: '۵',\n",
              " 169: 'رئیس',\n",
              " 170: 'تولید',\n",
              " 171: 'دوم',\n",
              " 172: 'جهان',\n",
              " 173: '۲۲',\n",
              " 174: '۴',\n",
              " 175: '۱۴',\n",
              " 176: '۲۱',\n",
              " 177: 'نویسندگی',\n",
              " 178: '۲۹',\n",
              " 179: '۲۵',\n",
              " 180: 'سه',\n",
              " 181: 'هنرپیشه',\n",
              " 182: 'حقوق',\n",
              " 183: 'روی',\n",
              " 184: 'پخش',\n",
              " 185: '۱۶',\n",
              " 186: '۲۸',\n",
              " 187: '۲۴',\n",
              " 188: 'سیاستمدار',\n",
              " 189: 'فرانسه',\n",
              " 190: 'مشهور',\n",
              " 191: 'اصفهان',\n",
              " 192: '۶',\n",
              " 193: '۱۳',\n",
              " 194: 'نماینده',\n",
              " 195: 'اسفند',\n",
              " 196: 'ادبیات',\n",
              " 197: 'کبیسه',\n",
              " 198: 'روستایی',\n",
              " 199: '۸',\n",
              " 200: 'مه',\n",
              " 201: 'بهمن',\n",
              " 202: 'ترکی',\n",
              " 203: 'جنگ',\n",
              " 204: '۲۶',\n",
              " 205: '۱۱',\n",
              " 206: 'بین',\n",
              " 207: '۱۸',\n",
              " 208: 'برنده',\n",
              " 209: 'آنها',\n",
              " 210: 'اشاره',\n",
              " 211: '۹',\n",
              " 212: 'نوشته',\n",
              " 213: 'the',\n",
              " 214: 'زندگی',\n",
              " 215: '۲۳',\n",
              " 216: 'میتوان',\n",
              " 217: 'پژوهشگر',\n",
              " 218: 'جهانی',\n",
              " 219: 'هم',\n",
              " 220: 'اول',\n",
              " 221: 'مورد',\n",
              " 222: 'کردهاست',\n",
              " 223: '۱۹',\n",
              " 224: 'مرداد',\n",
              " 225: '۱۷',\n",
              " 226: 'فروردین',\n",
              " 227: 'سابق',\n",
              " 228: 'خرداد',\n",
              " 229: 'آذر',\n",
              " 230: '۷',\n",
              " 231: 'روستای',\n",
              " 232: 'زمینه',\n",
              " 233: 'منطقه',\n",
              " 234: 'ایتالیایی',\n",
              " 235: 'شامل',\n",
              " 236: 'پیش',\n",
              " 237: 'نفر',\n",
              " 238: 'سبک',\n",
              " 239: 'قرن',\n",
              " 240: 'شهریور',\n",
              " 241: 'اردیبهشت',\n",
              " 242: 'فعال',\n",
              " 243: 'باشگاه',\n",
              " 244: 'مردم',\n",
              " 245: 'بینالمللی',\n",
              " 246: 'فصل',\n",
              " 247: 'آذربایجانی',\n",
              " 248: 'هجری',\n",
              " 249: 'آبان',\n",
              " 250: 'وجود',\n",
              " 251: 'برگزار',\n",
              " 252: 'هر',\n",
              " 253: 'موسیقیدان',\n",
              " 254: 'بوده',\n",
              " 255: 'انجام',\n",
              " 256: 'رشته',\n",
              " 257: 'تیر',\n",
              " 258: 'فرزند',\n",
              " 259: 'زمان',\n",
              " 260: 'آلمان',\n",
              " 261: 'حسین',\n",
              " 262: 'جنوبی',\n",
              " 263: 'تهیهکننده',\n",
              " 264: 'کیلومتری',\n",
              " 265: 'مختصات',\n",
              " 266: 'روزنامهنگار',\n",
              " 267: 'فیلمنامهنویس',\n",
              " 268: 'حوزه',\n",
              " 269: 'سده',\n",
              " 270: 'غرب',\n",
              " 271: 'دوران',\n",
              " 272: 'افغانستان',\n",
              " 273: 'میان',\n",
              " 274: 'دومین',\n",
              " 275: 'پزشکی',\n",
              " 276: 'شمال',\n",
              " 277: 'روسی',\n",
              " 278: 'اساس',\n",
              " 279: 'تأسیس',\n",
              " 280: 'مهر',\n",
              " 281: 'میرود',\n",
              " 282: 'حسن',\n",
              " 283: 'دهه',\n",
              " 284: 'دست',\n",
              " 285: 'تبریز',\n",
              " 286: 'قمری',\n",
              " 287: 'رسمی',\n",
              " 288: 'احمد',\n",
              " 289: 'شاه',\n",
              " 290: 'داد',\n",
              " 291: 'مرگ',\n",
              " 292: 'داستان',\n",
              " 293: 'میشوند',\n",
              " 294: 'درگذشت',\n",
              " 295: 'آلبوم',\n",
              " 296: 'دولت',\n",
              " 297: 'میدهد',\n",
              " 298: 'باقی',\n",
              " 299: 'دانشکده',\n",
              " 300: 'معاصر',\n",
              " 301: 'تاریخی',\n",
              " 302: 'بهترین',\n",
              " 303: 'رسید',\n",
              " 304: 'ماه',\n",
              " 305: 'هیئت',\n",
              " 306: '۲۰۱۷',\n",
              " 307: 'خانواده',\n",
              " 308: 'لیگ',\n",
              " 309: 'حدود',\n",
              " 310: 'زن',\n",
              " 311: 'جام',\n",
              " 312: '۳۱',\n",
              " 313: 'اروپا',\n",
              " 314: 'مسابقات',\n",
              " 315: 'زیر',\n",
              " 316: 'ساخت',\n",
              " 317: 'نوعی',\n",
              " 318: 'تشکیل',\n",
              " 319: 'مدیر',\n",
              " 320: 'جمعیت',\n",
              " 321: 'خاطر',\n",
              " 322: 'اجتماعی',\n",
              " 323: 'طراحی',\n",
              " 324: 'شهرت',\n",
              " 325: 'سینمای',\n",
              " 326: 'قهرمان',\n",
              " 327: 'چند',\n",
              " 328: 'جشنواره',\n",
              " 329: 'حال',\n",
              " 330: 'گذشته',\n",
              " 331: 'هنری',\n",
              " 332: 'باشد',\n",
              " 333: 'انجمن',\n",
              " 334: 'نقاش',\n",
              " 335: 'ثبت',\n",
              " 336: 'بزرگترین',\n",
              " 337: 'نوع',\n",
              " 338: 'میشد',\n",
              " 339: 'شیعه',\n",
              " 340: 'گردید',\n",
              " 341: 'بیماری',\n",
              " 342: 'فرهنگی',\n",
              " 343: 'وزارت',\n",
              " 344: 'دهستان',\n",
              " 345: 'جمله',\n",
              " 346: 'گرگوری',\n",
              " 347: 'پادشاه',\n",
              " 348: 'بسیاری',\n",
              " 349: 'غربی',\n",
              " 350: 'برابر',\n",
              " 351: 'آزاد',\n",
              " 352: 'ادبی',\n",
              " 353: 'جان',\n",
              " 354: 'مختلف',\n",
              " 355: 'حزب',\n",
              " 356: 'فرهنگ',\n",
              " 357: 'عراق',\n",
              " 358: 'فهرست',\n",
              " 359: 'مانند',\n",
              " 360: 'معمولا',\n",
              " 361: 'دنیا',\n",
              " 362: 'زنان',\n",
              " 363: 'خان',\n",
              " 364: 'کرمانشاه',\n",
              " 365: 'میکنند',\n",
              " 366: 'انقلاب',\n",
              " 367: 'سوم',\n",
              " 368: 'رضا',\n",
              " 369: 'عهده',\n",
              " 370: 'of',\n",
              " 371: 'قانون',\n",
              " 372: 'رهبر',\n",
              " 373: '۳۵',\n",
              " 374: 'اما',\n",
              " 375: 'وزیر',\n",
              " 376: 'ارتش',\n",
              " 377: 'میکرد',\n",
              " 378: 'تهیهکنندگی',\n",
              " 379: '۵۰',\n",
              " 380: 'مدرس',\n",
              " 381: 'اسپانیایی',\n",
              " 382: 'هند',\n",
              " 383: 'گرفته',\n",
              " 384: '۲۰۱۲',\n",
              " 385: 'نیروی',\n",
              " 386: 'فلسفه',\n",
              " 387: 'دلیل',\n",
              " 388: 'ایتالیا',\n",
              " 389: 'دارند',\n",
              " 390: 'همسر',\n",
              " 391: 'قاجار',\n",
              " 392: 'اسلام',\n",
              " 393: '۲۰۱۸',\n",
              " 394: 'کتابی',\n",
              " 395: 'ارمنستان',\n",
              " 396: 'تحت',\n",
              " 397: 'همراه',\n",
              " 398: 'درباره',\n",
              " 399: 'کردن',\n",
              " 400: 'پسر',\n",
              " 401: 'روستا',\n",
              " 402: 'یافت',\n",
              " 403: 'بهطور',\n",
              " 404: 'نظامی',\n",
              " 405: 'ایجاد',\n",
              " 406: 'اعضای',\n",
              " 407: 'برجسته',\n",
              " 408: 'انگلستان',\n",
              " 409: 'هرمزگان',\n",
              " 410: 'بخشی',\n",
              " 411: 'مربوط',\n",
              " 412: 'کمدی',\n",
              " 413: '۵۱',\n",
              " 414: 'ریاست',\n",
              " 415: 'میرزا',\n",
              " 416: 'نمایش',\n",
              " 417: 'جنبش',\n",
              " 418: 'کامل',\n",
              " 419: 'بیش',\n",
              " 420: 'کودکان',\n",
              " 421: 'بعد',\n",
              " 422: 'شرق',\n",
              " 423: 'حضور',\n",
              " 424: 'کره',\n",
              " 425: 'نظر',\n",
              " 426: 'عادی',\n",
              " 427: 'سینمایی',\n",
              " 428: 'روسیه',\n",
              " 429: 'نظریه',\n",
              " 430: 'همچون',\n",
              " 431: 'توسعه',\n",
              " 432: 'حرفهای',\n",
              " 433: 'برنامه',\n",
              " 434: 'شکل',\n",
              " 435: 'سطح',\n",
              " 436: 'رمان',\n",
              " 437: 'برخی',\n",
              " 438: 'چاپ',\n",
              " 439: 'علم',\n",
              " 440: 'خراسان',\n",
              " 441: 'عمومی',\n",
              " 442: 'مشهد',\n",
              " 443: 'ترجمه',\n",
              " 444: 'قسمت',\n",
              " 445: 'تاکنون',\n",
              " 446: 'قهرمانی',\n",
              " 447: 'کرده',\n",
              " 448: 'مهمترین',\n",
              " 449: '۲۰۱۴',\n",
              " 450: 'فیلمهای',\n",
              " 451: 'فارس',\n",
              " 452: 'بنیانگذار',\n",
              " 453: 'پیشین',\n",
              " 454: 'طراح',\n",
              " 455: 'ایفای',\n",
              " 456: 'سی',\n",
              " 457: 'شود',\n",
              " 458: 'نشان',\n",
              " 459: 'بهشمار',\n",
              " 460: 'تنها',\n",
              " 461: 'فیلسوف',\n",
              " 462: 'معنی',\n",
              " 463: 'ژاپنی',\n",
              " 464: 'میپردازد',\n",
              " 465: 'عباس',\n",
              " 466: 'درام',\n",
              " 467: 'داده',\n",
              " 468: 'چهار',\n",
              " 469: 'جریان',\n",
              " 470: 'محمدرضا',\n",
              " 471: 'دریافت',\n",
              " 472: 'شماره',\n",
              " 473: '۲۰۱۱',\n",
              " 474: '۲۰۱۳',\n",
              " 475: 'شدن',\n",
              " 476: 'آسیا',\n",
              " 477: 'شیراز',\n",
              " 478: 'میآید',\n",
              " 479: 'میگیرد',\n",
              " 480: 'کشتی',\n",
              " 481: 'امور',\n",
              " 482: 'پاریس',\n",
              " 483: 'بستک',\n",
              " 484: 'شعر',\n",
              " 485: 'عالی',\n",
              " 486: 'هوایی',\n",
              " 487: 'قم',\n",
              " 488: 'یونانی',\n",
              " 489: 'صد',\n",
              " 490: 'مجری',\n",
              " 491: 'بریتانیا',\n",
              " 492: 'پدر',\n",
              " 493: '۲۰۱۶',\n",
              " 494: 'دولتی',\n",
              " 495: 'سومین',\n",
              " 496: 'بشر',\n",
              " 497: 'پزشک',\n",
              " 498: 'کوچک',\n",
              " 499: 'امپراتوری',\n",
              " 500: 'گرفت',\n",
              " 501: 'هماکنون',\n",
              " 502: 'کشته',\n",
              " 503: 'ژانر',\n",
              " 504: 'داشته',\n",
              " 505: 'آب',\n",
              " 506: 'هنر',\n",
              " 507: 'شدهاند',\n",
              " 508: '۱۳۹۸',\n",
              " 509: 'حاضر',\n",
              " 510: 'سر',\n",
              " 511: 'لندن',\n",
              " 512: 'زبانهای',\n",
              " 513: 'راه',\n",
              " 514: 'حکومت',\n",
              " 515: 'بسیار',\n",
              " 516: 'هنرمند',\n",
              " 517: 'آخرین',\n",
              " 518: 'پهلوی',\n",
              " 519: 'تمام',\n",
              " 520: 'اطلاعات',\n",
              " 521: 'محمود',\n",
              " 522: 'سری',\n",
              " 523: 'برتر',\n",
              " 524: 'والیبال',\n",
              " 525: 'لاتین',\n",
              " 526: 'مدت',\n",
              " 527: 'کشورهای',\n",
              " 528: '۳۶',\n",
              " 529: 'زیادی',\n",
              " 530: 'بهعنوان',\n",
              " 531: 'دختر',\n",
              " 532: 'پادشاهی',\n",
              " 533: 'شیخ',\n",
              " 534: 'معنای',\n",
              " 535: 'ترکیه',\n",
              " 536: 'طول',\n",
              " 537: 'سیستم',\n",
              " 538: 'ایالت',\n",
              " 539: 'شهری',\n",
              " 540: 'دانش',\n",
              " 541: 'گونه',\n",
              " 542: 'خون',\n",
              " 543: 'کتابهای',\n",
              " 544: 'تبدیل',\n",
              " 545: '۲۰۱۹',\n",
              " 546: 'نویسندگان',\n",
              " 547: 'ملقب',\n",
              " 548: '۱۳۹۱',\n",
              " 549: 'داشتهاست',\n",
              " 550: 'مهدی',\n",
              " 551: 'آمد',\n",
              " 552: 'جامعه',\n",
              " 553: 'منتقد',\n",
              " 554: 'سعید',\n",
              " 555: '۱۳۹۶',\n",
              " 556: 'سنتی',\n",
              " 557: '۲۰۲۰',\n",
              " 558: 'کردهاند',\n",
              " 559: 'مناطق',\n",
              " 560: 'انتخابات',\n",
              " 561: 'مشترک',\n",
              " 562: 'شخصیت',\n",
              " 563: 'رخ',\n",
              " 564: '۵۴',\n",
              " 565: 'میگردد',\n",
              " 566: 'مدیریت',\n",
              " 567: '۱۳۹۵',\n",
              " 568: 'قزوین',\n",
              " 569: 'استقلال',\n",
              " 570: 'نیروهای',\n",
              " 571: 'برادر',\n",
              " 572: 'محله',\n",
              " 573: 'سن',\n",
              " 574: 'ویژه',\n",
              " 575: 'طی',\n",
              " 576: 'امام',\n",
              " 577: 'امپراتور',\n",
              " 578: 'انسان',\n",
              " 579: 'آموزش',\n",
              " 580: 'خانه',\n",
              " 581: 'ساکن',\n",
              " 582: 'انتخاب',\n",
              " 583: 'مصر',\n",
              " 584: 'هزار',\n",
              " 585: 'معرفی',\n",
              " 586: 'مهم',\n",
              " 587: 'پایه',\n",
              " 588: 'مدل',\n",
              " 589: 'مؤسسه',\n",
              " 590: 'کرمان',\n",
              " 591: 'ارمنیتبار',\n",
              " 592: 'اتحادیه',\n",
              " 593: 'افراد',\n",
              " 594: 'کند',\n",
              " 595: 'جهت',\n",
              " 596: 'پاپ',\n",
              " 597: 'شروع',\n",
              " 598: '۱۳۹۳',\n",
              " 599: '۲۰۱۵',\n",
              " 600: 'محسن',\n",
              " 601: 'تهیه',\n",
              " 602: 'محقق',\n",
              " 603: 'بودند',\n",
              " 604: 'ژاپن',\n",
              " 605: 'سوی',\n",
              " 606: 'دریایی',\n",
              " 607: 'یکم',\n",
              " 608: 'مرد',\n",
              " 609: 'سوریه',\n",
              " 610: 'همه',\n",
              " 611: 'نبرد',\n",
              " 612: 'رهبری',\n",
              " 613: 'هندی',\n",
              " 614: 'زمین',\n",
              " 615: '۱۳۵۷',\n",
              " 616: 'بیست',\n",
              " 617: 'روزنامه',\n",
              " 618: 'خیابان',\n",
              " 619: 'همین',\n",
              " 620: 'عبدالله',\n",
              " 621: '۲۰۰۶',\n",
              " 622: 'میلاد',\n",
              " 623: 'انواع',\n",
              " 624: 'سیمای',\n",
              " 625: 'کرهای',\n",
              " 626: 'محسوب',\n",
              " 627: 'چهارم',\n",
              " 628: 'چندین',\n",
              " 629: 'نامهای',\n",
              " 630: 'کردی',\n",
              " 631: 'روش',\n",
              " 632: 'شمسی',\n",
              " 633: 'دستگاه',\n",
              " 634: 'موفق',\n",
              " 635: '۱۳۸۵',\n",
              " 636: 'ارائه',\n",
              " 637: 'نمود',\n",
              " 638: 'غیر',\n",
              " 639: 'کسب',\n",
              " 640: 'ارکستر',\n",
              " 641: 'جزیره',\n",
              " 642: 'ریاضیات',\n",
              " 643: 'مهندسی',\n",
              " 644: 'ارشد',\n",
              " 645: 'de',\n",
              " 646: 'پایتخت',\n",
              " 647: 'ریاضیدان',\n",
              " 648: '۲۰۰۸',\n",
              " 649: 'رمانی',\n",
              " 650: 'روستاهای',\n",
              " 651: 'همان',\n",
              " 652: 'میتواند',\n",
              " 653: 'روم',\n",
              " 654: 'عکاس',\n",
              " 655: 'بدون',\n",
              " 656: '۱۳۸۸',\n",
              " 657: 'دویست',\n",
              " 658: '۲۰۰۷',\n",
              " 659: 'علیرضا',\n",
              " 660: 'خدمات',\n",
              " 661: 'اقتصادی',\n",
              " 662: 'شوروی',\n",
              " 663: '۲۰۰۹',\n",
              " 664: 'بازیهای',\n",
              " 665: 'ولی',\n",
              " 666: 'بدن',\n",
              " 667: 'کوتاه',\n",
              " 668: 'واژه',\n",
              " 669: 'جاده',\n",
              " 670: 'باستان',\n",
              " 671: 'مسجد',\n",
              " 672: '۲۰۱۰',\n",
              " 673: 'کل',\n",
              " 674: 'یاد',\n",
              " 675: 'پنج',\n",
              " 676: 'سمت',\n",
              " 677: 'خلق',\n",
              " 678: 'هدف',\n",
              " 679: '۴۹',\n",
              " 680: 'مستقل',\n",
              " 681: 'شهرهای',\n",
              " 682: 'همدان',\n",
              " 683: 'فاصله',\n",
              " 684: 'کنار',\n",
              " 685: 'بنیاد',\n",
              " 686: 'بازیگران',\n",
              " 687: 'فجر',\n",
              " 688: 'بوشهر',\n",
              " 689: 'منابع',\n",
              " 690: 'سلطان',\n",
              " 691: 'علیه',\n",
              " 692: 'مربی',\n",
              " 693: 'فرد',\n",
              " 694: 'پی',\n",
              " 695: 'مشغول',\n",
              " 696: 'نمایشنامهنویس',\n",
              " 697: 'اقتصاد',\n",
              " 698: 'اجرا',\n",
              " 699: '۱۳۵۸',\n",
              " 700: 'مقام',\n",
              " 701: '۱۳۹۷',\n",
              " 702: 'بازیگری',\n",
              " 703: 'نرمافزار',\n",
              " 704: 'باعث',\n",
              " 705: 'شاعران',\n",
              " 706: 'تغییر',\n",
              " 707: 'صدا',\n",
              " 708: 'گونهای',\n",
              " 709: 'خاص',\n",
              " 710: 'اسماعیل',\n",
              " 711: 'کارشناسی',\n",
              " 712: 'رفت',\n",
              " 713: 'شدند',\n",
              " 714: 'منظور',\n",
              " 715: '۴۰',\n",
              " 716: 'انرژی',\n",
              " 717: '۱۳۹۲',\n",
              " 718: '۱۳۵۳',\n",
              " 719: 'قبل',\n",
              " 720: 'تجاری',\n",
              " 721: 'بازار',\n",
              " 722: 'باستانی',\n",
              " 723: 'چین',\n",
              " 724: 'قلعه',\n",
              " 725: 'کیلومتر',\n",
              " 726: 'مجموعهای',\n",
              " 727: 'م',\n",
              " 728: '۱۳۵۱',\n",
              " 729: 'سوئد',\n",
              " 730: 'سفید',\n",
              " 731: 'قابل',\n",
              " 732: 'خارج',\n",
              " 733: '۱۹۹۱',\n",
              " 734: 'معماری',\n",
              " 735: 'مادر',\n",
              " 736: 'بنیانگذاران',\n",
              " 737: 'دانشمند',\n",
              " 738: 'دین',\n",
              " 739: 'لباس',\n",
              " 740: 'عبری',\n",
              " 741: 'پست',\n",
              " 742: 'متخصص',\n",
              " 743: '۲۰۰۱',\n",
              " 744: 'مجله',\n",
              " 745: '۴۸',\n",
              " 746: 'انتشار',\n",
              " 747: 'مدرسه',\n",
              " 748: 'نیویورک',\n",
              " 749: 'محلی',\n",
              " 750: 'زمانی',\n",
              " 751: 'محیط',\n",
              " 752: 'اغلب',\n",
              " 753: '۱۹۹۳',\n",
              " 754: 'نامیده',\n",
              " 755: 'چون',\n",
              " 756: '۱۹۸۹',\n",
              " 757: 'دکتر',\n",
              " 758: '۱۳۶۰',\n",
              " 759: 'اسپانیا',\n",
              " 760: 'کاربرد',\n",
              " 761: 'جای',\n",
              " 762: 'کمک',\n",
              " 763: 'آموزشی',\n",
              " 764: 'ساختمان',\n",
              " 765: 'تلفظ',\n",
              " 766: 'بازنشسته',\n",
              " 767: 'پنجاه',\n",
              " 768: 'جدید',\n",
              " 769: 'امیر',\n",
              " 770: 'میدان',\n",
              " 771: 'پیدا',\n",
              " 772: 'سیصد',\n",
              " 773: 'روحانی',\n",
              " 774: 'عمل',\n",
              " 775: 'رماننویس',\n",
              " 776: 'بررسی',\n",
              " 777: 'سراسر',\n",
              " 778: 'رسیدهاست',\n",
              " 779: 'آفریقا',\n",
              " 780: 'مواد',\n",
              " 781: 'متعلق',\n",
              " 782: 'هفتم',\n",
              " 783: 'هنگام',\n",
              " 784: 'شب',\n",
              " 785: 'آزادی',\n",
              " 786: 'آمریکای',\n",
              " 787: 'موزه',\n",
              " 788: '۱۳۸۷',\n",
              " 789: '۳۴',\n",
              " 790: 'دور',\n",
              " 791: 'ابن',\n",
              " 792: 'بندر',\n",
              " 793: 'ورزشگاه',\n",
              " 794: 'ابراهیم',\n",
              " 795: 'قدیمی',\n",
              " 796: 'مانده',\n",
              " 797: 'صنعتی',\n",
              " 798: 'صاحب',\n",
              " 799: 'مشاور',\n",
              " 800: 'کالیفرنیا',\n",
              " 801: 'مطالعات',\n",
              " 802: 'کسی',\n",
              " 803: 'میگویند',\n",
              " 804: '۱۳۹۴',\n",
              " 805: 'عامل',\n",
              " 806: '۱۳۵۹',\n",
              " 807: '۱۳۸۴',\n",
              " 808: 'رابرت',\n",
              " 809: '۱۳۸۱',\n",
              " 810: 'داستانی',\n",
              " 811: 'مجید',\n",
              " 812: 'چینی',\n",
              " 813: 'تن',\n",
              " 814: 'چهارمین',\n",
              " 815: 'دیپلمات',\n",
              " 816: 'نوبل',\n",
              " 817: 'عرب',\n",
              " 818: 'کنونی',\n",
              " 819: '۱۹۷۰',\n",
              " 820: 'واحد',\n",
              " 821: 'رئیسجمهور',\n",
              " 822: 'ممکن',\n",
              " 823: 'تعریف',\n",
              " 824: 'نزدیکی',\n",
              " 825: 'اجرای',\n",
              " 826: 'ویلیام',\n",
              " 827: 'شخصیتهای',\n",
              " 828: 'طریق',\n",
              " 829: 'کشتیگیر',\n",
              " 830: 'رود',\n",
              " 831: 'شیمیایی',\n",
              " 832: '۱۳۵۰',\n",
              " 833: '۲۰۰۳',\n",
              " 834: 'تابع',\n",
              " 835: 'فرمانده',\n",
              " 836: 'مایکل',\n",
              " 837: 'محل',\n",
              " 838: 'ترانهسرا',\n",
              " 839: 'نزدیک',\n",
              " 840: 'معمار',\n",
              " 841: 'ملل',\n",
              " 842: '۱۳۲۹',\n",
              " 843: 'اواخر',\n",
              " 844: 'سرشناس',\n",
              " 845: 'نسخه',\n",
              " 846: 'مدال',\n",
              " 847: 'چهرههای',\n",
              " 848: '۱۳۴۹',\n",
              " 849: 'اصطلاح',\n",
              " 850: 'پنجم',\n",
              " 851: '۱۳۳۴',\n",
              " 852: 'انتشارات',\n",
              " 853: 'نسبت',\n",
              " 854: 'ورزشی',\n",
              " 855: 'گرفتهاست',\n",
              " 856: 'عملیات',\n",
              " 857: 'باشگاههای',\n",
              " 858: 'داخلی',\n",
              " 859: '۱۹۶۳',\n",
              " 860: 'بنا',\n",
              " 861: 'تحقیقات',\n",
              " 862: 'تولد',\n",
              " 863: '۱۳۵۶',\n",
              " 864: 'ضد',\n",
              " 865: 'نامزد',\n",
              " 866: 'ششم',\n",
              " 867: 'صفوی',\n",
              " 868: 'سیستان',\n",
              " 869: 'هنرهای',\n",
              " 870: 'درجه',\n",
              " 871: '۱۳۳۳',\n",
              " 872: 'سالگی',\n",
              " 873: '۱۳۲۵',\n",
              " 874: '۲۰۰۵',\n",
              " 875: '۱۹۵۰',\n",
              " 876: 'بی',\n",
              " 877: 'ترانه',\n",
              " 878: 'ششمین',\n",
              " 879: 'مهندس',\n",
              " 880: 'مسلمان',\n",
              " 881: 'قدیمیترین',\n",
              " 882: 'ترکیب',\n",
              " 883: 'مالی',\n",
              " 884: 'اعدام',\n",
              " 885: 'مازندران',\n",
              " 886: '۱۳۲۳',\n",
              " 887: '۱۳۱۷',\n",
              " 888: 'اکران',\n",
              " 889: 'in',\n",
              " 890: 'معاون',\n",
              " 891: 'کارهای',\n",
              " 892: 'هفتمین',\n",
              " 893: 'مقاله',\n",
              " 894: 'فارغالتحصیل',\n",
              " 895: '۱۹۸۰',\n",
              " 896: '۱۳۷۷',\n",
              " 897: 'پل',\n",
              " 898: '۱۹۸۲',\n",
              " 899: 'ریچارد',\n",
              " 900: 'اکبر',\n",
              " 901: 'موسی',\n",
              " 902: 'پنجمین',\n",
              " 903: 'عبارت',\n",
              " 904: 'بیستم',\n",
              " 905: 'دسته',\n",
              " 906: 'میلیون',\n",
              " 907: 'دهم',\n",
              " 908: 'سوئدی',\n",
              " 909: 'اتحاد',\n",
              " 910: '۱۳۶۱',\n",
              " 911: 'پارک',\n",
              " 912: '۲۰۰۲',\n",
              " 913: 'حالت',\n",
              " 914: 'سیاست',\n",
              " 915: '۵۲',\n",
              " 916: 'درمان',\n",
              " 917: '۳۲',\n",
              " 918: 'سرده',\n",
              " 919: 'رنگ',\n",
              " 920: 'کلیسای',\n",
              " 921: 'هق',\n",
              " 922: 'پروژه',\n",
              " 923: '۱۹۶۸',\n",
              " 924: 'رادیو',\n",
              " 925: '۱۳۳۷',\n",
              " 926: 'توجه',\n",
              " 927: 'کانادا',\n",
              " 928: 'مرحله',\n",
              " 929: '۱۳۹۰',\n",
              " 930: '۱۳۶۷',\n",
              " 931: '۱۳۹۹',\n",
              " 932: '۱۹۹۵',\n",
              " 933: '۱۹۴۵',\n",
              " 934: 'جیمز',\n",
              " 935: '۱۳۲۴',\n",
              " 936: '۱۳۲۸',\n",
              " 937: 'نخست',\n",
              " 938: 'اوایل',\n",
              " 939: 'استانبولی',\n",
              " 940: 'جنسی',\n",
              " 941: '۱۳۴۷',\n",
              " 942: '۱۳۳۸',\n",
              " 943: 'ناحیه',\n",
              " 944: 'آباد',\n",
              " 945: '۱۳۴۰',\n",
              " 946: 'طبیعی',\n",
              " 947: 'بیان',\n",
              " 948: 'تعداد',\n",
              " 949: 'خوانده',\n",
              " 950: 'فرهنگستان',\n",
              " 951: 'مطرح',\n",
              " 952: 'کوه',\n",
              " 953: '۰۱',\n",
              " 954: 'فقیه',\n",
              " 955: '۱۹۹۰',\n",
              " 956: 'دفتر',\n",
              " 957: 'دفاع',\n",
              " 958: 'صنعت',\n",
              " 959: '۱۳۵۴',\n",
              " 960: 'وارد',\n",
              " 961: '۱۹۸۱',\n",
              " 962: 'دکترای',\n",
              " 963: 'رضوی',\n",
              " 964: '۱۳۸۲',\n",
              " 965: 'مقابل',\n",
              " 966: 'نور',\n",
              " 967: 'مشخص',\n",
              " 968: '۱۳۳۲',\n",
              " 969: 'توزیع',\n",
              " 970: 'نظام',\n",
              " 971: '۱۹۶۰',\n",
              " 972: '۱۳۷۸',\n",
              " 973: 'شصت',\n",
              " 974: 'می',\n",
              " 975: 'بریتانیایی',\n",
              " 976: 'پیانو',\n",
              " 977: 'علمیه',\n",
              " 978: 'سابقه',\n",
              " 979: 'دیوید',\n",
              " 980: '۱۹۷۹',\n",
              " 981: '۱۹۷۷',\n",
              " 982: 'چهره',\n",
              " 983: 'برگزیده',\n",
              " 984: 'ادامه',\n",
              " 985: 'امروزه',\n",
              " 986: 'صفحه',\n",
              " 987: 'قدیم',\n",
              " 988: 'سرشماری',\n",
              " 989: 'موسوی',\n",
              " 990: 'اکنون',\n",
              " 991: 'مستند',\n",
              " 992: 'ق',\n",
              " 993: 'اطلاق',\n",
              " 994: 'کنترل',\n",
              " 995: 'نمایندگان',\n",
              " 996: 'پاکستان',\n",
              " 997: 'اولیه',\n",
              " 998: '۲۰۰۴',\n",
              " 999: 'متر',\n",
              " 1000: '۱۳۷۹',\n",
              " ...}"
            ]
          },
          "metadata": {},
          "execution_count": 58
        }
      ]
    },
    {
      "cell_type": "code",
      "source": [
        "while not stop_condition:\n",
        "\n",
        "    preds, st = decoder_model.predict([state_value, body_encoding])\n",
        "\n",
        "    pred_idx = np.argmax(preds[:, :, 2:]) + 2\n",
        "    pred_word_str = vocabulary_inv[pred_idx]\n",
        "    print(pred_word_str)\n",
        "    if pred_word_str == '_end_' or len(decoded_sentence) >= maxlen2:\n",
        "        stop_condition = True\n",
        "        break\n",
        "    decoded_sentence.append(pred_word_str)\n",
        "\n",
        "    # update the decoder for the next word\n",
        "    body_encoding = st\n",
        "    state_value = np.array(pred_idx).reshape(1, 1)"
      ],
      "metadata": {
        "id": "9pnqN3GH9Uwb",
        "colab": {
          "base_uri": "https://localhost:8080/"
        },
        "outputId": "1e0f8a62-c13f-463b-c666-78a1cf625cbe"
      },
      "execution_count": null,
      "outputs": [
        {
          "output_type": "stream",
          "name": "stdout",
          "text": [
            "روستایی\n",
            "است\n",
            "در\n",
            "بخش\n",
            "مرکزی\n",
            "شهرستان\n",
            "قرار\n",
            "دارد\n",
            "_end_\n"
          ]
        }
      ]
    },
    {
      "cell_type": "code",
      "source": [
        "# plot_model(model, to_file='model_plot.png', show_shapes=True, show_layer_names=True)"
      ],
      "metadata": {
        "id": "reOih6-dPj6S"
      },
      "execution_count": null,
      "outputs": []
    }
  ]
}